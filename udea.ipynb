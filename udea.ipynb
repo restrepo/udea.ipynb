{
  "cells": [
    {
      "cell_type": "markdown",
      "metadata": {
        "id": "view-in-github",
        "colab_type": "text"
      },
      "source": [
        "<a href=\"https://colab.research.google.com/github/restrepo/udea.ipynb/blob/main/udea.ipynb\" target=\"_parent\"><img src=\"https://colab.research.google.com/assets/colab-badge.svg\" alt=\"Open In Colab\"/></a>"
      ]
    },
    {
      "cell_type": "markdown",
      "id": "e0175a95-5fb6-479d-a494-b14d7e8b120c",
      "metadata": {
        "id": "e0175a95-5fb6-479d-a494-b14d7e8b120c"
      },
      "source": [
        "# REST-API example impactu"
      ]
    },
    {
      "cell_type": "code",
      "source": [
        "!pip install unidecode"
      ],
      "metadata": {
        "colab": {
          "base_uri": "https://localhost:8080/"
        },
        "id": "kH_eSJR3RGe9",
        "outputId": "5c981b46-382a-463b-c53a-3e3e798dcc99"
      },
      "id": "kH_eSJR3RGe9",
      "execution_count": 1,
      "outputs": [
        {
          "output_type": "stream",
          "name": "stdout",
          "text": [
            "Requirement already satisfied: unidecode in /usr/local/lib/python3.11/dist-packages (1.3.8)\n"
          ]
        }
      ]
    },
    {
      "cell_type": "code",
      "execution_count": 2,
      "id": "df3e240a-624a-452f-ae5e-08b29e45abb7",
      "metadata": {
        "id": "df3e240a-624a-452f-ae5e-08b29e45abb7"
      },
      "outputs": [],
      "source": [
        "import pandas as pd\n",
        "import requests\n",
        "import json\n",
        "from IPython.display import JSON\n",
        "from unidecode import unidecode\n",
        "def flatten(xss):\n",
        "    return [x for xs in xss for x in xs]"
      ]
    },
    {
      "cell_type": "markdown",
      "id": "7a65fa5f-43f2-4aa8-a270-9db2673a875c",
      "metadata": {
        "id": "7a65fa5f-43f2-4aa8-a270-9db2673a875c"
      },
      "source": [
        "Obtain \"Uiversidad de Antioquia\" works"
      ]
    },
    {
      "cell_type": "code",
      "execution_count": 5,
      "id": "95dbcdbe-ce06-419a-b9c3-bba540ef03bc",
      "metadata": {
        "colab": {
          "base_uri": "https://localhost:8080/"
        },
        "id": "95dbcdbe-ce06-419a-b9c3-bba540ef03bc",
        "outputId": "580886f0-b5a2-4a8e-9a5f-4f43f92bcffc"
      },
      "outputs": [
        {
          "output_type": "stream",
          "name": "stdout",
          "text": []
        }
      ],
      "source": [
        "import pandas as pd\n",
        "import requests\n",
        "#%%time\n",
        "DJ = []\n",
        "total = 107122\n",
        "#total = 965\n",
        "page_ini = 1\n",
        "max_page = 250\n",
        "extra_page = 0\n",
        "if total%max_page != 0:\n",
        "    extra_page = 1\n",
        "page_end = total//max_page + extra_page\n",
        "for p in range(page_ini,page_end+1):\n",
        "    url = f'https://api.impactu.colav.co/affiliation/institution/03bp5hc83/research/products?max={max_page}&page={p}'\n",
        "    #url = f'https://api.impactu.colav.co/search/works?max={max_page}&page={p}&status=diamond&subjects=1_Library+science'\n",
        "    dj = requests.get(url)\n",
        "    if dj.status_code == 200:\n",
        "        print(p,end=\"\\r\")\n",
        "        jl = dj.json()['data']\n",
        "        for d in jl:\n",
        "            kk = d.pop('abstracts')\n",
        "        i = 0\n",
        "        for d in jl:\n",
        "            if len(jl[i]['authors']) > 100000: #10\n",
        "                kk = jl.pop(i)\n",
        "            else:\n",
        "                i += 1\n",
        "\n",
        "\n",
        "        DJ = DJ +  jl"
      ]
    },
    {
      "cell_type": "code",
      "execution_count": null,
      "id": "7ca064be-0ffa-45fa-ae64-14fad89ed26d",
      "metadata": {
        "id": "7ca064be-0ffa-45fa-ae64-14fad89ed26d",
        "outputId": "f1b4dc41-e3ee-4bfe-c125-938869205854"
      },
      "outputs": [
        {
          "data": {
            "text/plain": [
              "107250"
            ]
          },
          "execution_count": 238,
          "metadata": {},
          "output_type": "execute_result"
        }
      ],
      "source": [
        "len(DJ) # → 104258"
      ]
    },
    {
      "cell_type": "code",
      "source": [
        "from google.colab import drive\n",
        "drive.mount('/content/drive')"
      ],
      "metadata": {
        "colab": {
          "base_uri": "https://localhost:8080/"
        },
        "id": "gbYAiivGUPM7",
        "outputId": "2db09603-781f-4591-c684-d93effe2b13c"
      },
      "id": "gbYAiivGUPM7",
      "execution_count": 3,
      "outputs": [
        {
          "output_type": "stream",
          "name": "stdout",
          "text": [
            "Drive already mounted at /content/drive; to attempt to forcibly remount, call drive.mount(\"/content/drive\", force_remount=True).\n"
          ]
        }
      ]
    },
    {
      "cell_type": "code",
      "source": [
        "cd \"/content/drive/Shareddrives/Colav/7.Datos/ImpactU/Universidad de Antioquia\""
      ],
      "metadata": {
        "colab": {
          "base_uri": "https://localhost:8080/"
        },
        "id": "DDw1wcLqV3f4",
        "outputId": "b47aedae-bca3-45aa-dacb-28a3c6a03947"
      },
      "id": "DDw1wcLqV3f4",
      "execution_count": 4,
      "outputs": [
        {
          "output_type": "stream",
          "name": "stdout",
          "text": [
            "/content/drive/Shareddrives/Colav/7.Datos/ImpactU/Universidad de Antioquia\n"
          ]
        }
      ]
    },
    {
      "cell_type": "markdown",
      "id": "da29bd81-3313-4fd4-a481-b885f9888230",
      "metadata": {
        "id": "da29bd81-3313-4fd4-a481-b885f9888230"
      },
      "source": [
        "save the list to a JSON file"
      ]
    },
    {
      "cell_type": "code",
      "execution_count": 25,
      "id": "367cba4b-88da-4af2-84ed-560286404efc",
      "metadata": {
        "id": "367cba4b-88da-4af2-84ed-560286404efc"
      },
      "outputs": [],
      "source": [
        "f = open('udea.json','w')\n",
        "json.dump(DJ,f)\n",
        "f.close()"
      ]
    },
    {
      "cell_type": "code",
      "execution_count": 26,
      "id": "c02e6be6-da81-4b9f-a657-df1d60f5d734",
      "metadata": {
        "colab": {
          "base_uri": "https://localhost:8080/"
        },
        "id": "c02e6be6-da81-4b9f-a657-df1d60f5d734",
        "outputId": "a5aefb57-e99b-40e8-a78d-6099e9c9d63d"
      },
      "outputs": [
        {
          "output_type": "stream",
          "name": "stdout",
          "text": [
            "-rw------- 1 root root 1.6G Apr 11 15:00 udea.json\n",
            "-rw------- 1 root root 1.6G Apr 11 14:56 udea_old.json\n"
          ]
        }
      ],
      "source": [
        "ls -lh udea*.json"
      ]
    },
    {
      "cell_type": "code",
      "execution_count": 5,
      "id": "e230cb90-0684-41dd-b107-68342c65f66e",
      "metadata": {
        "id": "e230cb90-0684-41dd-b107-68342c65f66e"
      },
      "outputs": [],
      "source": [
        "f = open('udea.json','r')\n",
        "DJ = json.load(f)\n",
        "f.close()"
      ]
    },
    {
      "cell_type": "markdown",
      "id": "4611786d-3970-4abd-b87b-4cff27c10834",
      "metadata": {
        "id": "4611786d-3970-4abd-b87b-4cff27c10834"
      },
      "source": [
        "## Analysis in pandas"
      ]
    },
    {
      "cell_type": "markdown",
      "id": "faeaeb2a-9c85-492b-8332-f83555de8948",
      "metadata": {
        "id": "faeaeb2a-9c85-492b-8332-f83555de8948"
      },
      "source": [
        "### Authors"
      ]
    },
    {
      "cell_type": "code",
      "execution_count": 6,
      "id": "1d32c2f9-fae8-4f16-88a9-6f08ffc8712e",
      "metadata": {
        "id": "1d32c2f9-fae8-4f16-88a9-6f08ffc8712e"
      },
      "outputs": [],
      "source": [
        "df = pd.DataFrame(DJ)"
      ]
    },
    {
      "cell_type": "code",
      "execution_count": 7,
      "id": "d8bed52c-0106-4419-9e0e-7c79fb18d99f",
      "metadata": {
        "id": "d8bed52c-0106-4419-9e0e-7c79fb18d99f"
      },
      "outputs": [],
      "source": [
        "del DJ"
      ]
    },
    {
      "cell_type": "code",
      "execution_count": 8,
      "id": "9be33ea6-12e0-4fd4-970c-0f37b4dab039",
      "metadata": {
        "colab": {
          "base_uri": "https://localhost:8080/"
        },
        "id": "9be33ea6-12e0-4fd4-970c-0f37b4dab039",
        "outputId": "b9a316d4-875b-439f-b5c8-d6e2e9ed9c5c"
      },
      "outputs": [
        {
          "output_type": "execute_result",
          "data": {
            "text/plain": [
              "(107000, 23)"
            ]
          },
          "metadata": {},
          "execution_count": 8
        }
      ],
      "source": [
        "df.shape"
      ]
    },
    {
      "cell_type": "code",
      "execution_count": 9,
      "id": "3b7dc3c8-df54-4c39-ae36-9b50478fda70",
      "metadata": {
        "id": "3b7dc3c8-df54-4c39-ae36-9b50478fda70"
      },
      "outputs": [],
      "source": [
        "df['authors_udea']=df.authors.apply(lambda L: [d for d in L if str(d).find(\"'name': 'Universidad de Antioquia'\") > -1])"
      ]
    },
    {
      "cell_type": "code",
      "execution_count": null,
      "id": "bd37ea1e-a9fe-442d-b91a-da5362aea7e2",
      "metadata": {
        "id": "bd37ea1e-a9fe-442d-b91a-da5362aea7e2"
      },
      "outputs": [],
      "source": [
        "df['authors_fcen']=df.authors.apply(lambda L: [d for d in L if str(d).find(\"'name': 'Facultad de Ciencias Exactas y Naturales'\") > -1])"
      ]
    },
    {
      "cell_type": "markdown",
      "id": "8d74168c-a045-4b7d-a6e4-1c5ae5a82b44",
      "metadata": {
        "id": "8d74168c-a045-4b7d-a6e4-1c5ae5a82b44"
      },
      "source": [
        "search authors"
      ]
    },
    {
      "cell_type": "code",
      "execution_count": null,
      "id": "f4c1220f-9121-4f46-a74e-db0f1a7b1bf3",
      "metadata": {
        "id": "f4c1220f-9121-4f46-a74e-db0f1a7b1bf3",
        "outputId": "cf582461-a366-4f39-87a4-cca694165293"
      },
      "outputs": [
        {
          "data": {
            "text/html": [
              "<div>\n",
              "<style scoped>\n",
              "    .dataframe tbody tr th:only-of-type {\n",
              "        vertical-align: middle;\n",
              "    }\n",
              "\n",
              "    .dataframe tbody tr th {\n",
              "        vertical-align: top;\n",
              "    }\n",
              "\n",
              "    .dataframe thead th {\n",
              "        text-align: right;\n",
              "    }\n",
              "</style>\n",
              "<table border=\"1\" class=\"dataframe\">\n",
              "  <thead>\n",
              "    <tr style=\"text-align: right;\">\n",
              "      <th></th>\n",
              "      <th>apc</th>\n",
              "      <th>authors</th>\n",
              "      <th>authors_count</th>\n",
              "      <th>bibliographic_info</th>\n",
              "      <th>citations</th>\n",
              "      <th>citations_by_year</th>\n",
              "      <th>citations_count</th>\n",
              "      <th>date_published</th>\n",
              "      <th>doi</th>\n",
              "      <th>external_ids</th>\n",
              "      <th>...</th>\n",
              "      <th>types</th>\n",
              "      <th>updated</th>\n",
              "      <th>year_published</th>\n",
              "      <th>provenance</th>\n",
              "      <th>type</th>\n",
              "      <th>level_0_scienti</th>\n",
              "      <th>level_1_scienti</th>\n",
              "      <th>level_2_scienti</th>\n",
              "      <th>level_0_minciencias</th>\n",
              "      <th>level_1_minciencias</th>\n",
              "    </tr>\n",
              "  </thead>\n",
              "  <tbody>\n",
              "    <tr>\n",
              "      <th>0</th>\n",
              "      <td>{'paid': {}}</td>\n",
              "      <td>[{'affiliations': [{'end_date': -1, 'geo': {'city': 'Toulouse', 'country': 'France', 'country_code': 'FR', 'latitude': 43.595085, 'longitude': 1.416743}, 'id': '03er61e50', 'name': 'Clinique Paste...</td>\n",
              "      <td>4</td>\n",
              "      <td>{}</td>\n",
              "      <td>[]</td>\n",
              "      <td>[{'cited_by_count': 1, 'year': 2024}, {'cited_by_count': 1, 'year': 2023}, {'cited_by_count': 1, 'year': 2022}, {'cited_by_count': 2, 'year': 2021}, {'cited_by_count': 1, 'year': 2020}, {'cited_by...</td>\n",
              "      <td>[{'count': 10, 'source': 'openalex'}]</td>\n",
              "      <td>1.625548e+09</td>\n",
              "      <td>https://doi.org/10.0000/0000</td>\n",
              "      <td>[{'id': 'https://openalex.org/W4287469585', 'provenance': 'openalex', 'source': 'openalex'}, {'id': 'https://doi.org/10.0000/0000', 'provenance': 'openalex', 'source': 'doi'}, {'id': '0000215856-1...</td>\n",
              "      <td>...</td>\n",
              "      <td>[{'provenance': 'openalex', 'source': 'openalex', 'type': 'preprint'}, {'provenance': 'openalex', 'source': 'crossref', 'type': 'journal-article'}, {'code': '111', 'level': 2, 'provenance': 'scien...</td>\n",
              "      <td>[{'source': 'openalex', 'time': 1740297049}, {'source': 'scienti', 'time': 1740344705}, {'source': 'scienti', 'time': 1740354001}, {'source': 'minciencias', 'time': 1740365754}]</td>\n",
              "      <td>2021.0</td>\n",
              "      <td>{scienti, minciencias, openalex}</td>\n",
              "      <td>{Artículo, Nuevo conocimiento, Publicado en revista especializada, Producción bibliográfica, journal-article, Artículos de investigación, preprint}</td>\n",
              "      <td>{Producción bibliográfica}</td>\n",
              "      <td>{Artículo}</td>\n",
              "      <td>{Publicado en revista especializada}</td>\n",
              "      <td>{Nuevo conocimiento}</td>\n",
              "      <td>{Artículos de investigación}</td>\n",
              "    </tr>\n",
              "  </tbody>\n",
              "</table>\n",
              "<p>1 rows × 30 columns</p>\n",
              "</div>"
            ],
            "text/plain": [
              "            apc  \\\n",
              "0  {'paid': {}}   \n",
              "\n",
              "                                                                                                                                                                                                   authors  \\\n",
              "0  [{'affiliations': [{'end_date': -1, 'geo': {'city': 'Toulouse', 'country': 'France', 'country_code': 'FR', 'latitude': 43.595085, 'longitude': 1.416743}, 'id': '03er61e50', 'name': 'Clinique Paste...   \n",
              "\n",
              "   authors_count bibliographic_info citations  \\\n",
              "0              4                 {}        []   \n",
              "\n",
              "                                                                                                                                                                                         citations_by_year  \\\n",
              "0  [{'cited_by_count': 1, 'year': 2024}, {'cited_by_count': 1, 'year': 2023}, {'cited_by_count': 1, 'year': 2022}, {'cited_by_count': 2, 'year': 2021}, {'cited_by_count': 1, 'year': 2020}, {'cited_by...   \n",
              "\n",
              "                         citations_count  date_published  \\\n",
              "0  [{'count': 10, 'source': 'openalex'}]    1.625548e+09   \n",
              "\n",
              "                            doi  \\\n",
              "0  https://doi.org/10.0000/0000   \n",
              "\n",
              "                                                                                                                                                                                              external_ids  \\\n",
              "0  [{'id': 'https://openalex.org/W4287469585', 'provenance': 'openalex', 'source': 'openalex'}, {'id': 'https://doi.org/10.0000/0000', 'provenance': 'openalex', 'source': 'doi'}, {'id': '0000215856-1...   \n",
              "\n",
              "   ...  \\\n",
              "0  ...   \n",
              "\n",
              "                                                                                                                                                                                                     types  \\\n",
              "0  [{'provenance': 'openalex', 'source': 'openalex', 'type': 'preprint'}, {'provenance': 'openalex', 'source': 'crossref', 'type': 'journal-article'}, {'code': '111', 'level': 2, 'provenance': 'scien...   \n",
              "\n",
              "                                                                                                                                                                             updated  \\\n",
              "0  [{'source': 'openalex', 'time': 1740297049}, {'source': 'scienti', 'time': 1740344705}, {'source': 'scienti', 'time': 1740354001}, {'source': 'minciencias', 'time': 1740365754}]   \n",
              "\n",
              "  year_published                        provenance  \\\n",
              "0         2021.0  {scienti, minciencias, openalex}   \n",
              "\n",
              "                                                                                                                                                  type  \\\n",
              "0  {Artículo, Nuevo conocimiento, Publicado en revista especializada, Producción bibliográfica, journal-article, Artículos de investigación, preprint}   \n",
              "\n",
              "              level_0_scienti level_1_scienti  \\\n",
              "0  {Producción bibliográfica}      {Artículo}   \n",
              "\n",
              "                        level_2_scienti   level_0_minciencias  \\\n",
              "0  {Publicado en revista especializada}  {Nuevo conocimiento}   \n",
              "\n",
              "            level_1_minciencias  \n",
              "0  {Artículos de investigación}  \n",
              "\n",
              "[1 rows x 30 columns]"
            ]
          },
          "execution_count": 97,
          "metadata": {},
          "output_type": "execute_result"
        }
      ],
      "source": [
        "df[:1]"
      ]
    },
    {
      "cell_type": "code",
      "execution_count": null,
      "id": "00b041e3-4fe6-4785-9a2e-a3316f73f018",
      "metadata": {
        "id": "00b041e3-4fe6-4785-9a2e-a3316f73f018"
      },
      "outputs": [],
      "source": [
        "full_name = 'diego alejandro restrepo quintero'\n",
        "#full_name = 'carlos alberto duque echeverri'\n",
        "dfa = df[df.authors.apply(lambda L: any([True for d in L if unidecode(str(d.get('full_name')).lower()) == full_name ]))]"
      ]
    },
    {
      "cell_type": "markdown",
      "id": "e8ffdc87-a996-4b6b-8c19-e9f36d71e3e2",
      "metadata": {
        "id": "e8ffdc87-a996-4b6b-8c19-e9f36d71e3e2"
      },
      "source": [
        "Check the json:"
      ]
    },
    {
      "cell_type": "code",
      "execution_count": null,
      "id": "fefef276-181d-40e8-9c53-3a86b704d513",
      "metadata": {
        "id": "fefef276-181d-40e8-9c53-3a86b704d513"
      },
      "outputs": [],
      "source": [
        "#JSON(dfa.authors.iloc[0])"
      ]
    },
    {
      "cell_type": "markdown",
      "id": "dea62903-0191-4d04-9b12-33eed5994032",
      "metadata": {
        "id": "dea62903-0191-4d04-9b12-33eed5994032"
      },
      "source": [
        "De conformidad  con lo dispuesto en el Acuerdo Superior 083 del 22 de julio de 1996 (Estatuto profesoral) la carrera docente de la institución se compone  de las categorías de profesor auxiliar, profesor asistente, profesor asociado y profesor titular."
      ]
    },
    {
      "cell_type": "code",
      "execution_count": null,
      "id": "044b148b-cb1d-488f-8441-a2462c81e2d7",
      "metadata": {
        "id": "044b148b-cb1d-488f-8441-a2462c81e2d7"
      },
      "outputs": [],
      "source": [
        "#JSON(df.authors.iloc[80049])"
      ]
    },
    {
      "cell_type": "markdown",
      "id": "b5c03d3f-d3d7-4d7c-b810-f4593d6bc903",
      "metadata": {
        "id": "b5c03d3f-d3d7-4d7c-b810-f4593d6bc903"
      },
      "source": [
        "remove not scienti authors..."
      ]
    },
    {
      "cell_type": "code",
      "execution_count": null,
      "id": "b4fb944e-cbd1-4741-b801-fc30dc48ad73",
      "metadata": {
        "id": "b4fb944e-cbd1-4741-b801-fc30dc48ad73"
      },
      "outputs": [],
      "source": [
        "df['scienti_authors'] = df.authors.apply(lambda L: [\n",
        "                          {'COD_RH':d.get('external_ids')[0].get('id'),\n",
        "                           'last_names':d.get('last_names'),\n",
        "                           'first_names':d.get('first_names'),\n",
        "                           'sex':d.get('sex').lower(),\n",
        "                           'age':d.get('age'),\n",
        "                           'affiliations': [{'name': dd.get('name'),\n",
        "                                             'id': dd.get('id'),\n",
        "                                             'type': dd.get('types')[0].get('type')\n",
        "                                            } for dd in d.get('affiliations')],\n",
        "                           'ranking': [dd for dd in d.get('ranking') if dd.get('source') == 'categoría_laboral' ]\n",
        "                          } for d in L\n",
        "                            if d.get('sex') and\n",
        "                            any([True for dd in d.get('external_ids')\n",
        "                                 if dd.get('provenance') == 'scienti' and dd.get('source') == 'scienti'])   ])"
      ]
    },
    {
      "cell_type": "code",
      "execution_count": null,
      "id": "9f50aa4c-7f8c-4017-b54d-f04720c51d25",
      "metadata": {
        "id": "9f50aa4c-7f8c-4017-b54d-f04720c51d25",
        "outputId": "3e24a88b-8a9a-4ce9-db8a-fb5fc5ae63c1"
      },
      "outputs": [
        {
          "data": {
            "text/plain": [
              "(125924, 7)"
            ]
          },
          "execution_count": 12,
          "metadata": {},
          "output_type": "execute_result"
        }
      ],
      "source": [
        "L = df['scienti_authors'].to_list()\n",
        "L = flatten(L)\n",
        "dfL = pd.DataFrame(L)\n",
        "del L\n",
        "dfL.shape"
      ]
    },
    {
      "cell_type": "code",
      "execution_count": null,
      "id": "14adbe77-347a-43ef-bff9-da9b7838e5d6",
      "metadata": {
        "id": "14adbe77-347a-43ef-bff9-da9b7838e5d6"
      },
      "outputs": [],
      "source": [
        "udea = dfL[dfL['affiliations'].apply(lambda L: [d.get('name') for d in L\n",
        "         if d.get('type') == 'Education' and d.get('name') == 'Universidad de Antioquia']).apply(len)>0\n",
        "         ].reset_index(drop=True)"
      ]
    },
    {
      "cell_type": "code",
      "execution_count": null,
      "id": "fbd0df31-5644-4c69-9f67-91b0f32693c4",
      "metadata": {
        "id": "fbd0df31-5644-4c69-9f67-91b0f32693c4",
        "outputId": "00a39bce-2820-4e53-8390-b1a5ac34fff2"
      },
      "outputs": [
        {
          "data": {
            "text/plain": [
              "['Universidad de Antioquia']"
            ]
          },
          "execution_count": 14,
          "metadata": {},
          "output_type": "execute_result"
        }
      ],
      "source": [
        "udea['affiliations'].apply(lambda L: [d.get('name') for d in L\n",
        "         if d.get('type') == 'Education']).iloc[0]"
      ]
    },
    {
      "cell_type": "code",
      "execution_count": null,
      "id": "161078a0-78eb-4783-88bf-8f3c71b4e786",
      "metadata": {
        "id": "161078a0-78eb-4783-88bf-8f3c71b4e786",
        "outputId": "ce72d6f5-84ee-45ba-c27f-5ee8cdf4f60d"
      },
      "outputs": [
        {
          "data": {
            "text/plain": [
              "[{'name': 'Universidad de Antioquia', 'id': '03bp5hc83', 'type': 'Education'},\n",
              " {'name': 'Instituto de Biología',\n",
              "  'id': '03bp5hc83_3_21420003_3513',\n",
              "  'type': 'department'},\n",
              " {'name': 'Facultad de Ciencias Exactas y Naturales',\n",
              "  'id': '03bp5hc83_3',\n",
              "  'type': 'faculty'},\n",
              " {'name': 'Gebiomic (genética y Bioquímica de Microorganismos)',\n",
              "  'id': 'COL0014064',\n",
              "  'type': 'group'}]"
            ]
          },
          "execution_count": 15,
          "metadata": {},
          "output_type": "execute_result"
        }
      ],
      "source": [
        "udea.affiliations.iloc[0]"
      ]
    },
    {
      "cell_type": "code",
      "execution_count": null,
      "id": "7de16f0e-2f71-4ae1-9648-45173ea318b4",
      "metadata": {
        "id": "7de16f0e-2f71-4ae1-9648-45173ea318b4"
      },
      "outputs": [],
      "source": [
        "ror = '03bp5hc83'\n",
        "udea['faculty'] = udea['affiliations'].apply(lambda L: [d.get('name') for d in L\n",
        "         if d.get('type') == 'faculty' and d.get('id').find(ror) > -1  ]).apply(lambda L: L  if len(L) > 0 else\n",
        "                                                ['unknown']).str[0]\n",
        "udea['department'] = udea['affiliations'].apply(lambda L: [d.get('name') for d in L\n",
        "         if d.get('type') == 'department' and d.get('id').find(ror) > -1 ]).apply(lambda L: L  if len(L) > 0 else\n",
        "                                                ['unknown']).str[0]\n",
        "\n",
        "udea['group'] = udea['affiliations'].apply(lambda L: [d.get('name') for d in L\n",
        "         if d.get('type') == 'group' ]).apply(lambda L: L  if len(L) > 0 else\n",
        "                                                ['unknown']).str[0]"
      ]
    },
    {
      "cell_type": "code",
      "execution_count": null,
      "id": "aac0e17d-da5e-4014-956e-89fa9ec02e01",
      "metadata": {
        "id": "aac0e17d-da5e-4014-956e-89fa9ec02e01",
        "outputId": "f2f53801-d846-4d89-f275-93c4bc0028b4"
      },
      "outputs": [
        {
          "data": {
            "text/plain": [
              "(99250, 10)"
            ]
          },
          "execution_count": 17,
          "metadata": {},
          "output_type": "execute_result"
        }
      ],
      "source": [
        "udea.shape"
      ]
    },
    {
      "cell_type": "code",
      "execution_count": null,
      "id": "b5fe5617-b730-43cf-b950-b41503f67023",
      "metadata": {
        "id": "b5fe5617-b730-43cf-b950-b41503f67023",
        "outputId": "b9c5d8ee-afa3-4df6-df2d-3291b038b0be"
      },
      "outputs": [
        {
          "data": {
            "text/plain": [
              "(2673, 10)"
            ]
          },
          "execution_count": 18,
          "metadata": {},
          "output_type": "execute_result"
        }
      ],
      "source": [
        "udea.drop_duplicates(subset=['COD_RH','sex','age','faculty','department','group']).shape"
      ]
    },
    {
      "cell_type": "code",
      "execution_count": null,
      "id": "bc920e9a-3d9d-4af2-893f-2581a92862d5",
      "metadata": {
        "id": "bc920e9a-3d9d-4af2-893f-2581a92862d5",
        "outputId": "cff7044d-debc-49f5-e5a3-1f883102afa8"
      },
      "outputs": [
        {
          "data": {
            "text/plain": [
              "(2673, 10)"
            ]
          },
          "execution_count": 19,
          "metadata": {},
          "output_type": "execute_result"
        }
      ],
      "source": [
        "udea.drop_duplicates(subset=['COD_RH']).shape"
      ]
    },
    {
      "cell_type": "code",
      "execution_count": null,
      "id": "9312c9b9-fed8-40c8-bfb2-4016004eade9",
      "metadata": {
        "id": "9312c9b9-fed8-40c8-bfb2-4016004eade9"
      },
      "outputs": [],
      "source": [
        "udea = udea.drop_duplicates(subset=['COD_RH']).reset_index(drop=True)"
      ]
    },
    {
      "cell_type": "code",
      "execution_count": null,
      "id": "d982f9f2-0b0e-4632-be1b-955d4b5c6b10",
      "metadata": {
        "id": "d982f9f2-0b0e-4632-be1b-955d4b5c6b10",
        "outputId": "2d30ccfa-e99c-44ce-ba49-fe6073c7f7fd"
      },
      "outputs": [
        {
          "name": "stdout",
          "output_type": "stream",
          "text": [
            "44.5 % of 2673\n"
          ]
        }
      ],
      "source": [
        "fm = udea['sex'].value_counts()\n",
        "print(f\"{round(fm['mujer']/(fm['mujer']+fm['hombre'])*100,1)} % of {fm['mujer']+fm['hombre']}\")"
      ]
    },
    {
      "cell_type": "code",
      "execution_count": null,
      "id": "7d7953bf-1dd3-415b-b91c-33316854facb",
      "metadata": {
        "id": "7d7953bf-1dd3-415b-b91c-33316854facb",
        "outputId": "e3e886a7-01c6-4d17-add2-f89a3bfeebb5"
      },
      "outputs": [
        {
          "name": "stdout",
          "output_type": "stream",
          "text": [
            "UdeA: 44.5 % of 2673\n",
            "Facultad de Ciencias Exactas y Naturales: 25.3 % of 293\n",
            "   Instituto de Biología: 44.0 % of 75\n",
            "   Instituto de Química: 26.2 % of 80\n",
            "   Instituto de Física: 11.5 % of 78\n",
            "   unknown: 33.3 % of 3\n",
            "   Departamento de Matemáticas: 16.7 % of 54\n",
            "   Programa Ingeniería Civil: 0.0 % of 1\n",
            "   Programa Regionalización Urabá: 50.0 % of 2\n",
            "Facultad de Medicina: 43.9 % of 478\n",
            "   Departamento de Cirugía: 23.7 % of 59\n",
            "   Departamento de Pediatría y Puericultura: 53.4 % of 73\n",
            "   Departamento de Farmacología y Toxicología: 50.0 % of 22\n",
            "   Departamento de Microbiología y Parasitología: 56.1 % of 57\n",
            "   Departamento de Medicina Interna: 29.9 % of 77\n",
            "   Instituto de Investigaciones Médicas: 46.2 % of 39\n",
            "   Centro de Investigaciones Médicas: 57.1 % of 7\n",
            "   Departamento de Fisiología: 40.7 % of 27\n",
            "   Departamento de Siquiatría y Ciencias del Comportamiento Humano: 29.4 % of 17\n",
            "   Departamento de Morfología: 37.5 % of 8\n",
            "   Departamento de Bioquímica: 33.3 % of 3\n",
            "   Departamento de Obstetricia y Ginecología: 56.2 % of 16\n",
            "   Departamento de Patología: 42.9 % of 7\n",
            "   Departamento de Educación Médica: 50.0 % of 22\n",
            "   Departamento de Medicina Física y Rehabilitación: 58.3 % of 12\n",
            "   Departamento de Medicina Preventiva y Salud Pública: 66.7 % of 21\n",
            "   Departamento de Radiología y Radioterapia: 45.5 % of 11\n",
            "Escuela de Microbiología: 64.8 % of 88\n",
            "   Departamento de Formación Académica: 64.8 % of 88\n",
            "Facultad de Ciencias Agrarias: 41.3 % of 92\n",
            "   Departamento de  Producción Agropecuaria: 35.5 % of 31\n",
            "   Escuela de Medicina Veterinaria: 42.9 % of 56\n",
            "   Escuela de Producción Agropecuaria: 60.0 % of 5\n",
            "Facultad de Ingeniería: 29.0 % of 314\n",
            "   Departamento de Ingeniería Metalúrgica: 26.5 % of 34\n",
            "   Departamento de Ingeniería Mecánica: 9.5 % of 21\n",
            "   Departamento de Ingeniería Sanitaria  y Ambiental: 33.3 % of 42\n",
            "   Programa Bioingeniería: 40.9 % of 22\n",
            "   Departamento de Ingeniería Quimica: 32.1 % of 28\n",
            "   Departamento de Ingeniería Química: 75.0 % of 12\n",
            "   Departamento de Ingeniería Electrónica: 17.4 % of 23\n",
            "   Departamento de Ingeniería Eléctrica: 5.3 % of 19\n",
            "   Programa Ingeniería de Telecomunicaciones: 11.1 % of 18\n",
            "   Programa Ingeniería Civil: 46.2 % of 13\n",
            "   Departamento de Ingeniería Sanitaria y Ambiental: 22.2 % of 9\n",
            "   Departamento de Ingeniería Industrial: 35.3 % of 34\n",
            "   Departamento de Ingeniería de Sistemas: 30.0 % of 30\n",
            "   Decanatura Facultad de Ingeniería: 37.5 % of 8\n",
            "   Programa de Ingeniería de Telecomunicaciones: 0.0 % of 1\n",
            "Escuela de Nutrición y Dietética: 81.5 % of 54\n",
            "   Departamento de Formación Académica: 81.5 % of 54\n",
            "Facultad de Ciencias Farmacéuticas y Alimentarias: 55.1 % of 78\n",
            "   Departamento de Farmacia: 46.9 % of 49\n",
            "   Departamento de Alimentos: 69.0 % of 29\n",
            "Facultad de Odontología: 52.3 % of 86\n",
            "   Departamento de Estudios Básicos Integrados: 52.3 % of 86\n",
            "Facultad de Ciencias Sociales y Humanas: 48.6 % of 183\n",
            "   Departamento de Historia: 44.1 % of 34\n",
            "   Departamento de Antropología: 54.5 % of 33\n",
            "   Departamento de Sicología: 48.5 % of 33\n",
            "   Departamento de Trabajo Social: 69.7 % of 33\n",
            "   Departamento de Sociología: 27.6 % of 29\n",
            "   Decanatura Facultad de Ciencias Sociales y Humanas: 60.0 % of 5\n",
            "   Departamento de Psicoanálisis: 40.0 % of 15\n",
            "   Centro de Investigación y Extensión en Ciencias Sociales y Humanas: 0.0 % of 1\n",
            "Facultad Nacional de Salud Pública: 45.2 % of 93\n",
            "   Departamento de Ciencias Específicas: 42.5 % of 40\n",
            "   Departamento de Ciencias Básicas: 48.1 % of 52\n",
            "   Decanatura Facultad Nacional de Salud Pública: 0.0 % of 1\n",
            "Corporación Ambiental: 37.5 % of 8\n",
            "   unknown: 28.6 % of 7\n",
            "   Programa Regionalización Urabá: 100.0 % of 1\n",
            "Facultad de Educación: 64.0 % of 125\n",
            "   Departamento de Pedagogía: 56.8 % of 44\n",
            "   Departamento de Enseñanza de las Ciencias y las Artes: 59.1 % of 44\n",
            "   Departamento de Educación Infantil: 87.5 % of 32\n",
            "   Departamento Educación Avanzada: 33.3 % of 3\n",
            "   Centro de Educación A Distancia: 0.0 % of 1\n",
            "   Departamento de Extensión y Educación A Distancia: 0.0 % of 1\n",
            "Facultad de Enfermería: 74.2 % of 93\n",
            "   Departamento de Formación Básica Profesional: 71.4 % of 63\n",
            "   Departamento de Extensión y Posgrados: 81.8 % of 11\n",
            "   Departamento de Formación Profesional: 83.3 % of 18\n",
            "   Decanatura de Enfermería: 0.0 % of 1\n",
            "Facultad de Ciencias Económicas: 26.7 % of 120\n",
            "   Departamento de Ciencias Administrativas: 32.5 % of 40\n",
            "   Departamento de Economía: 24.3 % of 37\n",
            "   Departamento de Estadísticas y Matemáticas: 0.0 % of 7\n",
            "   Departamento de Ciencias Económicas: 25.0 % of 8\n",
            "   Departamento de Ciencias Contables: 26.9 % of 26\n",
            "   Decanatura Facultad de Ciencias Económicas: 50.0 % of 2\n",
            "Instituto de Filosofía: 22.9 % of 48\n",
            "   Departamento de Formación Académica: 21.3 % of 47\n",
            "   Dirección Instituto de Filosofía: 100.0 % of 1\n",
            "Escuela de Idiomas: 57.8 % of 64\n",
            "   Departamento de Formación Académica: 57.5 % of 40\n",
            "   Sección de Servicios y Extensión: 58.3 % of 24\n",
            "Dirección de Regionalización: 43.2 % of 44\n",
            "   Programa Regionalización Oriente: 45.0 % of 20\n",
            "   Programa Regionalización Urabá: 35.7 % of 14\n",
            "   Programa Regionalización Suroeste: 25.0 % of 4\n",
            "   Programa Regionalización Bajo Cauca: 66.7 % of 6\n",
            "Facultad de Comunicaciones y Filología: 46.9 % of 113\n",
            "   Departamento de Formación Académica: 46.7 % of 75\n",
            "   Departamento de Comunicación Social: 50.0 % of 20\n",
            "   Decanatura Facultad de Comunicaciones: 100.0 % of 1\n",
            "   Departamento de Lingüística y Literatura: 41.2 % of 17\n",
            "Facultad de Artes: 55.4 % of 74\n",
            "   Departamento de Música: 33.3 % of 18\n",
            "   Departamento de Artes Visuales: 53.8 % of 39\n",
            "   Departamento de Teatro: 82.4 % of 17\n",
            "Instituto de Estudios Políticos: 42.9 % of 28\n",
            "   unknown: 42.9 % of 28\n",
            "Facultad de Derecho: 53.1 % of 81\n",
            "   Departamento de Formación Universitaria: 48.2 % of 56\n",
            "   Departamento de Prácticas: 70.0 % of 10\n",
            "   Sección de Derecho Político, Ciencias Políticas, Penal y Procesal: 25.0 % of 4\n",
            "   Sección de Derecho Privado y Laboral: 62.5 % of 8\n",
            "   Centro de Investigaciones en Derecho: 100.0 % of 1\n",
            "   Sección de Derecho Político, Ciencias Políticas: 100.0 % of 2\n",
            "Escuela Interamericana de Bibliotecología: 59.5 % of 37\n",
            "   Dirección Escuela de Bibliotecología: 66.7 % of 33\n",
            "   Escuela de Bibliotecología: 0.0 % of 4\n",
            "Instituto de Educación Física: 40.0 % of 55\n",
            "   Departamento de Educación Física y Extensión: 40.7 % of 54\n",
            "   Sección de Medicina Deportiva: 0.0 % of 1\n",
            "Instituto de Estudios Regionales: 54.2 % of 24\n",
            "   Programa de Investigación: 66.7 % of 6\n",
            "   unknown: 50.0 % of 18\n"
          ]
        }
      ],
      "source": [
        "fm = udea['sex'].value_counts()\n",
        "print(f\"UdeA: {round(fm['mujer']/(fm['mujer']+fm['hombre'])*100,1)} % of {fm['mujer']+fm['hombre']}\")\n",
        "for f in udea.faculty.unique() :\n",
        "    udea_f = udea[udea['faculty'] == f]\n",
        "    fm = udea_f['sex'].value_counts()\n",
        "    if not fm.get('mujer'):\n",
        "        fm['mujer'] = 0\n",
        "    if not fm.get('hombre'):\n",
        "        fm['hombre'] = 0\n",
        "    print(f\"{f}: {round(fm['mujer']/(fm['mujer']+fm['hombre'])*100,1)} % of {fm['mujer']+fm['hombre']}\")\n",
        "    for ff in  udea_f.department.unique():\n",
        "        udea_d = udea[ ((udea['faculty'] == f) & (udea['department'] == ff)) ]\n",
        "        fm = udea_d['sex'].value_counts()\n",
        "        if not fm.get('mujer'):\n",
        "            fm['mujer'] = 0\n",
        "        if not fm.get('hombre'):\n",
        "            fm['hombre'] = 0\n",
        "        print(f\"   {ff}: {round(fm['mujer']/(fm['mujer']+fm['hombre'])*100,1)} % of {fm['mujer']+fm['hombre']}\")\n",
        "\n",
        "    #if f == 'Escuela de Microbiología':\n",
        "    #    break"
      ]
    },
    {
      "cell_type": "code",
      "execution_count": null,
      "id": "2a775d88-0339-4e3b-931a-3227608508a0",
      "metadata": {
        "id": "2a775d88-0339-4e3b-931a-3227608508a0",
        "outputId": "0b334648-5977-4a43-80a4-9c32512886f1"
      },
      "outputs": [
        {
          "name": "stdout",
          "output_type": "stream",
          "text": [
            "AUXILIAR: 46.5 % of 1291\n",
            "ASISTENTE: 46.7 % of 1983\n",
            "ASOCIADO: 43.2 % of 1187\n",
            "TITULAR: 41.3 % of 809\n"
          ]
        }
      ],
      "source": [
        "for r in [ 'AUXILIAR' , 'ASISTENTE','ASOCIADO','TITULAR']:\n",
        "    fm = udea[udea['ranking'].apply(lambda L: r in [d.get('rank') for d in L])]['sex'].value_counts()\n",
        "    print(f\"{r}: {round(fm['mujer']/(fm['mujer']+fm['hombre'])*100,1)} % of {fm['mujer']+fm['hombre']}\")"
      ]
    },
    {
      "cell_type": "code",
      "execution_count": null,
      "id": "feec00da-8def-4aed-a0d5-b4d8818837fb",
      "metadata": {
        "id": "feec00da-8def-4aed-a0d5-b4d8818837fb"
      },
      "outputs": [],
      "source": [
        "f = 'Facultad de Ciencias Exactas y Naturales'\n",
        "ff = 'Instituto de Física'\n",
        "udea_f = udea[ ((udea['faculty'] == f)) ]\n",
        "udea_d = udea[ ((udea['faculty'] == f) & (udea['department'] == ff)) ]"
      ]
    },
    {
      "cell_type": "code",
      "execution_count": null,
      "id": "363a4d30-11be-4e4e-8f6c-b70e3a761348",
      "metadata": {
        "id": "363a4d30-11be-4e4e-8f6c-b70e3a761348",
        "outputId": "4a5446eb-47c5-4c83-cfe4-c41e2ae2b578"
      },
      "outputs": [
        {
          "name": "stdout",
          "output_type": "stream",
          "text": [
            "AUXILIAR: 25.5 % of 110\n",
            "ASISTENTE: 26.4 % of 208\n",
            "ASOCIADO: 21.4 % of 126\n",
            "TITULAR: 20.0 % of 95\n"
          ]
        }
      ],
      "source": [
        "for r in [ 'AUXILIAR' , 'ASISTENTE','ASOCIADO','TITULAR']:\n",
        "    fm = udea_f[udea_f['ranking'].apply(lambda L: r in [d.get('rank') for d in L])]['sex'].value_counts()\n",
        "    print(f\"{r}: {round(fm['mujer']/(fm['mujer']+fm['hombre'])*100,1)} % of {fm['mujer']+fm['hombre']}\")"
      ]
    },
    {
      "cell_type": "code",
      "execution_count": null,
      "id": "1a32cf87-ef85-4eec-99f2-84e171855508",
      "metadata": {
        "id": "1a32cf87-ef85-4eec-99f2-84e171855508",
        "outputId": "628f9785-66b0-4b64-800f-668428e09521"
      },
      "outputs": [
        {
          "name": "stdout",
          "output_type": "stream",
          "text": [
            "AUXILIAR: 12.0 % of 25\n",
            "ASISTENTE: 11.1 % of 54\n",
            "ASOCIADO: 3.1 % of 32\n",
            "TITULAR: 3.6 % of 28\n"
          ]
        }
      ],
      "source": [
        "for r in [ 'AUXILIAR' , 'ASISTENTE','ASOCIADO','TITULAR']:\n",
        "    fm = udea_d[udea_d['ranking'].apply(lambda L: r in [d.get('rank') for d in L])]['sex'].value_counts()\n",
        "    print(f\"{r}: {round(fm['mujer']/(fm['mujer']+fm['hombre'])*100,1)} % of {fm['mujer']+fm['hombre']}\")"
      ]
    },
    {
      "cell_type": "code",
      "execution_count": null,
      "id": "650d2d37-cbfc-46c3-aa41-55d6423fe64e",
      "metadata": {
        "id": "650d2d37-cbfc-46c3-aa41-55d6423fe64e"
      },
      "outputs": [],
      "source": [
        "import matplotlib.pyplot as plt\n",
        "import numpy as np"
      ]
    },
    {
      "cell_type": "code",
      "execution_count": null,
      "id": "8b19b115-8498-4608-b065-a1b726f919ca",
      "metadata": {
        "id": "8b19b115-8498-4608-b065-a1b726f919ca",
        "outputId": "44b638cb-a44f-4c69-a5cc-1c3e9f7b5006"
      },
      "outputs": [
        {
          "data": {
            "text/html": [
              "<div>\n",
              "<style scoped>\n",
              "    .dataframe tbody tr th:only-of-type {\n",
              "        vertical-align: middle;\n",
              "    }\n",
              "\n",
              "    .dataframe tbody tr th {\n",
              "        vertical-align: top;\n",
              "    }\n",
              "\n",
              "    .dataframe thead th {\n",
              "        text-align: right;\n",
              "    }\n",
              "</style>\n",
              "<table border=\"1\" class=\"dataframe\">\n",
              "  <thead>\n",
              "    <tr style=\"text-align: right;\">\n",
              "      <th></th>\n",
              "      <th>COD_RH</th>\n",
              "      <th>last_names</th>\n",
              "      <th>first_names</th>\n",
              "      <th>sex</th>\n",
              "      <th>age</th>\n",
              "      <th>affiliations</th>\n",
              "      <th>ranking</th>\n",
              "      <th>faculty</th>\n",
              "      <th>department</th>\n",
              "      <th>group</th>\n",
              "    </tr>\n",
              "  </thead>\n",
              "  <tbody>\n",
              "    <tr>\n",
              "      <th>83</th>\n",
              "      <td>0000045640</td>\n",
              "      <td>[Pineda, Salazar]</td>\n",
              "      <td>[David, Antonio]</td>\n",
              "      <td>hombre</td>\n",
              "      <td>-27.0</td>\n",
              "      <td>[{'name': 'Universidad de Antioquia', 'id': '0...</td>\n",
              "      <td>[{'date': 779432400, 'rank': 'TITULAR', 'sourc...</td>\n",
              "      <td>Facultad de Medicina</td>\n",
              "      <td>Departamento de Medicina Interna</td>\n",
              "      <td>Grupo Neuropsicología y Conducta</td>\n",
              "    </tr>\n",
              "  </tbody>\n",
              "</table>\n",
              "</div>"
            ],
            "text/plain": [
              "        COD_RH         last_names       first_names     sex   age  \\\n",
              "83  0000045640  [Pineda, Salazar]  [David, Antonio]  hombre -27.0   \n",
              "\n",
              "                                         affiliations  \\\n",
              "83  [{'name': 'Universidad de Antioquia', 'id': '0...   \n",
              "\n",
              "                                              ranking               faculty  \\\n",
              "83  [{'date': 779432400, 'rank': 'TITULAR', 'sourc...  Facultad de Medicina   \n",
              "\n",
              "                          department                             group  \n",
              "83  Departamento de Medicina Interna  Grupo Neuropsicología y Conducta  "
            ]
          },
          "execution_count": 30,
          "metadata": {},
          "output_type": "execute_result"
        }
      ],
      "source": [
        "udea[udea['age'] < 0]"
      ]
    },
    {
      "cell_type": "code",
      "execution_count": null,
      "id": "c5e7fd9f-fc63-4ce7-8723-38ca730e09ff",
      "metadata": {
        "id": "c5e7fd9f-fc63-4ce7-8723-38ca730e09ff",
        "outputId": "83b1a8fb-ad9d-480e-e57a-24b30cd6c07e"
      },
      "outputs": [
        {
          "data": {
            "image/png": "[encoded data removed]",
            "text/plain": [
              "<Figure size 640x480 with 1 Axes>"
            ]
          },
          "metadata": {},
          "output_type": "display_data"
        }
      ],
      "source": [
        "kk = udea[udea['age'] > 0]['age'].sort_values().dropna().astype(int).value_counts()\n",
        "\n",
        "age = pd.DataFrame()\n",
        "\n",
        "age['age'] = kk.keys()\n",
        "\n",
        "age['counts'] = kk.values\n",
        "\n",
        "age = age.sort_values('age')\n",
        "\n",
        "plt.bar(age['age'],age['counts'])\n",
        "plt.xlabel('Edad', size = 12)\n",
        "plt.ylabel('Profesores', size = 12)\n",
        "plt.title('Distribución de edad profesores UdeA')\n",
        "plt.grid()"
      ]
    },
    {
      "cell_type": "code",
      "execution_count": null,
      "id": "ee4cb691-b8ec-408d-9b96-07bd5862b99a",
      "metadata": {
        "id": "ee4cb691-b8ec-408d-9b96-07bd5862b99a"
      },
      "outputs": [],
      "source": [
        "f = 'Facultad de Ciencias Exactas y Naturales'\n",
        "ff = 'Instituto de Física'\n",
        "udea_f = udea[ ((udea['faculty'] == f)) ]\n",
        "udea_d = udea[ ((udea['faculty'] == f) & (udea['department'] == ff)) ]"
      ]
    },
    {
      "cell_type": "code",
      "execution_count": null,
      "id": "9c10ab2e-f3ff-4c0f-ab82-80728ad43940",
      "metadata": {
        "id": "9c10ab2e-f3ff-4c0f-ab82-80728ad43940",
        "outputId": "28752745-4b33-402a-816a-5fdc0cec976e"
      },
      "outputs": [
        {
          "data": {
            "image/png": "[encoded data removed]",
            "text/plain": [
              "<Figure size 640x480 with 1 Axes>"
            ]
          },
          "metadata": {},
          "output_type": "display_data"
        }
      ],
      "source": [
        "kk = udea_f['age'].sort_values().dropna().astype(int).value_counts()\n",
        "\n",
        "age = pd.DataFrame()\n",
        "\n",
        "age['age'] = kk.keys()\n",
        "\n",
        "age['counts'] = kk.values\n",
        "\n",
        "age = age.sort_values('age')\n",
        "\n",
        "plt.bar(age['age'],age['counts'])\n",
        "plt.xlabel('Edad', size = 12)\n",
        "plt.ylabel('Profesores', size = 12)\n",
        "plt.title('Distribución de edad profesores FCEN')\n",
        "plt.grid()"
      ]
    },
    {
      "cell_type": "code",
      "execution_count": null,
      "id": "e6d3f366-93ea-4278-aa75-71aa41b89bb1",
      "metadata": {
        "id": "e6d3f366-93ea-4278-aa75-71aa41b89bb1",
        "outputId": "daf9ca2c-0efd-445a-9eba-a2a75a24f7b7"
      },
      "outputs": [
        {
          "data": {
            "image/png": "[encoded data removed]",
            "text/plain": [
              "<Figure size 640x480 with 1 Axes>"
            ]
          },
          "metadata": {},
          "output_type": "display_data"
        }
      ],
      "source": [
        "kk = udea_d['age'].sort_values().dropna().astype(int).value_counts()\n",
        "\n",
        "age = pd.DataFrame()\n",
        "\n",
        "age['age'] = kk.keys()\n",
        "\n",
        "age['counts'] = kk.values\n",
        "\n",
        "age = age.sort_values('age')\n",
        "\n",
        "plt.bar(age['age'],age['counts'])\n",
        "plt.xlabel('Edad', size = 12)\n",
        "plt.ylabel('Profesores', size = 12)\n",
        "plt.title('Distribución de edad profesores Instituto de Física')\n",
        "plt.grid()"
      ]
    },
    {
      "cell_type": "code",
      "execution_count": null,
      "id": "c7a6891c-f861-4d3d-aa20-946cdbce3602",
      "metadata": {
        "id": "c7a6891c-f861-4d3d-aa20-946cdbce3602"
      },
      "outputs": [],
      "source": [
        "y = 2020\n",
        "dfy = df[df.year_published == y]"
      ]
    },
    {
      "cell_type": "code",
      "execution_count": null,
      "id": "d9b9c183-661e-4315-9ec3-68c10e62966d",
      "metadata": {
        "id": "d9b9c183-661e-4315-9ec3-68c10e62966d"
      },
      "outputs": [],
      "source": [
        "    L = dfy['scienti_authors'].to_list()\n",
        "    L = flatten(L)\n",
        "\n",
        "    dfL = pd.DataFrame(L)"
      ]
    },
    {
      "cell_type": "code",
      "execution_count": null,
      "id": "db4b1611-6edb-4f7f-a9b3-6bcf99877c13",
      "metadata": {
        "id": "db4b1611-6edb-4f7f-a9b3-6bcf99877c13",
        "outputId": "32b87fa9-7f19-4e36-8ba7-f4fca7a6e9ab"
      },
      "outputs": [
        {
          "data": {
            "text/plain": [
              "(7295, 7)"
            ]
          },
          "execution_count": 47,
          "metadata": {},
          "output_type": "execute_result"
        }
      ],
      "source": [
        "dfL.shape"
      ]
    },
    {
      "cell_type": "code",
      "execution_count": null,
      "id": "1792843c-7fd7-438d-ad8c-12dd88e70196",
      "metadata": {
        "id": "1792843c-7fd7-438d-ad8c-12dd88e70196",
        "outputId": "a585b17b-6c9c-4aa3-8907-ebe04328c7ea"
      },
      "outputs": [
        {
          "data": {
            "text/plain": [
              "(2453, 7)"
            ]
          },
          "execution_count": 48,
          "metadata": {},
          "output_type": "execute_result"
        }
      ],
      "source": [
        "dfL.drop_duplicates('COD_RH').shape"
      ]
    },
    {
      "cell_type": "code",
      "execution_count": null,
      "id": "5b5b869e-03c0-404c-9ce8-7299eb89dfce",
      "metadata": {
        "id": "5b5b869e-03c0-404c-9ce8-7299eb89dfce",
        "outputId": "70c7d795-5cd1-409b-80c6-601a23f94547"
      },
      "outputs": [
        {
          "data": {
            "text/plain": [
              "(104258, 24)"
            ]
          },
          "execution_count": 49,
          "metadata": {},
          "output_type": "execute_result"
        }
      ],
      "source": [
        "df.shape"
      ]
    },
    {
      "cell_type": "code",
      "execution_count": null,
      "id": "e225cf32-0353-4a4b-8332-347232d3b6b0",
      "metadata": {
        "id": "e225cf32-0353-4a4b-8332-347232d3b6b0"
      },
      "outputs": [],
      "source": [
        "CHECK_OPENALEX = False # Count larger that OpenAlex is expected\n",
        "if CHECK_OPENALEX:\n",
        "    df = df[df['types'].apply(lambda L: any([True for d in L\n",
        "                                         if d.get('source') == 'openalex' #or\n",
        "                                             #d.get('type') == 'Artículo'\n",
        "                                        ]))].reset_index(drop = True)"
      ]
    },
    {
      "cell_type": "code",
      "execution_count": null,
      "id": "e357308a-3e2d-4daa-81ff-444dfea42a09",
      "metadata": {
        "id": "e357308a-3e2d-4daa-81ff-444dfea42a09"
      },
      "outputs": [],
      "source": [
        "# df = df[df['types'].apply(lambda L: 'openalex' not in [d.get('source') for d in L])]\n",
        "# df = df[df['types'].apply(lambda L: 'Artículo' not in [d.get('type') for d in L])].reset_index(drop=True)"
      ]
    },
    {
      "cell_type": "code",
      "execution_count": null,
      "id": "9c2be87c-59c3-481a-8900-23d1c30e8495",
      "metadata": {
        "id": "9c2be87c-59c3-481a-8900-23d1c30e8495",
        "outputId": "f1ae2dd8-e8eb-4b80-a245-3b2088334699"
      },
      "outputs": [
        {
          "data": {
            "text/plain": [
              "(104258, 24)"
            ]
          },
          "execution_count": 52,
          "metadata": {},
          "output_type": "execute_result"
        }
      ],
      "source": [
        "df.shape"
      ]
    },
    {
      "cell_type": "code",
      "execution_count": null,
      "id": "c3398316-97e9-4b8c-a5f2-f9ea0d0d9b0a",
      "metadata": {
        "id": "c3398316-97e9-4b8c-a5f2-f9ea0d0d9b0a"
      },
      "outputs": [],
      "source": [
        "df['openalex'] = df['external_ids'].apply(lambda L: [d.get('id') for d in L if d.get('source') == 'openalex']).str[0]"
      ]
    },
    {
      "cell_type": "code",
      "execution_count": null,
      "id": "12613a4b-7a2f-46f1-bff5-57494943d798",
      "metadata": {
        "id": "12613a4b-7a2f-46f1-bff5-57494943d798",
        "outputId": "c6b40ca1-259d-4b30-936b-8fa6a180fe72"
      },
      "outputs": [
        {
          "data": {
            "text/plain": [
              "(47912, 25)"
            ]
          },
          "execution_count": 54,
          "metadata": {},
          "output_type": "execute_result"
        }
      ],
      "source": [
        "df.drop_duplicates(subset=['openalex']).shape"
      ]
    },
    {
      "cell_type": "code",
      "execution_count": null,
      "id": "7202caae-e2cb-4ba8-8adf-66184bbe23e7",
      "metadata": {
        "id": "7202caae-e2cb-4ba8-8adf-66184bbe23e7"
      },
      "outputs": [],
      "source": [
        "FACULTY = False\n",
        "DEPARTMENT = False\n",
        "UDEA = pd.DataFrame()\n",
        "w = []\n",
        "for y in [y for y in set(df.year_published.fillna(0).astype(int)) if y > 0]:\n",
        "    dfy = df[df.year_published == y]\n",
        "    if dfy.empty:\n",
        "        continue\n",
        "    L = dfy['scienti_authors'].to_list()\n",
        "    L = flatten(L)\n",
        "    if not L:\n",
        "        continue\n",
        "    dfL = pd.DataFrame(L)\n",
        "    del L\n",
        "\n",
        "    # Filter pure UdeA authors\n",
        "    udeay = dfL[dfL['affiliations'].apply(lambda L: [d.get('name') for d in L\n",
        "         if d.get('type') == 'Education' and d.get('name') == 'Universidad de Antioquia']).apply(len)>0\n",
        "         ].reset_index(drop=True)\n",
        "\n",
        "    udeay['faculty'] = udeay['affiliations'].apply(lambda L: [d.get('name') for d in L\n",
        "         if d.get('type') == 'faculty' and d.get('id').find(ror) > -1  ]).apply(lambda L: L  if len(L) > 0 else\n",
        "                                                ['unknown']).str[0]\n",
        "    udeay['department'] = udeay['affiliations'].apply(lambda L: [d.get('name') for d in L\n",
        "         if d.get('type') == 'department' and d.get('id').find(ror) > -1 ]).apply(lambda L: L  if len(L) > 0 else\n",
        "                                                ['unknown']).str[0]\n",
        "    udeay['group'] = udeay['affiliations'].apply(lambda L: [d.get('name') for d in L\n",
        "         if d.get('type') == 'group' ]).apply(lambda L: L  if len(L) > 0 else\n",
        "                                                ['unknown']).str[0]\n",
        "    udeay = udeay.drop_duplicates(subset=['COD_RH']).reset_index(drop=True)\n",
        "\n",
        "    udeay['year'] = y\n",
        "    UDEA = pd.concat((UDEA,udeay))\n",
        "\n",
        "    if FACULTY:\n",
        "        f = 'Facultad de Ciencias Exactas y Naturales'\n",
        "        udeay = udeay[ ((udeay['faculty'] == f)) ]\n",
        "    if DEPARTMENT:\n",
        "        ff = 'Instituto de Física'\n",
        "        udeay = udeay[ ((udeay['faculty'] == f) & (udeay['department'] == ff)) ]\n",
        "\n",
        "    #.drop_duplicates(subset=['COD_RH']).reset_index(drop=True)\n",
        "\n",
        "    d = {}\n",
        "    d['year'] = y\n",
        "    d['works'] = dfy.shape[0]\n",
        "    d['hombre'] = udeay[udeay['sex'] == 'hombre'].shape[0]\n",
        "    d['mujer'] = udeay[udeay['sex'] == 'mujer'].shape[0]\n",
        "    d['authors'] = d['hombre'] + d['mujer']\n",
        "    w.append(d)"
      ]
    },
    {
      "cell_type": "code",
      "execution_count": null,
      "id": "c21a3e2c-f4d3-49dd-990f-3b9da6a6a29e",
      "metadata": {
        "id": "c21a3e2c-f4d3-49dd-990f-3b9da6a6a29e",
        "outputId": "77ceb6ec-37e2-44e4-da91-5807028582ee"
      },
      "outputs": [
        {
          "data": {
            "text/plain": [
              "Text(0, 0.5, 'works')"
            ]
          },
          "execution_count": 56,
          "metadata": {},
          "output_type": "execute_result"
        },
        {
          "data": {
            "image/png": "[encoded data removed]",
            "text/plain": [
              "<Figure size 640x480 with 1 Axes>"
            ]
          },
          "metadata": {},
          "output_type": "display_data"
        }
      ],
      "source": [
        "dw = pd.DataFrame(w).sort_values('year')\n",
        "dw['f/m'] = round(dw['mujer']/dw['authors'],4)\n",
        "\n",
        "plt.bar(dw['year'],dw['works'])\n",
        "plt.xlim(1993,2025)\n",
        "plt.grid()\n",
        "plt.title('UdeA works')\n",
        "plt.xlabel('year',size = 12)\n",
        "plt.ylabel('works',size = 12)"
      ]
    },
    {
      "cell_type": "code",
      "execution_count": null,
      "id": "9f485fdc-5e8d-45a1-bcbb-75f0c1a9cbaf",
      "metadata": {
        "id": "9f485fdc-5e8d-45a1-bcbb-75f0c1a9cbaf",
        "outputId": "019c68f5-6e99-49d7-9a1d-663806df9dc3"
      },
      "outputs": [
        {
          "data": {
            "text/plain": [
              "Text(0, 0.5, 'professors')"
            ]
          },
          "execution_count": 57,
          "metadata": {},
          "output_type": "execute_result"
        },
        {
          "data": {
            "image/png": "[encoded data removed]",
            "text/plain": [
              "<Figure size 640x480 with 1 Axes>"
            ]
          },
          "metadata": {},
          "output_type": "display_data"
        }
      ],
      "source": [
        "plt.bar(dw['year'],dw['authors'])\n",
        "plt.xlim(1993,2025)\n",
        "plt.grid()\n",
        "plt.title('UdeA')\n",
        "if FACULTY:\n",
        "    plt.title(f)\n",
        "if DEPARTMENT:\n",
        "    plt.title(ff)\n",
        "\n",
        "plt.xlabel('year',size = 12)\n",
        "plt.ylabel('professors',size = 12)"
      ]
    },
    {
      "cell_type": "code",
      "execution_count": null,
      "id": "aebbc6e1-8c1b-4c59-98d3-be88fff5e86b",
      "metadata": {
        "id": "aebbc6e1-8c1b-4c59-98d3-be88fff5e86b",
        "outputId": "002fdeb6-6376-4b4d-aeee-d4b481553eda"
      },
      "outputs": [
        {
          "data": {
            "text/plain": [
              "Text(0, 0.5, 'female ratio')"
            ]
          },
          "execution_count": 58,
          "metadata": {},
          "output_type": "execute_result"
        },
        {
          "data": {
            "image/png": "[encoded data removed]",
            "text/plain": [
              "<Figure size 640x480 with 1 Axes>"
            ]
          },
          "metadata": {},
          "output_type": "display_data"
        }
      ],
      "source": [
        "plt.bar(dw['year'],dw['f/m'])\n",
        "plt.xlim(1993,2025)\n",
        "plt.grid()\n",
        "plt.ylim(0,0.5)\n",
        "if DEPARTMENT:\n",
        "    plt.xlim(2002,2025)\n",
        "    plt.ylim(0,0.1)\n",
        "\n",
        "plt.title('UdeA')\n",
        "if FACULTY:\n",
        "    plt.title(f)\n",
        "if DEPARTMENT:\n",
        "    plt.title(ff)\n",
        "\n",
        "plt.xlabel('year',size = 12)\n",
        "plt.ylabel('female ratio',size = 12)"
      ]
    },
    {
      "cell_type": "code",
      "execution_count": null,
      "id": "32d23ebc-5658-4d36-811b-8f9cf444b677",
      "metadata": {
        "id": "32d23ebc-5658-4d36-811b-8f9cf444b677"
      },
      "outputs": [],
      "source": [
        "UDEA['full_name']=UDEA.first_names.apply(' '.join)+' '+UDEA.last_names.apply(' '.join)"
      ]
    },
    {
      "cell_type": "code",
      "execution_count": null,
      "id": "92d0f0c1-eb11-41a3-b605-48afd6ec3fab",
      "metadata": {
        "id": "92d0f0c1-eb11-41a3-b605-48afd6ec3fab"
      },
      "outputs": [],
      "source": [
        "y1 = 2020\n",
        "y2 = 2023\n",
        "udea_diff = pd.DataFrame({'COD_RH' : list(set(UDEA[UDEA['year']==y1].COD_RH).difference(UDEA[UDEA['year']==y2].COD_RH))})"
      ]
    },
    {
      "cell_type": "code",
      "execution_count": null,
      "id": "aebc09ee-a8c0-4918-bab1-a557421c73ce",
      "metadata": {
        "id": "aebc09ee-a8c0-4918-bab1-a557421c73ce"
      },
      "outputs": [],
      "source": [
        "udea_diff = udea_diff.merge(UDEA.drop_duplicates('COD_RH')[['COD_RH','full_name','faculty','department']],\n",
        "                on='COD_RH',how='left')"
      ]
    },
    {
      "cell_type": "code",
      "execution_count": null,
      "id": "3b26c083-0925-4d74-98e4-22df30d6ce3a",
      "metadata": {
        "id": "3b26c083-0925-4d74-98e4-22df30d6ce3a",
        "outputId": "839c7ff4-2803-4e73-b252-227428fbec8c"
      },
      "outputs": [
        {
          "data": {
            "text/plain": [
              "(497, 4)"
            ]
          },
          "execution_count": 62,
          "metadata": {},
          "output_type": "execute_result"
        }
      ],
      "source": [
        "udea_diff.shape"
      ]
    },
    {
      "cell_type": "code",
      "execution_count": null,
      "id": "19f14915-fff9-4f05-b81c-970468ad32e5",
      "metadata": {
        "id": "19f14915-fff9-4f05-b81c-970468ad32e5",
        "outputId": "f68fea13-958e-4661-bdea-3a299960ef6d"
      },
      "outputs": [
        {
          "data": {
            "text/html": [
              "<div>\n",
              "<style scoped>\n",
              "    .dataframe tbody tr th:only-of-type {\n",
              "        vertical-align: middle;\n",
              "    }\n",
              "\n",
              "    .dataframe tbody tr th {\n",
              "        vertical-align: top;\n",
              "    }\n",
              "\n",
              "    .dataframe thead th {\n",
              "        text-align: right;\n",
              "    }\n",
              "</style>\n",
              "<table border=\"1\" class=\"dataframe\">\n",
              "  <thead>\n",
              "    <tr style=\"text-align: right;\">\n",
              "      <th></th>\n",
              "      <th>year</th>\n",
              "      <th>works</th>\n",
              "      <th>hombre</th>\n",
              "      <th>mujer</th>\n",
              "      <th>authors</th>\n",
              "      <th>f/m</th>\n",
              "    </tr>\n",
              "  </thead>\n",
              "  <tbody>\n",
              "    <tr>\n",
              "      <th>60</th>\n",
              "      <td>2020</td>\n",
              "      <td>5177</td>\n",
              "      <td>815</td>\n",
              "      <td>596</td>\n",
              "      <td>1411</td>\n",
              "      <td>0.4224</td>\n",
              "    </tr>\n",
              "    <tr>\n",
              "      <th>61</th>\n",
              "      <td>2021</td>\n",
              "      <td>4401</td>\n",
              "      <td>741</td>\n",
              "      <td>533</td>\n",
              "      <td>1274</td>\n",
              "      <td>0.4184</td>\n",
              "    </tr>\n",
              "  </tbody>\n",
              "</table>\n",
              "</div>"
            ],
            "text/plain": [
              "    year  works  hombre  mujer  authors     f/m\n",
              "60  2020   5177     815    596     1411  0.4224\n",
              "61  2021   4401     741    533     1274  0.4184"
            ]
          },
          "execution_count": 63,
          "metadata": {},
          "output_type": "execute_result"
        }
      ],
      "source": [
        "dw[-5:-3]"
      ]
    },
    {
      "cell_type": "code",
      "execution_count": null,
      "id": "046ae01f-2f1d-468b-81d0-265f630007d2",
      "metadata": {
        "id": "046ae01f-2f1d-468b-81d0-265f630007d2",
        "outputId": "b413a187-29d5-4ab6-ff68-8ed91c660170"
      },
      "outputs": [
        {
          "name": "stdout",
          "output_type": "stream",
          "text": [
            "Authors which publish in 2020 but not in 2023:\n",
            "in Instituto de Física\n"
          ]
        },
        {
          "data": {
            "text/html": [
              "<div>\n",
              "<style scoped>\n",
              "    .dataframe tbody tr th:only-of-type {\n",
              "        vertical-align: middle;\n",
              "    }\n",
              "\n",
              "    .dataframe tbody tr th {\n",
              "        vertical-align: top;\n",
              "    }\n",
              "\n",
              "    .dataframe thead th {\n",
              "        text-align: right;\n",
              "    }\n",
              "</style>\n",
              "<table border=\"1\" class=\"dataframe\">\n",
              "  <thead>\n",
              "    <tr style=\"text-align: right;\">\n",
              "      <th></th>\n",
              "      <th>COD_RH</th>\n",
              "      <th>full_name</th>\n",
              "      <th>faculty</th>\n",
              "      <th>department</th>\n",
              "    </tr>\n",
              "  </thead>\n",
              "  <tbody>\n",
              "    <tr>\n",
              "      <th>0</th>\n",
              "      <td>0000104647</td>\n",
              "      <td>Jaime Alberto Osorio Velez</td>\n",
              "      <td>Facultad de Ciencias Exactas y Naturales</td>\n",
              "      <td>Instituto de Física</td>\n",
              "    </tr>\n",
              "    <tr>\n",
              "      <th>1</th>\n",
              "      <td>0000320714</td>\n",
              "      <td>German Ricaurte Avella</td>\n",
              "      <td>Facultad de Ciencias Exactas y Naturales</td>\n",
              "      <td>Instituto de Física</td>\n",
              "    </tr>\n",
              "    <tr>\n",
              "      <th>2</th>\n",
              "      <td>0001581561</td>\n",
              "      <td>Viktor Tulupenko</td>\n",
              "      <td>Facultad de Ciencias Exactas y Naturales</td>\n",
              "      <td>Instituto de Física</td>\n",
              "    </tr>\n",
              "    <tr>\n",
              "      <th>3</th>\n",
              "      <td>0001557239</td>\n",
              "      <td>Eduardo Rojas Pena</td>\n",
              "      <td>Facultad de Ciencias Exactas y Naturales</td>\n",
              "      <td>Instituto de Física</td>\n",
              "    </tr>\n",
              "    <tr>\n",
              "      <th>4</th>\n",
              "      <td>0000348090</td>\n",
              "      <td>Alvaro Herrera Carrillo</td>\n",
              "      <td>Facultad de Ciencias Exactas y Naturales</td>\n",
              "      <td>Instituto de Física</td>\n",
              "    </tr>\n",
              "    <tr>\n",
              "      <th>5</th>\n",
              "      <td>0000731145</td>\n",
              "      <td>Pablo Andres Cuartas Restrepo</td>\n",
              "      <td>Facultad de Ciencias Exactas y Naturales</td>\n",
              "      <td>Instituto de Física</td>\n",
              "    </tr>\n",
              "    <tr>\n",
              "      <th>6</th>\n",
              "      <td>0000196878</td>\n",
              "      <td>Fabiola del Socorro Gomez Gomez</td>\n",
              "      <td>Facultad de Ciencias Exactas y Naturales</td>\n",
              "      <td>Instituto de Física</td>\n",
              "    </tr>\n",
              "    <tr>\n",
              "      <th>7</th>\n",
              "      <td>0001605958</td>\n",
              "      <td>Volodymyr Akimov</td>\n",
              "      <td>Facultad de Ciencias Exactas y Naturales</td>\n",
              "      <td>Instituto de Física</td>\n",
              "    </tr>\n",
              "    <tr>\n",
              "      <th>8</th>\n",
              "      <td>0000247871</td>\n",
              "      <td>Edgar Alberto Rueda Munoz</td>\n",
              "      <td>Facultad de Ciencias Exactas y Naturales</td>\n",
              "      <td>Instituto de Física</td>\n",
              "    </tr>\n",
              "    <tr>\n",
              "      <th>9</th>\n",
              "      <td>0000036897</td>\n",
              "      <td>Jorge Enrique Tobon Gomez</td>\n",
              "      <td>Facultad de Ciencias Exactas y Naturales</td>\n",
              "      <td>Instituto de Física</td>\n",
              "    </tr>\n",
              "    <tr>\n",
              "      <th>10</th>\n",
              "      <td>0001493220</td>\n",
              "      <td>Ignacio Ramon Ferrin Vazquez</td>\n",
              "      <td>Facultad de Ciencias Exactas y Naturales</td>\n",
              "      <td>Instituto de Física</td>\n",
              "    </tr>\n",
              "    <tr>\n",
              "      <th>11</th>\n",
              "      <td>0000167991</td>\n",
              "      <td>Jorge Hernan Lopez Botero</td>\n",
              "      <td>Facultad de Ciencias Exactas y Naturales</td>\n",
              "      <td>Instituto de Física</td>\n",
              "    </tr>\n",
              "    <tr>\n",
              "      <th>12</th>\n",
              "      <td>0001405606</td>\n",
              "      <td>Sorayda Trejos Gonzalez</td>\n",
              "      <td>Facultad de Ciencias Exactas y Naturales</td>\n",
              "      <td>Instituto de Física</td>\n",
              "    </tr>\n",
              "    <tr>\n",
              "      <th>13</th>\n",
              "      <td>0000057649</td>\n",
              "      <td>Jorge Eduardo Mahecha Gomez</td>\n",
              "      <td>Facultad de Ciencias Exactas y Naturales</td>\n",
              "      <td>Instituto de Física</td>\n",
              "    </tr>\n",
              "    <tr>\n",
              "      <th>14</th>\n",
              "      <td>0001201360</td>\n",
              "      <td>Andres Felipe Rivera Romero</td>\n",
              "      <td>Facultad de Ciencias Exactas y Naturales</td>\n",
              "      <td>Instituto de Física</td>\n",
              "    </tr>\n",
              "    <tr>\n",
              "      <th>15</th>\n",
              "      <td>0000037192</td>\n",
              "      <td>Daniel Esteban Jaramillo Arango</td>\n",
              "      <td>Facultad de Ciencias Exactas y Naturales</td>\n",
              "      <td>Instituto de Física</td>\n",
              "    </tr>\n",
              "    <tr>\n",
              "      <th>16</th>\n",
              "      <td>0000000639</td>\n",
              "      <td>Gloria Eugenia Campillo Figueroa</td>\n",
              "      <td>Facultad de Ciencias Exactas y Naturales</td>\n",
              "      <td>Instituto de Física</td>\n",
              "    </tr>\n",
              "  </tbody>\n",
              "</table>\n",
              "</div>"
            ],
            "text/plain": [
              "        COD_RH                         full_name  \\\n",
              "0   0000104647        Jaime Alberto Osorio Velez   \n",
              "1   0000320714            German Ricaurte Avella   \n",
              "2   0001581561                  Viktor Tulupenko   \n",
              "3   0001557239                Eduardo Rojas Pena   \n",
              "4   0000348090           Alvaro Herrera Carrillo   \n",
              "5   0000731145     Pablo Andres Cuartas Restrepo   \n",
              "6   0000196878   Fabiola del Socorro Gomez Gomez   \n",
              "7   0001605958                  Volodymyr Akimov   \n",
              "8   0000247871         Edgar Alberto Rueda Munoz   \n",
              "9   0000036897         Jorge Enrique Tobon Gomez   \n",
              "10  0001493220      Ignacio Ramon Ferrin Vazquez   \n",
              "11  0000167991         Jorge Hernan Lopez Botero   \n",
              "12  0001405606           Sorayda Trejos Gonzalez   \n",
              "13  0000057649       Jorge Eduardo Mahecha Gomez   \n",
              "14  0001201360       Andres Felipe Rivera Romero   \n",
              "15  0000037192   Daniel Esteban Jaramillo Arango   \n",
              "16  0000000639  Gloria Eugenia Campillo Figueroa   \n",
              "\n",
              "                                     faculty           department  \n",
              "0   Facultad de Ciencias Exactas y Naturales  Instituto de Física  \n",
              "1   Facultad de Ciencias Exactas y Naturales  Instituto de Física  \n",
              "2   Facultad de Ciencias Exactas y Naturales  Instituto de Física  \n",
              "3   Facultad de Ciencias Exactas y Naturales  Instituto de Física  \n",
              "4   Facultad de Ciencias Exactas y Naturales  Instituto de Física  \n",
              "5   Facultad de Ciencias Exactas y Naturales  Instituto de Física  \n",
              "6   Facultad de Ciencias Exactas y Naturales  Instituto de Física  \n",
              "7   Facultad de Ciencias Exactas y Naturales  Instituto de Física  \n",
              "8   Facultad de Ciencias Exactas y Naturales  Instituto de Física  \n",
              "9   Facultad de Ciencias Exactas y Naturales  Instituto de Física  \n",
              "10  Facultad de Ciencias Exactas y Naturales  Instituto de Física  \n",
              "11  Facultad de Ciencias Exactas y Naturales  Instituto de Física  \n",
              "12  Facultad de Ciencias Exactas y Naturales  Instituto de Física  \n",
              "13  Facultad de Ciencias Exactas y Naturales  Instituto de Física  \n",
              "14  Facultad de Ciencias Exactas y Naturales  Instituto de Física  \n",
              "15  Facultad de Ciencias Exactas y Naturales  Instituto de Física  \n",
              "16  Facultad de Ciencias Exactas y Naturales  Instituto de Física  "
            ]
          },
          "execution_count": 64,
          "metadata": {},
          "output_type": "execute_result"
        }
      ],
      "source": [
        "print(f'Authors which publish in {y1} but not in {y2}:')\n",
        "#print(f'in {f}')\n",
        "#udea_diff[udea_diff['faculty'] == f].reset_index(drop=True)\n",
        "print(f'in {ff}')\n",
        "udea_diff[udea_diff['department'] == ff].reset_index(drop=True)"
      ]
    },
    {
      "cell_type": "markdown",
      "id": "a0693fbb-71ba-4433-86f9-a75518f2e9c1",
      "metadata": {
        "id": "a0693fbb-71ba-4433-86f9-a75518f2e9c1"
      },
      "source": [
        "### Types"
      ]
    },
    {
      "cell_type": "code",
      "execution_count": null,
      "id": "7dc36fe3-6820-47f9-976d-463d569f7fc0",
      "metadata": {
        "id": "7dc36fe3-6820-47f9-976d-463d569f7fc0"
      },
      "outputs": [],
      "source": [
        "df = pd.DataFrame(DJ)"
      ]
    },
    {
      "cell_type": "code",
      "execution_count": null,
      "id": "3fcfc0a6-13a8-420e-8eb3-aef39d3ed7c8",
      "metadata": {
        "id": "3fcfc0a6-13a8-420e-8eb3-aef39d3ed7c8"
      },
      "outputs": [],
      "source": [
        "del DJ"
      ]
    },
    {
      "cell_type": "code",
      "execution_count": null,
      "id": "a4ea623f-eaf6-4a2d-afa3-2a643a02d86d",
      "metadata": {
        "id": "a4ea623f-eaf6-4a2d-afa3-2a643a02d86d",
        "outputId": "405213c9-bbd4-4047-e4b5-a6c837579d77"
      },
      "outputs": [
        {
          "data": {
            "text/html": [
              "<div>\n",
              "<style scoped>\n",
              "    .dataframe tbody tr th:only-of-type {\n",
              "        vertical-align: middle;\n",
              "    }\n",
              "\n",
              "    .dataframe tbody tr th {\n",
              "        vertical-align: top;\n",
              "    }\n",
              "\n",
              "    .dataframe thead th {\n",
              "        text-align: right;\n",
              "    }\n",
              "</style>\n",
              "<table border=\"1\" class=\"dataframe\">\n",
              "  <thead>\n",
              "    <tr style=\"text-align: right;\">\n",
              "      <th></th>\n",
              "      <th>provenance</th>\n",
              "      <th>source</th>\n",
              "      <th>type</th>\n",
              "      <th>code</th>\n",
              "      <th>level</th>\n",
              "    </tr>\n",
              "  </thead>\n",
              "  <tbody>\n",
              "    <tr>\n",
              "      <th>188587</th>\n",
              "      <td>ciarp</td>\n",
              "      <td>ciarp</td>\n",
              "      <td>Capitulo de libro de ensayo</td>\n",
              "      <td>NaN</td>\n",
              "      <td>NaN</td>\n",
              "    </tr>\n",
              "    <tr>\n",
              "      <th>188591</th>\n",
              "      <td>ciarp</td>\n",
              "      <td>ciarp</td>\n",
              "      <td>Impreso universitario</td>\n",
              "      <td>NaN</td>\n",
              "      <td>NaN</td>\n",
              "    </tr>\n",
              "    <tr>\n",
              "      <th>188592</th>\n",
              "      <td>ciarp</td>\n",
              "      <td>ciarp</td>\n",
              "      <td>Articulo en revista Tipo A2</td>\n",
              "      <td>NaN</td>\n",
              "      <td>NaN</td>\n",
              "    </tr>\n",
              "  </tbody>\n",
              "</table>\n",
              "</div>"
            ],
            "text/plain": [
              "       provenance source                         type code  level\n",
              "188587      ciarp  ciarp  Capitulo de libro de ensayo  NaN    NaN\n",
              "188591      ciarp  ciarp        Impreso universitario  NaN    NaN\n",
              "188592      ciarp  ciarp  Articulo en revista Tipo A2  NaN    NaN"
            ]
          },
          "execution_count": 67,
          "metadata": {},
          "output_type": "execute_result"
        }
      ],
      "source": [
        "tp = pd.DataFrame(flatten(df['types'].to_list())).drop_duplicates().sort_values(['provenance','source'] )\n",
        "tp[:3]"
      ]
    },
    {
      "cell_type": "code",
      "execution_count": null,
      "id": "4d6bb04a-af39-4c7c-93b9-4bc9f5276d95",
      "metadata": {
        "id": "4d6bb04a-af39-4c7c-93b9-4bc9f5276d95"
      },
      "outputs": [],
      "source": [
        "tp = tp.reset_index(drop=True)\n",
        "tp['level'] = tp['level'].fillna(0).astype(int)\n",
        "tp['code'] = tp['code'].fillna(0).astype(str)"
      ]
    },
    {
      "cell_type": "code",
      "execution_count": null,
      "id": "4544d8e4-280c-4908-98a6-863f786f05ad",
      "metadata": {
        "id": "4544d8e4-280c-4908-98a6-863f786f05ad"
      },
      "outputs": [],
      "source": [
        "p = 'minciencias'\n",
        "s = 'minciencias'\n",
        "t = 'Artículos'"
      ]
    },
    {
      "cell_type": "code",
      "execution_count": null,
      "id": "154bbbae-0e4e-4970-9d45-90196e884b57",
      "metadata": {
        "id": "154bbbae-0e4e-4970-9d45-90196e884b57",
        "outputId": "63c1c233-bf12-4e0e-f849-466edfa0ad0a"
      },
      "outputs": [
        {
          "data": {
            "text/plain": [
              "True"
            ]
          },
          "execution_count": 70,
          "metadata": {},
          "output_type": "execute_result"
        }
      ],
      "source": [
        "2 in {1,2}"
      ]
    },
    {
      "cell_type": "code",
      "execution_count": null,
      "id": "9d6cabd1-4c04-47ed-a541-af9e5c8bdf73",
      "metadata": {
        "id": "9d6cabd1-4c04-47ed-a541-af9e5c8bdf73"
      },
      "outputs": [],
      "source": [
        "df['provenance'] = df['types'].apply(lambda L: set([d.get('provenance') for d in L]))\n",
        "df['source'] = df['types'].apply(lambda L: set([d.get('source') for d in L]))\n",
        "df['type'] = df['types'].apply(lambda L: set([d.get('type') for d in L]))"
      ]
    },
    {
      "cell_type": "code",
      "execution_count": null,
      "id": "60971529-1bb1-4754-96c4-fbb4e09294d0",
      "metadata": {
        "id": "60971529-1bb1-4754-96c4-fbb4e09294d0"
      },
      "outputs": [],
      "source": [
        "c = []\n",
        "for p,s,t in tp[['provenance','source','type']].values:\n",
        "    c.append( df[((df['provenance'].apply(lambda L: p in L) ) &\n",
        "        (df['source'].apply(lambda L: s in L)) &\n",
        "        (df['type'].apply(lambda L: t in L))\n",
        "       )].shape[0])"
      ]
    },
    {
      "cell_type": "code",
      "execution_count": null,
      "id": "a6cc1734-b485-4f97-b1cc-6ff5e324a6ac",
      "metadata": {
        "id": "a6cc1734-b485-4f97-b1cc-6ff5e324a6ac"
      },
      "outputs": [],
      "source": [
        "tp['counts'] = c"
      ]
    },
    {
      "cell_type": "code",
      "execution_count": null,
      "id": "0cddef27-380a-4729-ba38-2c61271561ea",
      "metadata": {
        "id": "0cddef27-380a-4729-ba38-2c61271561ea",
        "outputId": "cdb442c5-ee5c-4c1e-cf82-53fa02f34c9e"
      },
      "outputs": [
        {
          "data": {
            "text/html": [
              "<div>\n",
              "<style scoped>\n",
              "    .dataframe tbody tr th:only-of-type {\n",
              "        vertical-align: middle;\n",
              "    }\n",
              "\n",
              "    .dataframe tbody tr th {\n",
              "        vertical-align: top;\n",
              "    }\n",
              "\n",
              "    .dataframe thead th {\n",
              "        text-align: right;\n",
              "    }\n",
              "</style>\n",
              "<table border=\"1\" class=\"dataframe\">\n",
              "  <thead>\n",
              "    <tr style=\"text-align: right;\">\n",
              "      <th></th>\n",
              "      <th>provenance</th>\n",
              "      <th>source</th>\n",
              "      <th>type</th>\n",
              "      <th>code</th>\n",
              "      <th>level</th>\n",
              "      <th>counts</th>\n",
              "    </tr>\n",
              "  </thead>\n",
              "  <tbody>\n",
              "    <tr>\n",
              "      <th>113</th>\n",
              "      <td>scienti</td>\n",
              "      <td>scienti</td>\n",
              "      <td>Producción bibliográfica</td>\n",
              "      <td>1</td>\n",
              "      <td>0</td>\n",
              "      <td>51832</td>\n",
              "    </tr>\n",
              "    <tr>\n",
              "      <th>89</th>\n",
              "      <td>openalex</td>\n",
              "      <td>openalex</td>\n",
              "      <td>article</td>\n",
              "      <td>0</td>\n",
              "      <td>0</td>\n",
              "      <td>45187</td>\n",
              "    </tr>\n",
              "    <tr>\n",
              "      <th>70</th>\n",
              "      <td>openalex</td>\n",
              "      <td>crossref</td>\n",
              "      <td>journal-article</td>\n",
              "      <td>0</td>\n",
              "      <td>0</td>\n",
              "      <td>44126</td>\n",
              "    </tr>\n",
              "    <tr>\n",
              "      <th>112</th>\n",
              "      <td>scienti</td>\n",
              "      <td>scienti</td>\n",
              "      <td>Artículo</td>\n",
              "      <td>11</td>\n",
              "      <td>1</td>\n",
              "      <td>33482</td>\n",
              "    </tr>\n",
              "    <tr>\n",
              "      <th>143</th>\n",
              "      <td>scienti</td>\n",
              "      <td>scienti</td>\n",
              "      <td>Artículo</td>\n",
              "      <td>1A1</td>\n",
              "      <td>2</td>\n",
              "      <td>33482</td>\n",
              "    </tr>\n",
              "    <tr>\n",
              "      <th>122</th>\n",
              "      <td>scienti</td>\n",
              "      <td>scienti</td>\n",
              "      <td>Trabajos dirigidos/Tutorías</td>\n",
              "      <td>6</td>\n",
              "      <td>0</td>\n",
              "      <td>31688</td>\n",
              "    </tr>\n",
              "    <tr>\n",
              "      <th>111</th>\n",
              "      <td>scienti</td>\n",
              "      <td>scienti</td>\n",
              "      <td>Publicado en revista especializada</td>\n",
              "      <td>111</td>\n",
              "      <td>2</td>\n",
              "      <td>30214</td>\n",
              "    </tr>\n",
              "    <tr>\n",
              "      <th>104</th>\n",
              "      <td>scholar</td>\n",
              "      <td>scholar</td>\n",
              "      <td>article</td>\n",
              "      <td>0</td>\n",
              "      <td>0</td>\n",
              "      <td>24895</td>\n",
              "    </tr>\n",
              "    <tr>\n",
              "      <th>49</th>\n",
              "      <td>minciencias</td>\n",
              "      <td>minciencias</td>\n",
              "      <td>Nuevo conocimiento</td>\n",
              "      <td>0</td>\n",
              "      <td>0</td>\n",
              "      <td>18184</td>\n",
              "    </tr>\n",
              "    <tr>\n",
              "      <th>135</th>\n",
              "      <td>scienti</td>\n",
              "      <td>scienti</td>\n",
              "      <td>Trabajos de grado de pregrado</td>\n",
              "      <td>64</td>\n",
              "      <td>1</td>\n",
              "      <td>16151</td>\n",
              "    </tr>\n",
              "    <tr>\n",
              "      <th>48</th>\n",
              "      <td>minciencias</td>\n",
              "      <td>minciencias</td>\n",
              "      <td>Artículos de investigación</td>\n",
              "      <td>0</td>\n",
              "      <td>1</td>\n",
              "      <td>13498</td>\n",
              "    </tr>\n",
              "    <tr>\n",
              "      <th>55</th>\n",
              "      <td>minciencias</td>\n",
              "      <td>minciencias</td>\n",
              "      <td>Formación de recurso humano</td>\n",
              "      <td>0</td>\n",
              "      <td>0</td>\n",
              "      <td>12142</td>\n",
              "    </tr>\n",
              "    <tr>\n",
              "      <th>119</th>\n",
              "      <td>scienti</td>\n",
              "      <td>scienti</td>\n",
              "      <td>Libro</td>\n",
              "      <td>13</td>\n",
              "      <td>1</td>\n",
              "      <td>10953</td>\n",
              "    </tr>\n",
              "    <tr>\n",
              "      <th>147</th>\n",
              "      <td>scienti</td>\n",
              "      <td>scienti</td>\n",
              "      <td>Libro</td>\n",
              "      <td>1A2</td>\n",
              "      <td>2</td>\n",
              "      <td>10953</td>\n",
              "    </tr>\n",
              "    <tr>\n",
              "      <th>121</th>\n",
              "      <td>scienti</td>\n",
              "      <td>scienti</td>\n",
              "      <td>Trabajo de grado de maestría o especialidad cl...</td>\n",
              "      <td>62</td>\n",
              "      <td>1</td>\n",
              "      <td>9347</td>\n",
              "    </tr>\n",
              "    <tr>\n",
              "      <th>56</th>\n",
              "      <td>minciencias</td>\n",
              "      <td>minciencias</td>\n",
              "      <td>Tesis de pregrado</td>\n",
              "      <td>0</td>\n",
              "      <td>1</td>\n",
              "      <td>7195</td>\n",
              "    </tr>\n",
              "    <tr>\n",
              "      <th>51</th>\n",
              "      <td>minciencias</td>\n",
              "      <td>minciencias</td>\n",
              "      <td>Apropiación social del conocimiento</td>\n",
              "      <td>0</td>\n",
              "      <td>0</td>\n",
              "      <td>5891</td>\n",
              "    </tr>\n",
              "    <tr>\n",
              "      <th>50</th>\n",
              "      <td>minciencias</td>\n",
              "      <td>minciencias</td>\n",
              "      <td>Artículos</td>\n",
              "      <td>0</td>\n",
              "      <td>1</td>\n",
              "      <td>5625</td>\n",
              "    </tr>\n",
              "    <tr>\n",
              "      <th>120</th>\n",
              "      <td>scienti</td>\n",
              "      <td>scienti</td>\n",
              "      <td>Otro capítulo de libro publicado</td>\n",
              "      <td>135</td>\n",
              "      <td>2</td>\n",
              "      <td>4547</td>\n",
              "    </tr>\n",
              "    <tr>\n",
              "      <th>126</th>\n",
              "      <td>scienti</td>\n",
              "      <td>scienti</td>\n",
              "      <td>Otro artículo publicado</td>\n",
              "      <td>14</td>\n",
              "      <td>1</td>\n",
              "      <td>4179</td>\n",
              "    </tr>\n",
              "    <tr>\n",
              "      <th>54</th>\n",
              "      <td>minciencias</td>\n",
              "      <td>minciencias</td>\n",
              "      <td>Tesis de maestria</td>\n",
              "      <td>0</td>\n",
              "      <td>1</td>\n",
              "      <td>4133</td>\n",
              "    </tr>\n",
              "    <tr>\n",
              "      <th>118</th>\n",
              "      <td>scienti</td>\n",
              "      <td>scienti</td>\n",
              "      <td>Capítulo de libro</td>\n",
              "      <td>132</td>\n",
              "      <td>2</td>\n",
              "      <td>3612</td>\n",
              "    </tr>\n",
              "    <tr>\n",
              "      <th>125</th>\n",
              "      <td>scienti</td>\n",
              "      <td>scienti</td>\n",
              "      <td>Revista de divulgación</td>\n",
              "      <td>142</td>\n",
              "      <td>2</td>\n",
              "      <td>2944</td>\n",
              "    </tr>\n",
              "    <tr>\n",
              "      <th>131</th>\n",
              "      <td>scienti</td>\n",
              "      <td>scienti</td>\n",
              "      <td>Tesis de doctorado</td>\n",
              "      <td>61</td>\n",
              "      <td>1</td>\n",
              "      <td>2394</td>\n",
              "    </tr>\n",
              "    <tr>\n",
              "      <th>114</th>\n",
              "      <td>scienti</td>\n",
              "      <td>scienti</td>\n",
              "      <td>Corto (Resumen)</td>\n",
              "      <td>112</td>\n",
              "      <td>2</td>\n",
              "      <td>1969</td>\n",
              "    </tr>\n",
              "    <tr>\n",
              "      <th>123</th>\n",
              "      <td>scienti</td>\n",
              "      <td>scienti</td>\n",
              "      <td>Libro resultado de investigación</td>\n",
              "      <td>134</td>\n",
              "      <td>2</td>\n",
              "      <td>1857</td>\n",
              "    </tr>\n",
              "    <tr>\n",
              "      <th>136</th>\n",
              "      <td>scienti</td>\n",
              "      <td>scienti</td>\n",
              "      <td>Documento de trabajo (Working Paper)</td>\n",
              "      <td>1D</td>\n",
              "      <td>1</td>\n",
              "      <td>1784</td>\n",
              "    </tr>\n",
              "    <tr>\n",
              "      <th>52</th>\n",
              "      <td>minciencias</td>\n",
              "      <td>minciencias</td>\n",
              "      <td>Capítulos de libro</td>\n",
              "      <td>0</td>\n",
              "      <td>1</td>\n",
              "      <td>1782</td>\n",
              "    </tr>\n",
              "    <tr>\n",
              "      <th>115</th>\n",
              "      <td>scienti</td>\n",
              "      <td>scienti</td>\n",
              "      <td>Revisión (Survey)</td>\n",
              "      <td>113</td>\n",
              "      <td>2</td>\n",
              "      <td>1724</td>\n",
              "    </tr>\n",
              "    <tr>\n",
              "      <th>117</th>\n",
              "      <td>scienti</td>\n",
              "      <td>scienti</td>\n",
              "      <td>Trabajos en eventos (Capítulos de memoria)</td>\n",
              "      <td>12</td>\n",
              "      <td>1</td>\n",
              "      <td>1719</td>\n",
              "    </tr>\n",
              "    <tr>\n",
              "      <th>145</th>\n",
              "      <td>scienti</td>\n",
              "      <td>scienti</td>\n",
              "      <td>Trabajos dirigidos/Tutorías de otro tipo</td>\n",
              "      <td>66</td>\n",
              "      <td>1</td>\n",
              "      <td>1694</td>\n",
              "    </tr>\n",
              "    <tr>\n",
              "      <th>128</th>\n",
              "      <td>scienti</td>\n",
              "      <td>scienti</td>\n",
              "      <td>Otra producción bibliográfica</td>\n",
              "      <td>1Z</td>\n",
              "      <td>1</td>\n",
              "      <td>1559</td>\n",
              "    </tr>\n",
              "    <tr>\n",
              "      <th>146</th>\n",
              "      <td>scienti</td>\n",
              "      <td>scienti</td>\n",
              "      <td>Otra</td>\n",
              "      <td>1A9</td>\n",
              "      <td>2</td>\n",
              "      <td>1452</td>\n",
              "    </tr>\n",
              "    <tr>\n",
              "      <th>127</th>\n",
              "      <td>scienti</td>\n",
              "      <td>scienti</td>\n",
              "      <td>Otra</td>\n",
              "      <td>1Z9</td>\n",
              "      <td>2</td>\n",
              "      <td>1452</td>\n",
              "    </tr>\n",
              "    <tr>\n",
              "      <th>149</th>\n",
              "      <td>scienti</td>\n",
              "      <td>scienti</td>\n",
              "      <td>Monografía de conclusión de curso de perfeccio...</td>\n",
              "      <td>63</td>\n",
              "      <td>1</td>\n",
              "      <td>1344</td>\n",
              "    </tr>\n",
              "    <tr>\n",
              "      <th>116</th>\n",
              "      <td>scienti</td>\n",
              "      <td>scienti</td>\n",
              "      <td>Completo</td>\n",
              "      <td>121</td>\n",
              "      <td>2</td>\n",
              "      <td>1220</td>\n",
              "    </tr>\n",
              "    <tr>\n",
              "      <th>133</th>\n",
              "      <td>scienti</td>\n",
              "      <td>scienti</td>\n",
              "      <td>Periódico de noticias</td>\n",
              "      <td>141</td>\n",
              "      <td>2</td>\n",
              "      <td>1110</td>\n",
              "    </tr>\n",
              "    <tr>\n",
              "      <th>62</th>\n",
              "      <td>minciencias</td>\n",
              "      <td>minciencias</td>\n",
              "      <td>Informe Final de Investigación</td>\n",
              "      <td>0</td>\n",
              "      <td>1</td>\n",
              "      <td>1096</td>\n",
              "    </tr>\n",
              "    <tr>\n",
              "      <th>57</th>\n",
              "      <td>minciencias</td>\n",
              "      <td>minciencias</td>\n",
              "      <td>Apropiación social del conocimiento y divulgac...</td>\n",
              "      <td>0</td>\n",
              "      <td>0</td>\n",
              "      <td>1093</td>\n",
              "    </tr>\n",
              "    <tr>\n",
              "      <th>105</th>\n",
              "      <td>scholar</td>\n",
              "      <td>scholar</td>\n",
              "      <td>inproceedings</td>\n",
              "      <td>0</td>\n",
              "      <td>0</td>\n",
              "      <td>1054</td>\n",
              "    </tr>\n",
              "    <tr>\n",
              "      <th>139</th>\n",
              "      <td>scienti</td>\n",
              "      <td>scienti</td>\n",
              "      <td>Iniciación Científica</td>\n",
              "      <td>65</td>\n",
              "      <td>1</td>\n",
              "      <td>1036</td>\n",
              "    </tr>\n",
              "    <tr>\n",
              "      <th>90</th>\n",
              "      <td>openalex</td>\n",
              "      <td>openalex</td>\n",
              "      <td>review</td>\n",
              "      <td>0</td>\n",
              "      <td>0</td>\n",
              "      <td>984</td>\n",
              "    </tr>\n",
              "    <tr>\n",
              "      <th>58</th>\n",
              "      <td>minciencias</td>\n",
              "      <td>minciencias</td>\n",
              "      <td>Libros</td>\n",
              "      <td>0</td>\n",
              "      <td>1</td>\n",
              "      <td>918</td>\n",
              "    </tr>\n",
              "    <tr>\n",
              "      <th>97</th>\n",
              "      <td>openalex</td>\n",
              "      <td>openalex</td>\n",
              "      <td>book-chapter</td>\n",
              "      <td>0</td>\n",
              "      <td>0</td>\n",
              "      <td>883</td>\n",
              "    </tr>\n",
              "    <tr>\n",
              "      <th>77</th>\n",
              "      <td>openalex</td>\n",
              "      <td>crossref</td>\n",
              "      <td>book-chapter</td>\n",
              "      <td>0</td>\n",
              "      <td>0</td>\n",
              "      <td>883</td>\n",
              "    </tr>\n",
              "    <tr>\n",
              "      <th>53</th>\n",
              "      <td>minciencias</td>\n",
              "      <td>minciencias</td>\n",
              "      <td>Capítulos de libro de investigación</td>\n",
              "      <td>0</td>\n",
              "      <td>1</td>\n",
              "      <td>867</td>\n",
              "    </tr>\n",
              "    <tr>\n",
              "      <th>65</th>\n",
              "      <td>minciencias</td>\n",
              "      <td>minciencias</td>\n",
              "      <td>Tesis de doctorado</td>\n",
              "      <td>0</td>\n",
              "      <td>1</td>\n",
              "      <td>844</td>\n",
              "    </tr>\n",
              "    <tr>\n",
              "      <th>60</th>\n",
              "      <td>minciencias</td>\n",
              "      <td>minciencias</td>\n",
              "      <td>Documento de trabajo</td>\n",
              "      <td>0</td>\n",
              "      <td>1</td>\n",
              "      <td>818</td>\n",
              "    </tr>\n",
              "    <tr>\n",
              "      <th>76</th>\n",
              "      <td>openalex</td>\n",
              "      <td>crossref</td>\n",
              "      <td>posted-content</td>\n",
              "      <td>0</td>\n",
              "      <td>0</td>\n",
              "      <td>810</td>\n",
              "    </tr>\n",
              "    <tr>\n",
              "      <th>78</th>\n",
              "      <td>openalex</td>\n",
              "      <td>crossref</td>\n",
              "      <td>proceedings-article</td>\n",
              "      <td>0</td>\n",
              "      <td>0</td>\n",
              "      <td>806</td>\n",
              "    </tr>\n",
              "  </tbody>\n",
              "</table>\n",
              "</div>"
            ],
            "text/plain": [
              "      provenance       source  \\\n",
              "113      scienti      scienti   \n",
              "89      openalex     openalex   \n",
              "70      openalex     crossref   \n",
              "112      scienti      scienti   \n",
              "143      scienti      scienti   \n",
              "122      scienti      scienti   \n",
              "111      scienti      scienti   \n",
              "104      scholar      scholar   \n",
              "49   minciencias  minciencias   \n",
              "135      scienti      scienti   \n",
              "48   minciencias  minciencias   \n",
              "55   minciencias  minciencias   \n",
              "119      scienti      scienti   \n",
              "147      scienti      scienti   \n",
              "121      scienti      scienti   \n",
              "56   minciencias  minciencias   \n",
              "51   minciencias  minciencias   \n",
              "50   minciencias  minciencias   \n",
              "120      scienti      scienti   \n",
              "126      scienti      scienti   \n",
              "54   minciencias  minciencias   \n",
              "118      scienti      scienti   \n",
              "125      scienti      scienti   \n",
              "131      scienti      scienti   \n",
              "114      scienti      scienti   \n",
              "123      scienti      scienti   \n",
              "136      scienti      scienti   \n",
              "52   minciencias  minciencias   \n",
              "115      scienti      scienti   \n",
              "117      scienti      scienti   \n",
              "145      scienti      scienti   \n",
              "128      scienti      scienti   \n",
              "146      scienti      scienti   \n",
              "127      scienti      scienti   \n",
              "149      scienti      scienti   \n",
              "116      scienti      scienti   \n",
              "133      scienti      scienti   \n",
              "62   minciencias  minciencias   \n",
              "57   minciencias  minciencias   \n",
              "105      scholar      scholar   \n",
              "139      scienti      scienti   \n",
              "90      openalex     openalex   \n",
              "58   minciencias  minciencias   \n",
              "97      openalex     openalex   \n",
              "77      openalex     crossref   \n",
              "53   minciencias  minciencias   \n",
              "65   minciencias  minciencias   \n",
              "60   minciencias  minciencias   \n",
              "76      openalex     crossref   \n",
              "78      openalex     crossref   \n",
              "\n",
              "                                                  type code  level  counts  \n",
              "113                           Producción bibliográfica    1      0   51832  \n",
              "89                                             article    0      0   45187  \n",
              "70                                     journal-article    0      0   44126  \n",
              "112                                           Artículo   11      1   33482  \n",
              "143                                           Artículo  1A1      2   33482  \n",
              "122                        Trabajos dirigidos/Tutorías    6      0   31688  \n",
              "111                 Publicado en revista especializada  111      2   30214  \n",
              "104                                            article    0      0   24895  \n",
              "49                                  Nuevo conocimiento    0      0   18184  \n",
              "135                      Trabajos de grado de pregrado   64      1   16151  \n",
              "48                          Artículos de investigación    0      1   13498  \n",
              "55                         Formación de recurso humano    0      0   12142  \n",
              "119                                              Libro   13      1   10953  \n",
              "147                                              Libro  1A2      2   10953  \n",
              "121  Trabajo de grado de maestría o especialidad cl...   62      1    9347  \n",
              "56                                   Tesis de pregrado    0      1    7195  \n",
              "51                 Apropiación social del conocimiento    0      0    5891  \n",
              "50                                           Artículos    0      1    5625  \n",
              "120                   Otro capítulo de libro publicado  135      2    4547  \n",
              "126                            Otro artículo publicado   14      1    4179  \n",
              "54                                   Tesis de maestria    0      1    4133  \n",
              "118                                  Capítulo de libro  132      2    3612  \n",
              "125                             Revista de divulgación  142      2    2944  \n",
              "131                                 Tesis de doctorado   61      1    2394  \n",
              "114                                    Corto (Resumen)  112      2    1969  \n",
              "123                   Libro resultado de investigación  134      2    1857  \n",
              "136               Documento de trabajo (Working Paper)   1D      1    1784  \n",
              "52                                  Capítulos de libro    0      1    1782  \n",
              "115                                  Revisión (Survey)  113      2    1724  \n",
              "117         Trabajos en eventos (Capítulos de memoria)   12      1    1719  \n",
              "145           Trabajos dirigidos/Tutorías de otro tipo   66      1    1694  \n",
              "128                      Otra producción bibliográfica   1Z      1    1559  \n",
              "146                                               Otra  1A9      2    1452  \n",
              "127                                               Otra  1Z9      2    1452  \n",
              "149  Monografía de conclusión de curso de perfeccio...   63      1    1344  \n",
              "116                                           Completo  121      2    1220  \n",
              "133                              Periódico de noticias  141      2    1110  \n",
              "62                      Informe Final de Investigación    0      1    1096  \n",
              "57   Apropiación social del conocimiento y divulgac...    0      0    1093  \n",
              "105                                      inproceedings    0      0    1054  \n",
              "139                              Iniciación Científica   65      1    1036  \n",
              "90                                              review    0      0     984  \n",
              "58                                              Libros    0      1     918  \n",
              "97                                        book-chapter    0      0     883  \n",
              "77                                        book-chapter    0      0     883  \n",
              "53                 Capítulos de libro de investigación    0      1     867  \n",
              "65                                  Tesis de doctorado    0      1     844  \n",
              "60                                Documento de trabajo    0      1     818  \n",
              "76                                      posted-content    0      0     810  \n",
              "78                                 proceedings-article    0      0     806  "
            ]
          },
          "execution_count": 74,
          "metadata": {},
          "output_type": "execute_result"
        }
      ],
      "source": [
        "tp.sort_values('counts', ascending=False)[:50]"
      ]
    },
    {
      "cell_type": "code",
      "execution_count": null,
      "id": "e1734e6f-edb7-414a-b2f7-1ca189b7359f",
      "metadata": {
        "id": "e1734e6f-edb7-414a-b2f7-1ca189b7359f",
        "outputId": "f772565d-5f06-40d3-9b72-daf67b6bd5bc"
      },
      "outputs": [
        {
          "data": {
            "text/html": [
              "<div>\n",
              "<style scoped>\n",
              "    .dataframe tbody tr th:only-of-type {\n",
              "        vertical-align: middle;\n",
              "    }\n",
              "\n",
              "    .dataframe tbody tr th {\n",
              "        vertical-align: top;\n",
              "    }\n",
              "\n",
              "    .dataframe thead th {\n",
              "        text-align: right;\n",
              "    }\n",
              "</style>\n",
              "<table border=\"1\" class=\"dataframe\">\n",
              "  <thead>\n",
              "    <tr style=\"text-align: right;\">\n",
              "      <th></th>\n",
              "      <th>provenance</th>\n",
              "      <th>source</th>\n",
              "      <th>type</th>\n",
              "      <th>code</th>\n",
              "      <th>level</th>\n",
              "      <th>counts</th>\n",
              "    </tr>\n",
              "  </thead>\n",
              "  <tbody>\n",
              "    <tr>\n",
              "      <th>49</th>\n",
              "      <td>minciencias</td>\n",
              "      <td>minciencias</td>\n",
              "      <td>Nuevo conocimiento</td>\n",
              "      <td>0</td>\n",
              "      <td>0</td>\n",
              "      <td>18184</td>\n",
              "    </tr>\n",
              "    <tr>\n",
              "      <th>48</th>\n",
              "      <td>minciencias</td>\n",
              "      <td>minciencias</td>\n",
              "      <td>Artículos de investigación</td>\n",
              "      <td>0</td>\n",
              "      <td>1</td>\n",
              "      <td>13498</td>\n",
              "    </tr>\n",
              "    <tr>\n",
              "      <th>55</th>\n",
              "      <td>minciencias</td>\n",
              "      <td>minciencias</td>\n",
              "      <td>Formación de recurso humano</td>\n",
              "      <td>0</td>\n",
              "      <td>0</td>\n",
              "      <td>12142</td>\n",
              "    </tr>\n",
              "    <tr>\n",
              "      <th>56</th>\n",
              "      <td>minciencias</td>\n",
              "      <td>minciencias</td>\n",
              "      <td>Tesis de pregrado</td>\n",
              "      <td>0</td>\n",
              "      <td>1</td>\n",
              "      <td>7195</td>\n",
              "    </tr>\n",
              "    <tr>\n",
              "      <th>51</th>\n",
              "      <td>minciencias</td>\n",
              "      <td>minciencias</td>\n",
              "      <td>Apropiación social del conocimiento</td>\n",
              "      <td>0</td>\n",
              "      <td>0</td>\n",
              "      <td>5891</td>\n",
              "    </tr>\n",
              "    <tr>\n",
              "      <th>50</th>\n",
              "      <td>minciencias</td>\n",
              "      <td>minciencias</td>\n",
              "      <td>Artículos</td>\n",
              "      <td>0</td>\n",
              "      <td>1</td>\n",
              "      <td>5625</td>\n",
              "    </tr>\n",
              "    <tr>\n",
              "      <th>54</th>\n",
              "      <td>minciencias</td>\n",
              "      <td>minciencias</td>\n",
              "      <td>Tesis de maestria</td>\n",
              "      <td>0</td>\n",
              "      <td>1</td>\n",
              "      <td>4133</td>\n",
              "    </tr>\n",
              "    <tr>\n",
              "      <th>52</th>\n",
              "      <td>minciencias</td>\n",
              "      <td>minciencias</td>\n",
              "      <td>Capítulos de libro</td>\n",
              "      <td>0</td>\n",
              "      <td>1</td>\n",
              "      <td>1782</td>\n",
              "    </tr>\n",
              "    <tr>\n",
              "      <th>62</th>\n",
              "      <td>minciencias</td>\n",
              "      <td>minciencias</td>\n",
              "      <td>Informe Final de Investigación</td>\n",
              "      <td>0</td>\n",
              "      <td>1</td>\n",
              "      <td>1096</td>\n",
              "    </tr>\n",
              "    <tr>\n",
              "      <th>57</th>\n",
              "      <td>minciencias</td>\n",
              "      <td>minciencias</td>\n",
              "      <td>Apropiación social del conocimiento y divulgac...</td>\n",
              "      <td>0</td>\n",
              "      <td>0</td>\n",
              "      <td>1093</td>\n",
              "    </tr>\n",
              "    <tr>\n",
              "      <th>58</th>\n",
              "      <td>minciencias</td>\n",
              "      <td>minciencias</td>\n",
              "      <td>Libros</td>\n",
              "      <td>0</td>\n",
              "      <td>1</td>\n",
              "      <td>918</td>\n",
              "    </tr>\n",
              "    <tr>\n",
              "      <th>53</th>\n",
              "      <td>minciencias</td>\n",
              "      <td>minciencias</td>\n",
              "      <td>Capítulos de libro de investigación</td>\n",
              "      <td>0</td>\n",
              "      <td>1</td>\n",
              "      <td>867</td>\n",
              "    </tr>\n",
              "    <tr>\n",
              "      <th>65</th>\n",
              "      <td>minciencias</td>\n",
              "      <td>minciencias</td>\n",
              "      <td>Tesis de doctorado</td>\n",
              "      <td>0</td>\n",
              "      <td>1</td>\n",
              "      <td>844</td>\n",
              "    </tr>\n",
              "    <tr>\n",
              "      <th>60</th>\n",
              "      <td>minciencias</td>\n",
              "      <td>minciencias</td>\n",
              "      <td>Documento de trabajo</td>\n",
              "      <td>0</td>\n",
              "      <td>1</td>\n",
              "      <td>818</td>\n",
              "    </tr>\n",
              "    <tr>\n",
              "      <th>59</th>\n",
              "      <td>minciencias</td>\n",
              "      <td>minciencias</td>\n",
              "      <td>Libros de investigación</td>\n",
              "      <td>0</td>\n",
              "      <td>1</td>\n",
              "      <td>301</td>\n",
              "    </tr>\n",
              "    <tr>\n",
              "      <th>63</th>\n",
              "      <td>minciencias</td>\n",
              "      <td>minciencias</td>\n",
              "      <td>Boletín divulgativo de resultado de investigación</td>\n",
              "      <td>0</td>\n",
              "      <td>1</td>\n",
              "      <td>146</td>\n",
              "    </tr>\n",
              "    <tr>\n",
              "      <th>69</th>\n",
              "      <td>minciencias</td>\n",
              "      <td>minciencias</td>\n",
              "      <td>Informe técnico final</td>\n",
              "      <td>0</td>\n",
              "      <td>1</td>\n",
              "      <td>97</td>\n",
              "    </tr>\n",
              "    <tr>\n",
              "      <th>68</th>\n",
              "      <td>minciencias</td>\n",
              "      <td>minciencias</td>\n",
              "      <td>Desarrollo tecnológico e innovación</td>\n",
              "      <td>0</td>\n",
              "      <td>0</td>\n",
              "      <td>82</td>\n",
              "    </tr>\n",
              "    <tr>\n",
              "      <th>64</th>\n",
              "      <td>minciencias</td>\n",
              "      <td>minciencias</td>\n",
              "      <td>Publicaciones editoriales no especializadas</td>\n",
              "      <td>0</td>\n",
              "      <td>1</td>\n",
              "      <td>43</td>\n",
              "    </tr>\n",
              "    <tr>\n",
              "      <th>67</th>\n",
              "      <td>minciencias</td>\n",
              "      <td>minciencias</td>\n",
              "      <td>Generación de contenido impresa</td>\n",
              "      <td>0</td>\n",
              "      <td>1</td>\n",
              "      <td>33</td>\n",
              "    </tr>\n",
              "    <tr>\n",
              "      <th>61</th>\n",
              "      <td>minciencias</td>\n",
              "      <td>minciencias</td>\n",
              "      <td>Notas científica</td>\n",
              "      <td>0</td>\n",
              "      <td>1</td>\n",
              "      <td>13</td>\n",
              "    </tr>\n",
              "    <tr>\n",
              "      <th>66</th>\n",
              "      <td>minciencias</td>\n",
              "      <td>minciencias</td>\n",
              "      <td>Libros de Divulgación de investigación y/o Com...</td>\n",
              "      <td>0</td>\n",
              "      <td>1</td>\n",
              "      <td>13</td>\n",
              "    </tr>\n",
              "  </tbody>\n",
              "</table>\n",
              "</div>"
            ],
            "text/plain": [
              "     provenance       source  \\\n",
              "49  minciencias  minciencias   \n",
              "48  minciencias  minciencias   \n",
              "55  minciencias  minciencias   \n",
              "56  minciencias  minciencias   \n",
              "51  minciencias  minciencias   \n",
              "50  minciencias  minciencias   \n",
              "54  minciencias  minciencias   \n",
              "52  minciencias  minciencias   \n",
              "62  minciencias  minciencias   \n",
              "57  minciencias  minciencias   \n",
              "58  minciencias  minciencias   \n",
              "53  minciencias  minciencias   \n",
              "65  minciencias  minciencias   \n",
              "60  minciencias  minciencias   \n",
              "59  minciencias  minciencias   \n",
              "63  minciencias  minciencias   \n",
              "69  minciencias  minciencias   \n",
              "68  minciencias  minciencias   \n",
              "64  minciencias  minciencias   \n",
              "67  minciencias  minciencias   \n",
              "61  minciencias  minciencias   \n",
              "66  minciencias  minciencias   \n",
              "\n",
              "                                                 type code  level  counts  \n",
              "49                                 Nuevo conocimiento    0      0   18184  \n",
              "48                         Artículos de investigación    0      1   13498  \n",
              "55                        Formación de recurso humano    0      0   12142  \n",
              "56                                  Tesis de pregrado    0      1    7195  \n",
              "51                Apropiación social del conocimiento    0      0    5891  \n",
              "50                                          Artículos    0      1    5625  \n",
              "54                                  Tesis de maestria    0      1    4133  \n",
              "52                                 Capítulos de libro    0      1    1782  \n",
              "62                     Informe Final de Investigación    0      1    1096  \n",
              "57  Apropiación social del conocimiento y divulgac...    0      0    1093  \n",
              "58                                             Libros    0      1     918  \n",
              "53                Capítulos de libro de investigación    0      1     867  \n",
              "65                                 Tesis de doctorado    0      1     844  \n",
              "60                               Documento de trabajo    0      1     818  \n",
              "59                            Libros de investigación    0      1     301  \n",
              "63  Boletín divulgativo de resultado de investigación    0      1     146  \n",
              "69                              Informe técnico final    0      1      97  \n",
              "68                Desarrollo tecnológico e innovación    0      0      82  \n",
              "64        Publicaciones editoriales no especializadas    0      1      43  \n",
              "67                    Generación de contenido impresa    0      1      33  \n",
              "61                                   Notas científica    0      1      13  \n",
              "66  Libros de Divulgación de investigación y/o Com...    0      1      13  "
            ]
          },
          "execution_count": 75,
          "metadata": {},
          "output_type": "execute_result"
        }
      ],
      "source": [
        "tp[tp['provenance'] == 'minciencias'].sort_values('counts', ascending=False)"
      ]
    },
    {
      "cell_type": "markdown",
      "id": "56570691-0a68-4ddc-8161-d4b287a33913",
      "metadata": {
        "id": "56570691-0a68-4ddc-8161-d4b287a33913"
      },
      "source": [
        "Scienti with different `level = 1`"
      ]
    },
    {
      "cell_type": "code",
      "execution_count": null,
      "id": "a5a8205c-8e9b-4e64-b70f-b65fcba85a88",
      "metadata": {
        "id": "a5a8205c-8e9b-4e64-b70f-b65fcba85a88"
      },
      "outputs": [],
      "source": [
        "df['level_0_scienti'] = df['types'].apply(\n",
        "    lambda L: set([d.get('type') for d in L if d.get('provenance') == 'scienti' and d.get('level') == 0\n",
        "              ]))\n",
        "df['level_1_scienti'] = df['types'].apply(\n",
        "    lambda L: set([d.get('type') for d in L if d.get('provenance') == 'scienti' and d.get('level') == 1\n",
        "              ]))\n",
        "\n",
        "df['level_2_scienti'] = df['types'].apply(\n",
        "    lambda L: set([d.get('type') for d in L if d.get('provenance') == 'scienti' and d.get('level') == 2\n",
        "              ]))"
      ]
    },
    {
      "cell_type": "code",
      "execution_count": null,
      "id": "43a95f8d-78fe-41ce-8dda-689bb13c753a",
      "metadata": {
        "id": "43a95f8d-78fe-41ce-8dda-689bb13c753a"
      },
      "outputs": [],
      "source": [
        "df['level_0_minciencias'] = df['types'].apply(\n",
        "    lambda L: set([d.get('type') for d in L if d.get('provenance') == 'minciencias' and d.get('level') == 0\n",
        "              ]))\n",
        "df['level_1_minciencias'] = df['types'].apply(\n",
        "    lambda L: set([d.get('type') for d in L if d.get('provenance') == 'minciencias' and d.get('level') == 1\n",
        "              ]))"
      ]
    },
    {
      "cell_type": "code",
      "execution_count": null,
      "id": "dee3a113-30b5-4008-b8c5-f3b0f961dbfe",
      "metadata": {
        "id": "dee3a113-30b5-4008-b8c5-f3b0f961dbfe",
        "outputId": "f96b018e-e17f-46f5-ef61-2650b0ebd37d"
      },
      "outputs": [
        {
          "data": {
            "text/plain": [
              "0         {Producción bibliográfica}\n",
              "1                                 {}\n",
              "2         {Producción bibliográfica}\n",
              "3                                 {}\n",
              "4         {Producción bibliográfica}\n",
              "                     ...            \n",
              "104253                            {}\n",
              "104254                            {}\n",
              "104255                            {}\n",
              "104256                            {}\n",
              "104257                            {}\n",
              "Name: level_0_scienti, Length: 104258, dtype: object"
            ]
          },
          "execution_count": 81,
          "metadata": {},
          "output_type": "execute_result"
        }
      ],
      "source": [
        "df['level_0_scienti']"
      ]
    },
    {
      "cell_type": "code",
      "execution_count": null,
      "id": "9bb11fb0-26b7-4a27-a715-8f69f95d1779",
      "metadata": {
        "id": "9bb11fb0-26b7-4a27-a715-8f69f95d1779",
        "outputId": "81117ae3-0fe2-4e19-853d-3910b6ce64f0"
      },
      "outputs": [
        {
          "data": {
            "text/plain": [
              "Index(['apc', 'authors', 'authors_count', 'bibliographic_info', 'citations',\n",
              "       'citations_by_year', 'citations_count', 'date_published', 'doi',\n",
              "       'external_ids', 'external_urls', 'groups', 'id', 'keywords',\n",
              "       'open_access', 'ranking', 'references', 'source', 'subjects', 'titles',\n",
              "       'types', 'updated', 'year_published', 'provenance', 'type',\n",
              "       'level_0_scienti', 'level_1_scienti', 'level_2_scienti',\n",
              "       'level_0_minciencias', 'level_1_minciencias'],\n",
              "      dtype='object')"
            ]
          },
          "execution_count": 78,
          "metadata": {},
          "output_type": "execute_result"
        }
      ],
      "source": [
        "df.columns"
      ]
    },
    {
      "cell_type": "markdown",
      "id": "e8728d46-7473-4434-9e49-98f2d9df7f01",
      "metadata": {
        "id": "e8728d46-7473-4434-9e49-98f2d9df7f01"
      },
      "source": [
        "products with different scienti `level:0` → different products"
      ]
    },
    {
      "cell_type": "code",
      "execution_count": null,
      "id": "b8ddadbc-cbbd-4d89-ba89-1d02c362baca",
      "metadata": {
        "id": "b8ddadbc-cbbd-4d89-ba89-1d02c362baca",
        "outputId": "32f5f9a3-cc5e-4f59-dccd-d38de22fdb5b"
      },
      "outputs": [
        {
          "data": {
            "text/html": [
              "<div>\n",
              "<style scoped>\n",
              "    .dataframe tbody tr th:only-of-type {\n",
              "        vertical-align: middle;\n",
              "    }\n",
              "\n",
              "    .dataframe tbody tr th {\n",
              "        vertical-align: top;\n",
              "    }\n",
              "\n",
              "    .dataframe thead th {\n",
              "        text-align: right;\n",
              "    }\n",
              "</style>\n",
              "<table border=\"1\" class=\"dataframe\">\n",
              "  <thead>\n",
              "    <tr style=\"text-align: right;\">\n",
              "      <th></th>\n",
              "      <th>apc</th>\n",
              "      <th>authors</th>\n",
              "      <th>authors_count</th>\n",
              "      <th>bibliographic_info</th>\n",
              "      <th>citations</th>\n",
              "      <th>citations_by_year</th>\n",
              "      <th>citations_count</th>\n",
              "      <th>date_published</th>\n",
              "      <th>doi</th>\n",
              "      <th>external_ids</th>\n",
              "      <th>...</th>\n",
              "      <th>types</th>\n",
              "      <th>updated</th>\n",
              "      <th>year_published</th>\n",
              "      <th>provenance</th>\n",
              "      <th>type</th>\n",
              "      <th>level_0_scienti</th>\n",
              "      <th>level_1_scienti</th>\n",
              "      <th>level_2_scienti</th>\n",
              "      <th>level_0_minciencias</th>\n",
              "      <th>level_1_minciencias</th>\n",
              "    </tr>\n",
              "  </thead>\n",
              "  <tbody>\n",
              "  </tbody>\n",
              "</table>\n",
              "<p>0 rows × 30 columns</p>\n",
              "</div>"
            ],
            "text/plain": [
              "Empty DataFrame\n",
              "Columns: [apc, authors, authors_count, bibliographic_info, citations, citations_by_year, citations_count, date_published, doi, external_ids, external_urls, groups, id, keywords, open_access, ranking, references, source, subjects, titles, types, updated, year_published, provenance, type, level_0_scienti, level_1_scienti, level_2_scienti, level_0_minciencias, level_1_minciencias]\n",
              "Index: []\n",
              "\n",
              "[0 rows x 30 columns]"
            ]
          },
          "execution_count": 82,
          "metadata": {},
          "output_type": "execute_result"
        }
      ],
      "source": [
        "df[ df['level_0_scienti'].apply(len) > 1]#[['level_1_scienti','external_ids']].sample().iloc[0].to_dict()"
      ]
    },
    {
      "cell_type": "markdown",
      "id": "ab5818fc-10c4-4a21-bf95-3210d70efc43",
      "metadata": {
        "id": "ab5818fc-10c4-4a21-bf95-3210d70efc43"
      },
      "source": [
        "products with different scienti `level:1` → same product in each case"
      ]
    },
    {
      "cell_type": "code",
      "execution_count": null,
      "id": "4aa97d4e-5d65-4b69-8809-7e1123615f8c",
      "metadata": {
        "id": "4aa97d4e-5d65-4b69-8809-7e1123615f8c",
        "outputId": "b2264fe5-f80c-4a09-ae77-52479ccdc408"
      },
      "outputs": [
        {
          "data": {
            "text/plain": [
              "{'level_0_minciencias': {'Nuevo conocimiento'},\n",
              " 'level_0_scienti': {'Producción bibliográfica'},\n",
              " 'level_1_scienti': {'Artículo', 'Trabajos en eventos (Capítulos de memoria)'},\n",
              " 'external_ids': [{'id': '0000145858-130',\n",
              "   'provenance': 'scienti',\n",
              "   'source': 'scienti'},\n",
              "  {'id': '0000145858-130', 'provenance': 'scienti', 'source': 'scienti'},\n",
              "  {'id': '0000177300-142', 'provenance': 'scienti', 'source': 'scienti'},\n",
              "  {'id': '0000772917-16', 'provenance': 'scienti', 'source': 'scienti'},\n",
              "  {'id': '104468-0000145858-1740359878',\n",
              "   'provenance': 'ciarp',\n",
              "   'source': 'ciarp'},\n",
              "  {'id': 'ART-0000145858-130',\n",
              "   'provenance': 'minciencias',\n",
              "   'source': 'minciencias'},\n",
              "  {'id': '0000145858-130', 'provenance': 'minciencias', 'source': 'scienti'}]}"
            ]
          },
          "execution_count": 83,
          "metadata": {},
          "output_type": "execute_result"
        }
      ],
      "source": [
        "df[ df['level_1_scienti'].apply(len) > 1][['level_0_minciencias','level_0_scienti','level_1_scienti','external_ids']].sample().iloc[0].to_dict()"
      ]
    },
    {
      "cell_type": "markdown",
      "id": "8bb2b6f0-1863-4ab5-a0f7-a461b76ca9e0",
      "metadata": {
        "id": "8bb2b6f0-1863-4ab5-a0f7-a461b76ca9e0"
      },
      "source": [
        "products with different scienti `level:2` → same product in each case"
      ]
    },
    {
      "cell_type": "code",
      "execution_count": null,
      "id": "334ba201-7c13-4c2d-86a4-60d365593c66",
      "metadata": {
        "id": "334ba201-7c13-4c2d-86a4-60d365593c66",
        "outputId": "3aabaf48-3129-4308-f4e7-f45cb69daa45"
      },
      "outputs": [
        {
          "data": {
            "text/plain": [
              "{'level_0_scienti': {'Producción bibliográfica'},\n",
              " 'level_1_scienti': {'Artículo'},\n",
              " 'level_2_scienti': {'Publicado en revista especializada',\n",
              "  'Revisión (Survey)'},\n",
              " 'external_ids': [{'id': 'https://openalex.org/W2376394569',\n",
              "   'provenance': 'openalex',\n",
              "   'source': 'openalex'},\n",
              "  {'id': 'https://doi.org/10.17230/ingciencia.12.23.9',\n",
              "   'provenance': 'openalex',\n",
              "   'source': 'doi'},\n",
              "  {'id': 2376394569, 'provenance': 'openalex', 'source': 'mag'},\n",
              "  {'id': '0000526762-35', 'provenance': 'scienti', 'source': 'scienti'},\n",
              "  {'id': 'https://doi.org/10.17230/ingciencia.12.23.9',\n",
              "   'provenance': 'scienti',\n",
              "   'source': 'doi'},\n",
              "  {'id': '0001348609-45', 'provenance': 'scienti', 'source': 'scienti'},\n",
              "  {'id': '8yyE0fWfvmIJ', 'provenance': 'scholar', 'source': 'scholar'},\n",
              "  {'id': '0001498201-3', 'provenance': 'scienti', 'source': 'scienti'},\n",
              "  {'id': '14398-31642512-1740359297',\n",
              "   'provenance': 'ciarp',\n",
              "   'source': 'ciarp'},\n",
              "  {'id': '14540-98666408-1740359297',\n",
              "   'provenance': 'ciarp',\n",
              "   'source': 'ciarp'},\n",
              "  {'id': 'ART-0000526762-35',\n",
              "   'provenance': 'minciencias',\n",
              "   'source': 'minciencias'},\n",
              "  {'id': '0000526762-35', 'provenance': 'minciencias', 'source': 'scienti'}]}"
            ]
          },
          "execution_count": 84,
          "metadata": {},
          "output_type": "execute_result"
        }
      ],
      "source": [
        "kk = df[ df['level_2_scienti'].apply(len) > 1]#\n",
        "kk[['level_0_scienti','level_1_scienti','level_2_scienti','external_ids']].sample().iloc[0].to_dict()"
      ]
    },
    {
      "cell_type": "code",
      "execution_count": null,
      "id": "b79b333e-6578-4bfc-ae6b-49c582bc3c91",
      "metadata": {
        "id": "b79b333e-6578-4bfc-ae6b-49c582bc3c91"
      },
      "outputs": [],
      "source": [
        "import re"
      ]
    },
    {
      "cell_type": "code",
      "execution_count": null,
      "id": "2ac27cf1-2bb1-4acf-b68c-6f642e216002",
      "metadata": {
        "id": "2ac27cf1-2bb1-4acf-b68c-6f642e216002"
      },
      "outputs": [],
      "source": [
        "re.search('^Libro','A Libro')"
      ]
    },
    {
      "cell_type": "code",
      "execution_count": null,
      "id": "d35127c1-1e9f-40b5-aaea-0fdc8f3b3064",
      "metadata": {
        "id": "d35127c1-1e9f-40b5-aaea-0fdc8f3b3064",
        "outputId": "a9d8879d-7a42-4308-d3b9-c6c799ebe7f6"
      },
      "outputs": [
        {
          "data": {
            "text/plain": [
              "{'level_0_scienti': {'Producción bibliográfica'},\n",
              " 'level_1_scienti': {'Libro'},\n",
              " 'level_2_scienti': {'Capítulo de libro',\n",
              "  'Libro pedagógico y/o de divulgación',\n",
              "  'Otro capítulo de libro publicado'},\n",
              " 'external_ids': [{'id': '0000030147-39',\n",
              "   'provenance': 'scienti',\n",
              "   'source': 'scienti'},\n",
              "  {'id': '0000030147-39', 'provenance': 'scienti', 'source': 'scienti'},\n",
              "  {'id': '0000033413-18924', 'provenance': 'scienti', 'source': 'scienti'},\n",
              "  {'id': '0000826340-26', 'provenance': 'scienti', 'source': 'scienti'},\n",
              "  {'id': '23523-76320071-1740359297',\n",
              "   'provenance': 'ciarp',\n",
              "   'source': 'ciarp'}]}"
            ]
          },
          "execution_count": 87,
          "metadata": {},
          "output_type": "execute_result"
        }
      ],
      "source": [
        "kkk = kk[kk['level_2_scienti'].apply(\n",
        "    lambda L: [x for x in L if re.search('^Libro',x)]).apply(len) > 0\n",
        "                       ]\n",
        "kkk[kkk['level_2_scienti'].apply(lambda L: [x for x in L if re.search('Capítulo',x)]).apply(len) > 0\n",
        "    ][['level_0_scienti','level_1_scienti','level_2_scienti','external_ids']].sample().iloc[0].to_dict()"
      ]
    },
    {
      "cell_type": "code",
      "execution_count": null,
      "id": "4b3617a7-5cda-48c6-a7b6-16bdac0027c4",
      "metadata": {
        "id": "4b3617a7-5cda-48c6-a7b6-16bdac0027c4"
      },
      "outputs": [],
      "source": [
        "pd.set_option('display.max_colwidth',200)"
      ]
    },
    {
      "cell_type": "code",
      "execution_count": null,
      "id": "94e4c927-5865-4546-85f6-3d49f2e2eaec",
      "metadata": {
        "id": "94e4c927-5865-4546-85f6-3d49f2e2eaec",
        "outputId": "9ec347fc-35f6-4a2c-d8cb-74b172fc614b"
      },
      "outputs": [
        {
          "data": {
            "text/html": [
              "<div>\n",
              "<style scoped>\n",
              "    .dataframe tbody tr th:only-of-type {\n",
              "        vertical-align: middle;\n",
              "    }\n",
              "\n",
              "    .dataframe tbody tr th {\n",
              "        vertical-align: top;\n",
              "    }\n",
              "\n",
              "    .dataframe thead th {\n",
              "        text-align: right;\n",
              "    }\n",
              "</style>\n",
              "<table border=\"1\" class=\"dataframe\">\n",
              "  <thead>\n",
              "    <tr style=\"text-align: right;\">\n",
              "      <th></th>\n",
              "      <th>level_0_minciencias</th>\n",
              "      <th>level_1_minciencias</th>\n",
              "      <th>level_0_scienti</th>\n",
              "      <th>level_1_scienti</th>\n",
              "      <th>level_2_scienti</th>\n",
              "    </tr>\n",
              "  </thead>\n",
              "  <tbody>\n",
              "    <tr>\n",
              "      <th>0</th>\n",
              "      <td>{'Nuevo conocimiento'}</td>\n",
              "      <td>{'Artículos de investigación'}</td>\n",
              "      <td>{'Producción bibliográfica'}</td>\n",
              "      <td>{'Artículo'}</td>\n",
              "      <td>{'Publicado en revista especializada'}</td>\n",
              "    </tr>\n",
              "    <tr>\n",
              "      <th>31941</th>\n",
              "      <td>{'Nuevo conocimiento'}</td>\n",
              "      <td>{'Artículos de investigación'}</td>\n",
              "      <td>{'Producción bibliográfica'}</td>\n",
              "      <td>{'Otro artículo publicado', 'Otra producción bibliográfica', 'Trabajos en eventos (Capítulos de memoria)'}</td>\n",
              "      <td>{'Revista de divulgación', 'Completo', 'Otra'}</td>\n",
              "    </tr>\n",
              "    <tr>\n",
              "      <th>2581</th>\n",
              "      <td>{'Nuevo conocimiento'}</td>\n",
              "      <td>{'Artículos de investigación'}</td>\n",
              "      <td>{'Trabajos dirigidos/Tutorías'}</td>\n",
              "      <td>{'Trabajo de grado de maestría o especialidad clínica'}</td>\n",
              "      <td>set()</td>\n",
              "    </tr>\n",
              "    <tr>\n",
              "      <th>2917</th>\n",
              "      <td>{'Nuevo conocimiento'}</td>\n",
              "      <td>{'Artículos de investigación'}</td>\n",
              "      <td>{'Producción bibliográfica'}</td>\n",
              "      <td>{'Artículo', 'Documento de trabajo (Working Paper)'}</td>\n",
              "      <td>{'Publicado en revista especializada', 'Corto (Resumen)'}</td>\n",
              "    </tr>\n",
              "    <tr>\n",
              "      <th>3534</th>\n",
              "      <td>{'Nuevo conocimiento'}</td>\n",
              "      <td>{'Artículos de investigación'}</td>\n",
              "      <td>{'Producción bibliográfica'}</td>\n",
              "      <td>{'Trabajos en eventos (Capítulos de memoria)'}</td>\n",
              "      <td>{'Completo'}</td>\n",
              "    </tr>\n",
              "    <tr>\n",
              "      <th>70884</th>\n",
              "      <td>{'Nuevo conocimiento'}</td>\n",
              "      <td>{'Artículos de investigación'}</td>\n",
              "      <td>{'Trabajos dirigidos/Tutorías'}</td>\n",
              "      <td>{'Monografía de conclusión de curso de perfeccionamiento/especialización'}</td>\n",
              "      <td>set()</td>\n",
              "    </tr>\n",
              "    <tr>\n",
              "      <th>30327</th>\n",
              "      <td>{'Nuevo conocimiento'}</td>\n",
              "      <td>{'Artículos de investigación'}</td>\n",
              "      <td>{'Producción bibliográfica'}</td>\n",
              "      <td>{'Documento de trabajo (Working Paper)'}</td>\n",
              "      <td>set()</td>\n",
              "    </tr>\n",
              "    <tr>\n",
              "      <th>5404</th>\n",
              "      <td>{'Nuevo conocimiento'}</td>\n",
              "      <td>{'Artículos de investigación'}</td>\n",
              "      <td>{'Producción bibliográfica'}</td>\n",
              "      <td>{'Artículo', 'Otra producción bibliográfica'}</td>\n",
              "      <td>{'Publicado en revista especializada', 'Otra'}</td>\n",
              "    </tr>\n",
              "    <tr>\n",
              "      <th>30303</th>\n",
              "      <td>{'Nuevo conocimiento'}</td>\n",
              "      <td>{'Artículos de investigación'}</td>\n",
              "      <td>{'Producción bibliográfica'}</td>\n",
              "      <td>{'Libro', 'Trabajos en eventos (Capítulos de memoria)'}</td>\n",
              "      <td>{'Capítulo de libro', 'Completo'}</td>\n",
              "    </tr>\n",
              "    <tr>\n",
              "      <th>7850</th>\n",
              "      <td>{'Nuevo conocimiento'}</td>\n",
              "      <td>{'Artículos de investigación'}</td>\n",
              "      <td>{'Producción bibliográfica'}</td>\n",
              "      <td>{'Artículo', 'Nota científica'}</td>\n",
              "      <td>{'Publicado en revista especializada'}</td>\n",
              "    </tr>\n",
              "    <tr>\n",
              "      <th>26004</th>\n",
              "      <td>{'Nuevo conocimiento'}</td>\n",
              "      <td>{'Artículos de investigación'}</td>\n",
              "      <td>{'Producción bibliográfica'}</td>\n",
              "      <td>{'Traducciones'}</td>\n",
              "      <td>{'Otra'}</td>\n",
              "    </tr>\n",
              "    <tr>\n",
              "      <th>47584</th>\n",
              "      <td>{'Nuevo conocimiento'}</td>\n",
              "      <td>{'Artículos de investigación'}</td>\n",
              "      <td>{'Producción bibliográfica'}</td>\n",
              "      <td>{'Artículo', 'Documento de trabajo (Working Paper)', 'Otra producción bibliográfica'}</td>\n",
              "      <td>{'Corto (Resumen)', 'Publicado en revista especializada', 'Otra'}</td>\n",
              "    </tr>\n",
              "    <tr>\n",
              "      <th>9606</th>\n",
              "      <td>{'Nuevo conocimiento'}</td>\n",
              "      <td>{'Artículos de investigación'}</td>\n",
              "      <td>{'Producción bibliográfica'}</td>\n",
              "      <td>{'Otro artículo publicado', 'Libro'}</td>\n",
              "      <td>{'Otro capítulo de libro publicado', 'Revista de divulgación'}</td>\n",
              "    </tr>\n",
              "    <tr>\n",
              "      <th>49301</th>\n",
              "      <td>{'Nuevo conocimiento'}</td>\n",
              "      <td>{'Artículos de investigación'}</td>\n",
              "      <td>{'Producción bibliográfica'}</td>\n",
              "      <td>{'Artículo', 'Otro artículo publicado', 'Libro'}</td>\n",
              "      <td>{'Otro capítulo de libro publicado', 'Revista de divulgación', 'Capítulo de libro', 'Publicado en revista especializada'}</td>\n",
              "    </tr>\n",
              "    <tr>\n",
              "      <th>11654</th>\n",
              "      <td>{'Nuevo conocimiento'}</td>\n",
              "      <td>{'Artículos de investigación'}</td>\n",
              "      <td>{'Producción bibliográfica'}</td>\n",
              "      <td>{'Nota científica'}</td>\n",
              "      <td>set()</td>\n",
              "    </tr>\n",
              "    <tr>\n",
              "      <th>61328</th>\n",
              "      <td>{'Nuevo conocimiento'}</td>\n",
              "      <td>{'Artículos de investigación'}</td>\n",
              "      <td>{'Producción bibliográfica'}</td>\n",
              "      <td>{'Artículo', 'Otro artículo publicado', 'Otra producción bibliográfica', 'Trabajos en eventos (Capítulos de memoria)'}</td>\n",
              "      <td>{'Periódico de noticias', 'Resumen', 'Corto (Resumen)', 'Otra'}</td>\n",
              "    </tr>\n",
              "    <tr>\n",
              "      <th>13213</th>\n",
              "      <td>{'Nuevo conocimiento'}</td>\n",
              "      <td>{'Artículos de investigación'}</td>\n",
              "      <td>{'Producción bibliográfica'}</td>\n",
              "      <td>{'Libro'}</td>\n",
              "      <td>{'Capítulo de libro'}</td>\n",
              "    </tr>\n",
              "    <tr>\n",
              "      <th>24930</th>\n",
              "      <td>{'Nuevo conocimiento'}</td>\n",
              "      <td>{'Artículos de investigación'}</td>\n",
              "      <td>{'Trabajos dirigidos/Tutorías'}</td>\n",
              "      <td>{'Trabajos dirigidos/Tutorías de otro tipo'}</td>\n",
              "      <td>set()</td>\n",
              "    </tr>\n",
              "    <tr>\n",
              "      <th>14692</th>\n",
              "      <td>{'Nuevo conocimiento'}</td>\n",
              "      <td>{'Artículos de investigación'}</td>\n",
              "      <td>{'Trabajos dirigidos/Tutorías'}</td>\n",
              "      <td>{'Tesis de doctorado'}</td>\n",
              "      <td>set()</td>\n",
              "    </tr>\n",
              "    <tr>\n",
              "      <th>15577</th>\n",
              "      <td>{'Nuevo conocimiento'}</td>\n",
              "      <td>{'Artículos de investigación'}</td>\n",
              "      <td>{'Producción bibliográfica'}</td>\n",
              "      <td>{'Artículo', 'Otra producción bibliográfica', 'Trabajos en eventos (Capítulos de memoria)'}</td>\n",
              "      <td>{'Resumen', 'Publicado en revista especializada', 'Otra'}</td>\n",
              "    </tr>\n",
              "    <tr>\n",
              "      <th>22747</th>\n",
              "      <td>{'Nuevo conocimiento'}</td>\n",
              "      <td>{'Artículos de investigación'}</td>\n",
              "      <td>{'Trabajos dirigidos/Tutorías'}</td>\n",
              "      <td>{'Trabajos de grado de pregrado'}</td>\n",
              "      <td>set()</td>\n",
              "    </tr>\n",
              "    <tr>\n",
              "      <th>22476</th>\n",
              "      <td>{'Nuevo conocimiento'}</td>\n",
              "      <td>{'Artículos de investigación'}</td>\n",
              "      <td>{'Producción bibliográfica'}</td>\n",
              "      <td>{'Otra producción bibliográfica'}</td>\n",
              "      <td>{'Introducción'}</td>\n",
              "    </tr>\n",
              "    <tr>\n",
              "      <th>21930</th>\n",
              "      <td>{'Nuevo conocimiento'}</td>\n",
              "      <td>{'Artículos de investigación'}</td>\n",
              "      <td>{'Producción bibliográfica'}</td>\n",
              "      <td>{'Otro artículo publicado', 'Artículo', 'Trabajos en eventos (Capítulos de memoria)'}</td>\n",
              "      <td>{'Revista de divulgación', 'Publicado en revista especializada', 'Completo'}</td>\n",
              "    </tr>\n",
              "    <tr>\n",
              "      <th>51133</th>\n",
              "      <td>{'Nuevo conocimiento'}</td>\n",
              "      <td>{'Artículos de investigación'}</td>\n",
              "      <td>{'Producción bibliográfica'}</td>\n",
              "      <td>{'Artículo', 'Nota científica', 'Trabajos en eventos (Capítulos de memoria)'}</td>\n",
              "      <td>{'Corto (Resumen)', 'Completo'}</td>\n",
              "    </tr>\n",
              "    <tr>\n",
              "      <th>17406</th>\n",
              "      <td>{'Nuevo conocimiento'}</td>\n",
              "      <td>{'Artículos de investigación'}</td>\n",
              "      <td>{'Producción bibliográfica'}</td>\n",
              "      <td>{'Otro artículo publicado', 'Trabajos en eventos (Capítulos de memoria)'}</td>\n",
              "      <td>{'Revista de divulgación', 'Resumen'}</td>\n",
              "    </tr>\n",
              "    <tr>\n",
              "      <th>21909</th>\n",
              "      <td>{'Nuevo conocimiento'}</td>\n",
              "      <td>{'Artículos de investigación'}</td>\n",
              "      <td>{'Trabajos dirigidos/Tutorías'}</td>\n",
              "      <td>{'Trabajo de grado de maestría o especialidad clínica', 'Trabajos de grado de pregrado'}</td>\n",
              "      <td>set()</td>\n",
              "    </tr>\n",
              "    <tr>\n",
              "      <th>50286</th>\n",
              "      <td>{'Nuevo conocimiento'}</td>\n",
              "      <td>{'Artículos de investigación'}</td>\n",
              "      <td>{'Producción bibliográfica'}</td>\n",
              "      <td>{'Artículo', 'Otro artículo publicado', 'Otra producción bibliográfica'}</td>\n",
              "      <td>{'Revista de divulgación', 'Publicado en revista especializada', 'Otra'}</td>\n",
              "    </tr>\n",
              "    <tr>\n",
              "      <th>20104</th>\n",
              "      <td>{'Nuevo conocimiento'}</td>\n",
              "      <td>{'Artículos de investigación'}</td>\n",
              "      <td>{'Producción bibliográfica'}</td>\n",
              "      <td>{'Artículo', 'Otro artículo publicado', 'Trabajos en eventos (Capítulos de memoria)'}</td>\n",
              "      <td>{'Revista de divulgación', 'Corto (Resumen)', 'Resumen', 'Publicado en revista especializada'}</td>\n",
              "    </tr>\n",
              "    <tr>\n",
              "      <th>2213</th>\n",
              "      <td>{'Nuevo conocimiento'}</td>\n",
              "      <td>{'Artículos de investigación'}</td>\n",
              "      <td>{'Producción bibliográfica'}</td>\n",
              "      <td>{'Otro artículo publicado', 'Artículo'}</td>\n",
              "      <td>{'Revista de divulgación', 'Publicado en revista especializada'}</td>\n",
              "    </tr>\n",
              "    <tr>\n",
              "      <th>35062</th>\n",
              "      <td>{'Nuevo conocimiento'}</td>\n",
              "      <td>{'Artículos de investigación'}</td>\n",
              "      <td>{'Producción bibliográfica'}</td>\n",
              "      <td>{'Artículo', 'Otra producción bibliográfica', 'Libro'}</td>\n",
              "      <td>{'Otro capítulo de libro publicado', 'Epílogo', 'Publicado en revista especializada'}</td>\n",
              "    </tr>\n",
              "    <tr>\n",
              "      <th>5865</th>\n",
              "      <td>{'Nuevo conocimiento'}</td>\n",
              "      <td>{'Artículos de investigación'}</td>\n",
              "      <td>{'Producción bibliográfica'}</td>\n",
              "      <td>{'Artículo', 'Libro', 'Trabajos en eventos (Capítulos de memoria)'}</td>\n",
              "      <td>{'Capítulo de libro', 'Resumen', 'Revisión (Survey)', 'Corto (Resumen)', 'Completo'}</td>\n",
              "    </tr>\n",
              "    <tr>\n",
              "      <th>1273</th>\n",
              "      <td>{'Nuevo conocimiento'}</td>\n",
              "      <td>{'Artículos de investigación'}</td>\n",
              "      <td>{'Producción bibliográfica'}</td>\n",
              "      <td>{'Artículo', 'Otro artículo publicado'}</td>\n",
              "      <td>{'Revista de divulgación', 'Publicado en revista especializada'}</td>\n",
              "    </tr>\n",
              "    <tr>\n",
              "      <th>11</th>\n",
              "      <td>{'Nuevo conocimiento'}</td>\n",
              "      <td>{'Artículos de investigación'}</td>\n",
              "      <td>set()</td>\n",
              "      <td>set()</td>\n",
              "      <td>set()</td>\n",
              "    </tr>\n",
              "    <tr>\n",
              "      <th>346</th>\n",
              "      <td>{'Nuevo conocimiento'}</td>\n",
              "      <td>{'Artículos de investigación'}</td>\n",
              "      <td>{'Producción bibliográfica'}</td>\n",
              "      <td>{'Otro artículo publicado'}</td>\n",
              "      <td>{'Revista de divulgación'}</td>\n",
              "    </tr>\n",
              "    <tr>\n",
              "      <th>383</th>\n",
              "      <td>{'Nuevo conocimiento'}</td>\n",
              "      <td>{'Artículos de investigación'}</td>\n",
              "      <td>{'Producción bibliográfica'}</td>\n",
              "      <td>{'Artículo', 'Trabajos en eventos (Capítulos de memoria)'}</td>\n",
              "      <td>{'Resumen', 'Publicado en revista especializada'}</td>\n",
              "    </tr>\n",
              "    <tr>\n",
              "      <th>41477</th>\n",
              "      <td>{'Nuevo conocimiento'}</td>\n",
              "      <td>{'Artículos de investigación'}</td>\n",
              "      <td>{'Producción bibliográfica'}</td>\n",
              "      <td>{'Otro artículo publicado', 'Artículo', 'Libro'}</td>\n",
              "      <td>{'Libro resultado de investigación', 'Revista de divulgación', 'Publicado en revista especializada'}</td>\n",
              "    </tr>\n",
              "    <tr>\n",
              "      <th>36041</th>\n",
              "      <td>{'Nuevo conocimiento'}</td>\n",
              "      <td>{'Artículos de investigación'}</td>\n",
              "      <td>{'Producción bibliográfica'}</td>\n",
              "      <td>{'Otro artículo publicado', 'Artículo', 'Documento de trabajo (Working Paper)'}</td>\n",
              "      <td>{'Revista de divulgación', 'Publicado en revista especializada'}</td>\n",
              "    </tr>\n",
              "    <tr>\n",
              "      <th>1047</th>\n",
              "      <td>{'Nuevo conocimiento'}</td>\n",
              "      <td>{'Artículos de investigación'}</td>\n",
              "      <td>{'Producción bibliográfica'}</td>\n",
              "      <td>{'Artículo', 'Libro'}</td>\n",
              "      <td>{'Otro capítulo de libro publicado', 'Publicado en revista especializada'}</td>\n",
              "    </tr>\n",
              "    <tr>\n",
              "      <th>35637</th>\n",
              "      <td>{'Nuevo conocimiento'}</td>\n",
              "      <td>{'Artículos de investigación'}</td>\n",
              "      <td>{'Producción bibliográfica'}</td>\n",
              "      <td>{'Artículo', 'Otro artículo publicado', 'Libro', 'Trabajos en eventos (Capítulos de memoria)'}</td>\n",
              "      <td>{'Capítulo de libro', 'Resumen', 'Periódico de noticias', 'Otro libro publicado', 'Revisión (Survey)'}</td>\n",
              "    </tr>\n",
              "    <tr>\n",
              "      <th>90529</th>\n",
              "      <td>{'Nuevo conocimiento'}</td>\n",
              "      <td>{'Artículos de investigación'}</td>\n",
              "      <td>{'Trabajos dirigidos/Tutorías'}</td>\n",
              "      <td>{'Iniciación Científica'}</td>\n",
              "      <td>set()</td>\n",
              "    </tr>\n",
              "    <tr>\n",
              "      <th>41657</th>\n",
              "      <td>{'Nuevo conocimiento'}</td>\n",
              "      <td>{'Artículos de investigación'}</td>\n",
              "      <td>{'Producción bibliográfica'}</td>\n",
              "      <td>{'Artículo', 'Documento de trabajo (Working Paper)', 'Trabajos en eventos (Capítulos de memoria)'}</td>\n",
              "      <td>{'Publicado en revista especializada', 'Completo'}</td>\n",
              "    </tr>\n",
              "    <tr>\n",
              "      <th>14528</th>\n",
              "      <td>{'Apropiación social del conocimiento'}</td>\n",
              "      <td>{'Artículos'}</td>\n",
              "      <td>{'Producción bibliográfica'}</td>\n",
              "      <td>{'Artículo', 'Otro artículo publicado', 'Documento de trabajo (Working Paper)'}</td>\n",
              "      <td>{'Revista de divulgación', 'Corto (Resumen)'}</td>\n",
              "    </tr>\n",
              "    <tr>\n",
              "      <th>13182</th>\n",
              "      <td>{'Apropiación social del conocimiento y divulgación pública de la ciencia'}</td>\n",
              "      <td>{'Artículos'}</td>\n",
              "      <td>{'Producción bibliográfica'}</td>\n",
              "      <td>{'Otro artículo publicado', 'Documento de trabajo (Working Paper)'}</td>\n",
              "      <td>{'Revista de divulgación'}</td>\n",
              "    </tr>\n",
              "    <tr>\n",
              "      <th>12756</th>\n",
              "      <td>{'Apropiación social del conocimiento'}</td>\n",
              "      <td>{'Artículos'}</td>\n",
              "      <td>{'Producción bibliográfica'}</td>\n",
              "      <td>{'Trabajos en eventos (Capítulos de memoria)'}</td>\n",
              "      <td>{'Completo'}</td>\n",
              "    </tr>\n",
              "    <tr>\n",
              "      <th>12228</th>\n",
              "      <td>{'Apropiación social del conocimiento'}</td>\n",
              "      <td>{'Artículos'}</td>\n",
              "      <td>{'Producción bibliográfica'}</td>\n",
              "      <td>{'Artículo', 'Otro artículo publicado', 'Trabajos en eventos (Capítulos de memoria)'}</td>\n",
              "      <td>{'Revista de divulgación', 'Publicado en revista especializada', 'Completo'}</td>\n",
              "    </tr>\n",
              "    <tr>\n",
              "      <th>39642</th>\n",
              "      <td>{'Nuevo conocimiento'}</td>\n",
              "      <td>{'Artículos'}</td>\n",
              "      <td>{'Producción bibliográfica'}</td>\n",
              "      <td>{'Otro artículo publicado', 'Artículo', 'Otra producción bibliográfica', 'Libro'}</td>\n",
              "      <td>{'Otro libro publicado', 'Corto (Resumen)', 'Publicado en revista especializada', 'Otra', 'Revista de divulgación'}</td>\n",
              "    </tr>\n",
              "    <tr>\n",
              "      <th>14792</th>\n",
              "      <td>{'Nuevo conocimiento'}</td>\n",
              "      <td>{'Artículos'}</td>\n",
              "      <td>{'Trabajos dirigidos/Tutorías'}</td>\n",
              "      <td>{'Trabajo de grado de maestría o especialidad clínica'}</td>\n",
              "      <td>set()</td>\n",
              "    </tr>\n",
              "    <tr>\n",
              "      <th>15200</th>\n",
              "      <td>{'Apropiación social del conocimiento'}</td>\n",
              "      <td>{'Artículos'}</td>\n",
              "      <td>{'Trabajos dirigidos/Tutorías'}</td>\n",
              "      <td>{'Trabajos de grado de pregrado'}</td>\n",
              "      <td>set()</td>\n",
              "    </tr>\n",
              "    <tr>\n",
              "      <th>1138</th>\n",
              "      <td>{'Apropiación social del conocimiento'}</td>\n",
              "      <td>{'Artículos'}</td>\n",
              "      <td>{'Producción bibliográfica'}</td>\n",
              "      <td>{'Artículo', 'Otro artículo publicado', 'Libro'}</td>\n",
              "      <td>{'Otro capítulo de libro publicado', 'Revista de divulgación', 'Capítulo de libro', 'Publicado en revista especializada'}</td>\n",
              "    </tr>\n",
              "    <tr>\n",
              "      <th>15424</th>\n",
              "      <td>{'Apropiación social del conocimiento'}</td>\n",
              "      <td>{'Artículos'}</td>\n",
              "      <td>{'Producción bibliográfica'}</td>\n",
              "      <td>{'Otro artículo publicado', 'Otra producción bibliográfica'}</td>\n",
              "      <td>{'Revista de divulgación', 'Otra'}</td>\n",
              "    </tr>\n",
              "  </tbody>\n",
              "</table>\n",
              "</div>"
            ],
            "text/plain": [
              "                                                               level_0_minciencias  \\\n",
              "0                                                           {'Nuevo conocimiento'}   \n",
              "31941                                                       {'Nuevo conocimiento'}   \n",
              "2581                                                        {'Nuevo conocimiento'}   \n",
              "2917                                                        {'Nuevo conocimiento'}   \n",
              "3534                                                        {'Nuevo conocimiento'}   \n",
              "70884                                                       {'Nuevo conocimiento'}   \n",
              "30327                                                       {'Nuevo conocimiento'}   \n",
              "5404                                                        {'Nuevo conocimiento'}   \n",
              "30303                                                       {'Nuevo conocimiento'}   \n",
              "7850                                                        {'Nuevo conocimiento'}   \n",
              "26004                                                       {'Nuevo conocimiento'}   \n",
              "47584                                                       {'Nuevo conocimiento'}   \n",
              "9606                                                        {'Nuevo conocimiento'}   \n",
              "49301                                                       {'Nuevo conocimiento'}   \n",
              "11654                                                       {'Nuevo conocimiento'}   \n",
              "61328                                                       {'Nuevo conocimiento'}   \n",
              "13213                                                       {'Nuevo conocimiento'}   \n",
              "24930                                                       {'Nuevo conocimiento'}   \n",
              "14692                                                       {'Nuevo conocimiento'}   \n",
              "15577                                                       {'Nuevo conocimiento'}   \n",
              "22747                                                       {'Nuevo conocimiento'}   \n",
              "22476                                                       {'Nuevo conocimiento'}   \n",
              "21930                                                       {'Nuevo conocimiento'}   \n",
              "51133                                                       {'Nuevo conocimiento'}   \n",
              "17406                                                       {'Nuevo conocimiento'}   \n",
              "21909                                                       {'Nuevo conocimiento'}   \n",
              "50286                                                       {'Nuevo conocimiento'}   \n",
              "20104                                                       {'Nuevo conocimiento'}   \n",
              "2213                                                        {'Nuevo conocimiento'}   \n",
              "35062                                                       {'Nuevo conocimiento'}   \n",
              "5865                                                        {'Nuevo conocimiento'}   \n",
              "1273                                                        {'Nuevo conocimiento'}   \n",
              "11                                                          {'Nuevo conocimiento'}   \n",
              "346                                                         {'Nuevo conocimiento'}   \n",
              "383                                                         {'Nuevo conocimiento'}   \n",
              "41477                                                       {'Nuevo conocimiento'}   \n",
              "36041                                                       {'Nuevo conocimiento'}   \n",
              "1047                                                        {'Nuevo conocimiento'}   \n",
              "35637                                                       {'Nuevo conocimiento'}   \n",
              "90529                                                       {'Nuevo conocimiento'}   \n",
              "41657                                                       {'Nuevo conocimiento'}   \n",
              "14528                                      {'Apropiación social del conocimiento'}   \n",
              "13182  {'Apropiación social del conocimiento y divulgación pública de la ciencia'}   \n",
              "12756                                      {'Apropiación social del conocimiento'}   \n",
              "12228                                      {'Apropiación social del conocimiento'}   \n",
              "39642                                                       {'Nuevo conocimiento'}   \n",
              "14792                                                       {'Nuevo conocimiento'}   \n",
              "15200                                      {'Apropiación social del conocimiento'}   \n",
              "1138                                       {'Apropiación social del conocimiento'}   \n",
              "15424                                      {'Apropiación social del conocimiento'}   \n",
              "\n",
              "                  level_1_minciencias                  level_0_scienti  \\\n",
              "0      {'Artículos de investigación'}     {'Producción bibliográfica'}   \n",
              "31941  {'Artículos de investigación'}     {'Producción bibliográfica'}   \n",
              "2581   {'Artículos de investigación'}  {'Trabajos dirigidos/Tutorías'}   \n",
              "2917   {'Artículos de investigación'}     {'Producción bibliográfica'}   \n",
              "3534   {'Artículos de investigación'}     {'Producción bibliográfica'}   \n",
              "70884  {'Artículos de investigación'}  {'Trabajos dirigidos/Tutorías'}   \n",
              "30327  {'Artículos de investigación'}     {'Producción bibliográfica'}   \n",
              "5404   {'Artículos de investigación'}     {'Producción bibliográfica'}   \n",
              "30303  {'Artículos de investigación'}     {'Producción bibliográfica'}   \n",
              "7850   {'Artículos de investigación'}     {'Producción bibliográfica'}   \n",
              "26004  {'Artículos de investigación'}     {'Producción bibliográfica'}   \n",
              "47584  {'Artículos de investigación'}     {'Producción bibliográfica'}   \n",
              "9606   {'Artículos de investigación'}     {'Producción bibliográfica'}   \n",
              "49301  {'Artículos de investigación'}     {'Producción bibliográfica'}   \n",
              "11654  {'Artículos de investigación'}     {'Producción bibliográfica'}   \n",
              "61328  {'Artículos de investigación'}     {'Producción bibliográfica'}   \n",
              "13213  {'Artículos de investigación'}     {'Producción bibliográfica'}   \n",
              "24930  {'Artículos de investigación'}  {'Trabajos dirigidos/Tutorías'}   \n",
              "14692  {'Artículos de investigación'}  {'Trabajos dirigidos/Tutorías'}   \n",
              "15577  {'Artículos de investigación'}     {'Producción bibliográfica'}   \n",
              "22747  {'Artículos de investigación'}  {'Trabajos dirigidos/Tutorías'}   \n",
              "22476  {'Artículos de investigación'}     {'Producción bibliográfica'}   \n",
              "21930  {'Artículos de investigación'}     {'Producción bibliográfica'}   \n",
              "51133  {'Artículos de investigación'}     {'Producción bibliográfica'}   \n",
              "17406  {'Artículos de investigación'}     {'Producción bibliográfica'}   \n",
              "21909  {'Artículos de investigación'}  {'Trabajos dirigidos/Tutorías'}   \n",
              "50286  {'Artículos de investigación'}     {'Producción bibliográfica'}   \n",
              "20104  {'Artículos de investigación'}     {'Producción bibliográfica'}   \n",
              "2213   {'Artículos de investigación'}     {'Producción bibliográfica'}   \n",
              "35062  {'Artículos de investigación'}     {'Producción bibliográfica'}   \n",
              "5865   {'Artículos de investigación'}     {'Producción bibliográfica'}   \n",
              "1273   {'Artículos de investigación'}     {'Producción bibliográfica'}   \n",
              "11     {'Artículos de investigación'}                            set()   \n",
              "346    {'Artículos de investigación'}     {'Producción bibliográfica'}   \n",
              "383    {'Artículos de investigación'}     {'Producción bibliográfica'}   \n",
              "41477  {'Artículos de investigación'}     {'Producción bibliográfica'}   \n",
              "36041  {'Artículos de investigación'}     {'Producción bibliográfica'}   \n",
              "1047   {'Artículos de investigación'}     {'Producción bibliográfica'}   \n",
              "35637  {'Artículos de investigación'}     {'Producción bibliográfica'}   \n",
              "90529  {'Artículos de investigación'}  {'Trabajos dirigidos/Tutorías'}   \n",
              "41657  {'Artículos de investigación'}     {'Producción bibliográfica'}   \n",
              "14528                   {'Artículos'}     {'Producción bibliográfica'}   \n",
              "13182                   {'Artículos'}     {'Producción bibliográfica'}   \n",
              "12756                   {'Artículos'}     {'Producción bibliográfica'}   \n",
              "12228                   {'Artículos'}     {'Producción bibliográfica'}   \n",
              "39642                   {'Artículos'}     {'Producción bibliográfica'}   \n",
              "14792                   {'Artículos'}  {'Trabajos dirigidos/Tutorías'}   \n",
              "15200                   {'Artículos'}  {'Trabajos dirigidos/Tutorías'}   \n",
              "1138                    {'Artículos'}     {'Producción bibliográfica'}   \n",
              "15424                   {'Artículos'}     {'Producción bibliográfica'}   \n",
              "\n",
              "                                                                                                              level_1_scienti  \\\n",
              "0                                                                                                                {'Artículo'}   \n",
              "31941              {'Otro artículo publicado', 'Otra producción bibliográfica', 'Trabajos en eventos (Capítulos de memoria)'}   \n",
              "2581                                                                  {'Trabajo de grado de maestría o especialidad clínica'}   \n",
              "2917                                                                     {'Artículo', 'Documento de trabajo (Working Paper)'}   \n",
              "3534                                                                           {'Trabajos en eventos (Capítulos de memoria)'}   \n",
              "70884                                              {'Monografía de conclusión de curso de perfeccionamiento/especialización'}   \n",
              "30327                                                                                {'Documento de trabajo (Working Paper)'}   \n",
              "5404                                                                            {'Artículo', 'Otra producción bibliográfica'}   \n",
              "30303                                                                 {'Libro', 'Trabajos en eventos (Capítulos de memoria)'}   \n",
              "7850                                                                                          {'Artículo', 'Nota científica'}   \n",
              "26004                                                                                                        {'Traducciones'}   \n",
              "47584                                   {'Artículo', 'Documento de trabajo (Working Paper)', 'Otra producción bibliográfica'}   \n",
              "9606                                                                                     {'Otro artículo publicado', 'Libro'}   \n",
              "49301                                                                        {'Artículo', 'Otro artículo publicado', 'Libro'}   \n",
              "11654                                                                                                     {'Nota científica'}   \n",
              "61328  {'Artículo', 'Otro artículo publicado', 'Otra producción bibliográfica', 'Trabajos en eventos (Capítulos de memoria)'}   \n",
              "13213                                                                                                               {'Libro'}   \n",
              "24930                                                                            {'Trabajos dirigidos/Tutorías de otro tipo'}   \n",
              "14692                                                                                                  {'Tesis de doctorado'}   \n",
              "15577                             {'Artículo', 'Otra producción bibliográfica', 'Trabajos en eventos (Capítulos de memoria)'}   \n",
              "22747                                                                                       {'Trabajos de grado de pregrado'}   \n",
              "22476                                                                                       {'Otra producción bibliográfica'}   \n",
              "21930                                   {'Otro artículo publicado', 'Artículo', 'Trabajos en eventos (Capítulos de memoria)'}   \n",
              "51133                                           {'Artículo', 'Nota científica', 'Trabajos en eventos (Capítulos de memoria)'}   \n",
              "17406                                               {'Otro artículo publicado', 'Trabajos en eventos (Capítulos de memoria)'}   \n",
              "21909                                {'Trabajo de grado de maestría o especialidad clínica', 'Trabajos de grado de pregrado'}   \n",
              "50286                                                {'Artículo', 'Otro artículo publicado', 'Otra producción bibliográfica'}   \n",
              "20104                                   {'Artículo', 'Otro artículo publicado', 'Trabajos en eventos (Capítulos de memoria)'}   \n",
              "2213                                                                                  {'Otro artículo publicado', 'Artículo'}   \n",
              "35062                                                                  {'Artículo', 'Otra producción bibliográfica', 'Libro'}   \n",
              "5865                                                      {'Artículo', 'Libro', 'Trabajos en eventos (Capítulos de memoria)'}   \n",
              "1273                                                                                  {'Artículo', 'Otro artículo publicado'}   \n",
              "11                                                                                                                      set()   \n",
              "346                                                                                               {'Otro artículo publicado'}   \n",
              "383                                                                {'Artículo', 'Trabajos en eventos (Capítulos de memoria)'}   \n",
              "41477                                                                        {'Otro artículo publicado', 'Artículo', 'Libro'}   \n",
              "36041                                         {'Otro artículo publicado', 'Artículo', 'Documento de trabajo (Working Paper)'}   \n",
              "1047                                                                                                    {'Artículo', 'Libro'}   \n",
              "35637                          {'Artículo', 'Otro artículo publicado', 'Libro', 'Trabajos en eventos (Capítulos de memoria)'}   \n",
              "90529                                                                                               {'Iniciación Científica'}   \n",
              "41657                      {'Artículo', 'Documento de trabajo (Working Paper)', 'Trabajos en eventos (Capítulos de memoria)'}   \n",
              "14528                                         {'Artículo', 'Otro artículo publicado', 'Documento de trabajo (Working Paper)'}   \n",
              "13182                                                     {'Otro artículo publicado', 'Documento de trabajo (Working Paper)'}   \n",
              "12756                                                                          {'Trabajos en eventos (Capítulos de memoria)'}   \n",
              "12228                                   {'Artículo', 'Otro artículo publicado', 'Trabajos en eventos (Capítulos de memoria)'}   \n",
              "39642                                       {'Otro artículo publicado', 'Artículo', 'Otra producción bibliográfica', 'Libro'}   \n",
              "14792                                                                 {'Trabajo de grado de maestría o especialidad clínica'}   \n",
              "15200                                                                                       {'Trabajos de grado de pregrado'}   \n",
              "1138                                                                         {'Artículo', 'Otro artículo publicado', 'Libro'}   \n",
              "15424                                                            {'Otro artículo publicado', 'Otra producción bibliográfica'}   \n",
              "\n",
              "                                                                                                                 level_2_scienti  \n",
              "0                                                                                         {'Publicado en revista especializada'}  \n",
              "31941                                                                             {'Revista de divulgación', 'Completo', 'Otra'}  \n",
              "2581                                                                                                                       set()  \n",
              "2917                                                                   {'Publicado en revista especializada', 'Corto (Resumen)'}  \n",
              "3534                                                                                                                {'Completo'}  \n",
              "70884                                                                                                                      set()  \n",
              "30327                                                                                                                      set()  \n",
              "5404                                                                              {'Publicado en revista especializada', 'Otra'}  \n",
              "30303                                                                                          {'Capítulo de libro', 'Completo'}  \n",
              "7850                                                                                      {'Publicado en revista especializada'}  \n",
              "26004                                                                                                                   {'Otra'}  \n",
              "47584                                                          {'Corto (Resumen)', 'Publicado en revista especializada', 'Otra'}  \n",
              "9606                                                              {'Otro capítulo de libro publicado', 'Revista de divulgación'}  \n",
              "49301  {'Otro capítulo de libro publicado', 'Revista de divulgación', 'Capítulo de libro', 'Publicado en revista especializada'}  \n",
              "11654                                                                                                                      set()  \n",
              "61328                                                            {'Periódico de noticias', 'Resumen', 'Corto (Resumen)', 'Otra'}  \n",
              "13213                                                                                                      {'Capítulo de libro'}  \n",
              "24930                                                                                                                      set()  \n",
              "14692                                                                                                                      set()  \n",
              "15577                                                                  {'Resumen', 'Publicado en revista especializada', 'Otra'}  \n",
              "22747                                                                                                                      set()  \n",
              "22476                                                                                                           {'Introducción'}  \n",
              "21930                                               {'Revista de divulgación', 'Publicado en revista especializada', 'Completo'}  \n",
              "51133                                                                                            {'Corto (Resumen)', 'Completo'}  \n",
              "17406                                                                                      {'Revista de divulgación', 'Resumen'}  \n",
              "21909                                                                                                                      set()  \n",
              "50286                                                   {'Revista de divulgación', 'Publicado en revista especializada', 'Otra'}  \n",
              "20104                             {'Revista de divulgación', 'Corto (Resumen)', 'Resumen', 'Publicado en revista especializada'}  \n",
              "2213                                                            {'Revista de divulgación', 'Publicado en revista especializada'}  \n",
              "35062                                      {'Otro capítulo de libro publicado', 'Epílogo', 'Publicado en revista especializada'}  \n",
              "5865                                        {'Capítulo de libro', 'Resumen', 'Revisión (Survey)', 'Corto (Resumen)', 'Completo'}  \n",
              "1273                                                            {'Revista de divulgación', 'Publicado en revista especializada'}  \n",
              "11                                                                                                                         set()  \n",
              "346                                                                                                   {'Revista de divulgación'}  \n",
              "383                                                                            {'Resumen', 'Publicado en revista especializada'}  \n",
              "41477                       {'Libro resultado de investigación', 'Revista de divulgación', 'Publicado en revista especializada'}  \n",
              "36041                                                           {'Revista de divulgación', 'Publicado en revista especializada'}  \n",
              "1047                                                  {'Otro capítulo de libro publicado', 'Publicado en revista especializada'}  \n",
              "35637                     {'Capítulo de libro', 'Resumen', 'Periódico de noticias', 'Otro libro publicado', 'Revisión (Survey)'}  \n",
              "90529                                                                                                                      set()  \n",
              "41657                                                                         {'Publicado en revista especializada', 'Completo'}  \n",
              "14528                                                                              {'Revista de divulgación', 'Corto (Resumen)'}  \n",
              "13182                                                                                                 {'Revista de divulgación'}  \n",
              "12756                                                                                                               {'Completo'}  \n",
              "12228                                               {'Revista de divulgación', 'Publicado en revista especializada', 'Completo'}  \n",
              "39642        {'Otro libro publicado', 'Corto (Resumen)', 'Publicado en revista especializada', 'Otra', 'Revista de divulgación'}  \n",
              "14792                                                                                                                      set()  \n",
              "15200                                                                                                                      set()  \n",
              "1138   {'Otro capítulo de libro publicado', 'Revista de divulgación', 'Capítulo de libro', 'Publicado en revista especializada'}  \n",
              "15424                                                                                         {'Revista de divulgación', 'Otra'}  "
            ]
          },
          "execution_count": 94,
          "metadata": {},
          "output_type": "execute_result"
        }
      ],
      "source": [
        "df[df['level_0_minciencias'].apply(len) > 0][['level_0_minciencias','level_1_minciencias','level_0_scienti','level_1_scienti','level_2_scienti'\n",
        "                                             ]].astype(str).drop_duplicates(['level_1_minciencias','level_1_scienti']).sort_values('level_1_minciencias')[:50]"
      ]
    },
    {
      "cell_type": "code",
      "execution_count": null,
      "id": "a70fb1ea-05a8-4b5b-bd31-e1318ceb484b",
      "metadata": {
        "id": "a70fb1ea-05a8-4b5b-bd31-e1318ceb484b",
        "outputId": "0c48c704-a7c7-4b39-ea6a-8ea4f3d4c791"
      },
      "outputs": [
        {
          "data": {
            "text/plain": [
              "{'titles': [{'lang': 'es',\n",
              "   'source': 'openalex',\n",
              "   'title': \"Alimentos funcionales. 'Alimentos funcionales'\"},\n",
              "  {'lang': 'es',\n",
              "   'source': 'scienti',\n",
              "   'title': 'VIDA ÚTIL FISICOQUÍMICA DE ALIMENTOS FUNCIONALES'},\n",
              "  {'lang': 'es',\n",
              "   'provenance': 'ciarp',\n",
              "   'source': 'ciarp',\n",
              "   'title': 'ALIMENTOS FUNCIONALES: MITOS Y REALIDADES'},\n",
              "  {'lang': 'es',\n",
              "   'source': 'minciencias',\n",
              "   'title': 'VIDA ÚTIL FISICOQUÍMICA DE ALIMENTOS FUNCIONALES'}],\n",
              " 'types': [{'provenance': 'openalex', 'source': 'openalex', 'type': 'article'},\n",
              "  {'provenance': 'openalex', 'source': 'crossref', 'type': 'journal-article'},\n",
              "  {'code': '113',\n",
              "   'level': 2,\n",
              "   'provenance': 'scienti',\n",
              "   'source': 'scienti',\n",
              "   'type': 'Revisión (Survey)'},\n",
              "  {'code': '11',\n",
              "   'level': 1,\n",
              "   'provenance': 'scienti',\n",
              "   'source': 'scienti',\n",
              "   'type': 'Artículo'},\n",
              "  {'code': '1',\n",
              "   'level': 0,\n",
              "   'provenance': 'scienti',\n",
              "   'source': 'scienti',\n",
              "   'type': 'Producción bibliográfica'},\n",
              "  {'code': '141',\n",
              "   'level': 2,\n",
              "   'provenance': 'scienti',\n",
              "   'source': 'scienti',\n",
              "   'type': 'Periódico de noticias'},\n",
              "  {'code': '14',\n",
              "   'level': 1,\n",
              "   'provenance': 'scienti',\n",
              "   'source': 'scienti',\n",
              "   'type': 'Otro artículo publicado'},\n",
              "  {'code': '131',\n",
              "   'level': 2,\n",
              "   'provenance': 'scienti',\n",
              "   'source': 'scienti',\n",
              "   'type': 'Otro libro publicado'},\n",
              "  {'code': '13',\n",
              "   'level': 1,\n",
              "   'provenance': 'scienti',\n",
              "   'source': 'scienti',\n",
              "   'type': 'Libro'},\n",
              "  {'code': '122',\n",
              "   'level': 2,\n",
              "   'provenance': 'scienti',\n",
              "   'source': 'scienti',\n",
              "   'type': 'Resumen'},\n",
              "  {'code': '12',\n",
              "   'level': 1,\n",
              "   'provenance': 'scienti',\n",
              "   'source': 'scienti',\n",
              "   'type': 'Trabajos en eventos (Capítulos de memoria)'},\n",
              "  {'code': '132',\n",
              "   'level': 2,\n",
              "   'provenance': 'scienti',\n",
              "   'source': 'scienti',\n",
              "   'type': 'Capítulo de libro'},\n",
              "  {'level': 1,\n",
              "   'provenance': 'minciencias',\n",
              "   'source': 'minciencias',\n",
              "   'type': 'Artículos de investigación'},\n",
              "  {'level': 0,\n",
              "   'provenance': 'minciencias',\n",
              "   'source': 'minciencias',\n",
              "   'type': 'Nuevo conocimiento'}],\n",
              " 'external_ids': [{'id': 'https://openalex.org/W1541145065',\n",
              "   'provenance': 'openalex',\n",
              "   'source': 'openalex'},\n",
              "  {'id': 1541145065, 'provenance': 'openalex', 'source': 'mag'},\n",
              "  {'id': '0000026573-32599', 'provenance': 'scienti', 'source': 'scienti'},\n",
              "  {'id': '0000046583-29', 'provenance': 'scienti', 'source': 'scienti'},\n",
              "  {'id': '0000072532-29', 'provenance': 'scienti', 'source': 'scienti'},\n",
              "  {'id': '0001154281-13', 'provenance': 'scienti', 'source': 'scienti'},\n",
              "  {'id': '0000072494-6', 'provenance': 'scienti', 'source': 'scienti'},\n",
              "  {'id': '44866-0000085669-1740359878',\n",
              "   'provenance': 'ciarp',\n",
              "   'source': 'ciarp'},\n",
              "  {'id': 'ART-0000026573-32599',\n",
              "   'provenance': 'minciencias',\n",
              "   'source': 'minciencias'},\n",
              "  {'id': '0000026573-32599',\n",
              "   'provenance': 'minciencias',\n",
              "   'source': 'scienti'}]}"
            ]
          },
          "execution_count": 96,
          "metadata": {},
          "output_type": "execute_result"
        }
      ],
      "source": [
        "df[['titles','types','external_ids']].iloc[35637].to_dict()"
      ]
    },
    {
      "cell_type": "code",
      "execution_count": null,
      "id": "ae4ae70f-9857-40a6-8363-79a225f2a97b",
      "metadata": {
        "id": "ae4ae70f-9857-40a6-8363-79a225f2a97b"
      },
      "outputs": [],
      "source": [
        "tpu = df[((df['provenance'].apply(lambda L: p in L) ) &\n",
        "        (df['source'].apply(lambda L: s in L)) &\n",
        "        (df['type'].apply(lambda L: t in L))\n",
        "       )][['provenance','source','type']].astype(str).drop_duplicates().reset_index(drop=True)\n",
        "\n",
        "tpu['provenance'] = tpu['provenance'].apply(eval)\n",
        "\n",
        "tpu['source'] = tpu['source'].apply(eval)\n",
        "\n",
        "tpu['type'] = tpu['type'].apply(eval)"
      ]
    },
    {
      "cell_type": "code",
      "execution_count": null,
      "id": "9c79d21b-c8db-4f82-a5d5-30de539d76a3",
      "metadata": {
        "id": "9c79d21b-c8db-4f82-a5d5-30de539d76a3"
      },
      "outputs": [],
      "source": [
        "pd.set_option('display.max_colwidth',500)"
      ]
    },
    {
      "cell_type": "code",
      "execution_count": null,
      "id": "c0a739b3-1779-438b-81ab-49168e430602",
      "metadata": {
        "id": "c0a739b3-1779-438b-81ab-49168e430602"
      },
      "outputs": [],
      "source": [
        "#pd.set_option('display.max_rows', 500)"
      ]
    },
    {
      "cell_type": "code",
      "execution_count": null,
      "id": "90d16478-db68-4e2a-84a6-4282b74a9f44",
      "metadata": {
        "id": "90d16478-db68-4e2a-84a6-4282b74a9f44",
        "outputId": "3460b6a3-9944-40af-f1bd-f886379b3a9c"
      },
      "outputs": [
        {
          "data": {
            "text/html": [
              "<div>\n",
              "<style scoped>\n",
              "    .dataframe tbody tr th:only-of-type {\n",
              "        vertical-align: middle;\n",
              "    }\n",
              "\n",
              "    .dataframe tbody tr th {\n",
              "        vertical-align: top;\n",
              "    }\n",
              "\n",
              "    .dataframe thead th {\n",
              "        text-align: right;\n",
              "    }\n",
              "</style>\n",
              "<table border=\"1\" class=\"dataframe\">\n",
              "  <thead>\n",
              "    <tr style=\"text-align: right;\">\n",
              "      <th></th>\n",
              "      <th>provenance</th>\n",
              "      <th>source</th>\n",
              "      <th>type</th>\n",
              "    </tr>\n",
              "  </thead>\n",
              "  <tbody>\n",
              "    <tr>\n",
              "      <th>0</th>\n",
              "      <td>{minciencias, openalex, scholar}</td>\n",
              "      <td>{minciencias, openalex, crossref, scholar}</td>\n",
              "      <td>{Artículos, article, reference-entry, Apropiación social del conocimiento}</td>\n",
              "    </tr>\n",
              "  </tbody>\n",
              "</table>\n",
              "</div>"
            ],
            "text/plain": [
              "                         provenance  \\\n",
              "0  {minciencias, openalex, scholar}   \n",
              "\n",
              "                                       source  \\\n",
              "0  {minciencias, openalex, crossref, scholar}   \n",
              "\n",
              "                                                                         type  \n",
              "0  {Artículos, article, reference-entry, Apropiación social del conocimiento}  "
            ]
          },
          "execution_count": 239,
          "metadata": {},
          "output_type": "execute_result"
        }
      ],
      "source": [
        "tpu[:1]"
      ]
    },
    {
      "cell_type": "markdown",
      "id": "28d29468-315b-4bd8-8c5f-54b44708751d",
      "metadata": {
        "id": "28d29468-315b-4bd8-8c5f-54b44708751d"
      },
      "source": [
        "minciencias → scienti"
      ]
    },
    {
      "cell_type": "code",
      "execution_count": null,
      "id": "38e03ecf-c550-42bb-9c47-a4a36059f168",
      "metadata": {
        "id": "38e03ecf-c550-42bb-9c47-a4a36059f168"
      },
      "outputs": [],
      "source": [
        "kk = df[df['type'].apply(lambda L:'Desarrollo tecnológico e innovación' in L)]\n",
        "#kk[kk['provenance'].apply(lambda L: 'scienti' in L)][['type','provenance','types']]#.to_dict(orient = 'records')"
      ]
    },
    {
      "cell_type": "code",
      "execution_count": null,
      "id": "b6a48dd2-07e9-4514-91bb-eb5538ea19e5",
      "metadata": {
        "id": "b6a48dd2-07e9-4514-91bb-eb5538ea19e5",
        "outputId": "9d9154f4-b099-4ebd-aa33-5685e5370064"
      },
      "outputs": [
        {
          "data": {
            "text/html": [
              "<div>\n",
              "<style scoped>\n",
              "    .dataframe tbody tr th:only-of-type {\n",
              "        vertical-align: middle;\n",
              "    }\n",
              "\n",
              "    .dataframe tbody tr th {\n",
              "        vertical-align: top;\n",
              "    }\n",
              "\n",
              "    .dataframe thead th {\n",
              "        text-align: right;\n",
              "    }\n",
              "</style>\n",
              "<table border=\"1\" class=\"dataframe\">\n",
              "  <thead>\n",
              "    <tr style=\"text-align: right;\">\n",
              "      <th></th>\n",
              "      <th>level_1_scienti</th>\n",
              "      <th>level_2_scienti</th>\n",
              "    </tr>\n",
              "  </thead>\n",
              "  <tbody>\n",
              "    <tr>\n",
              "      <th>50688</th>\n",
              "      <td>{Libro}</td>\n",
              "      <td>{Libro resultado de investigación}</td>\n",
              "    </tr>\n",
              "    <tr>\n",
              "      <th>80826</th>\n",
              "      <td>{Trabajos en eventos (Capítulos de memoria)}</td>\n",
              "      <td>{Resumen}</td>\n",
              "    </tr>\n",
              "    <tr>\n",
              "      <th>87615</th>\n",
              "      <td>{Trabajos dirigidos/Tutorías de otro tipo}</td>\n",
              "      <td>{}</td>\n",
              "    </tr>\n",
              "  </tbody>\n",
              "</table>\n",
              "</div>"
            ],
            "text/plain": [
              "                                    level_1_scienti  \\\n",
              "50688                                       {Libro}   \n",
              "80826  {Trabajos en eventos (Capítulos de memoria)}   \n",
              "87615    {Trabajos dirigidos/Tutorías de otro tipo}   \n",
              "\n",
              "                          level_2_scienti  \n",
              "50688  {Libro resultado de investigación}  \n",
              "80826                           {Resumen}  \n",
              "87615                                  {}  "
            ]
          },
          "execution_count": 282,
          "metadata": {},
          "output_type": "execute_result"
        }
      ],
      "source": [
        "kk[kk['provenance'].apply(lambda L: 'scienti' in L)][['level_1_scienti','level_2_scienti']]"
      ]
    },
    {
      "cell_type": "code",
      "execution_count": null,
      "id": "ead327e3-9ac7-421e-9b56-d40c721ae3c2",
      "metadata": {
        "id": "ead327e3-9ac7-421e-9b56-d40c721ae3c2"
      },
      "outputs": [],
      "source": [
        "from fuzzywuzzy import fuzz"
      ]
    },
    {
      "cell_type": "code",
      "execution_count": null,
      "id": "480dd2fa-b8e0-473f-b13b-2931519f5f08",
      "metadata": {
        "id": "480dd2fa-b8e0-473f-b13b-2931519f5f08",
        "outputId": "48f3995f-4770-477b-a698-b325938173c5"
      },
      "outputs": [
        {
          "data": {
            "text/plain": [
              "91"
            ]
          },
          "execution_count": 302,
          "metadata": {},
          "output_type": "execute_result"
        }
      ],
      "source": [
        "fuzz.ratio('Initial Atmospheric Corrosion of Copper Induced by Carboxylic Acids\"'.lower(),\n",
        "           \"The Initial Atmospheric Corrosion of Copper and Zinc Induced by Carboxylic Acids\".lower())"
      ]
    },
    {
      "cell_type": "markdown",
      "id": "7cda00c9-c191-464a-a319-3639ccd057e9",
      "metadata": {
        "id": "7cda00c9-c191-464a-a319-3639ccd057e9"
      },
      "source": [
        "## Citations"
      ]
    },
    {
      "cell_type": "code",
      "execution_count": null,
      "id": "a9f3da9a-56bb-413a-9a6a-feef1bab99a5",
      "metadata": {
        "id": "a9f3da9a-56bb-413a-9a6a-feef1bab99a5"
      },
      "outputs": [],
      "source": [
        "def hIndex(citations):\n",
        "    \"\"\"\n",
        "    https://github.com/kamyu104/LeetCode/blob/master/Python/h-index.py\n",
        "    :type citations: List[int]\n",
        "    :rtype: int\n",
        "\n",
        "    # Given an array of citations (each citation is a non-negative integer)\n",
        "    # of a researcher, write a function to compute the researcher's h-index.\n",
        "    #\n",
        "    # According to the definition of h-index on Wikipedia:\n",
        "    # \"A scientist has index h if h of his/her N papers have\n",
        "    # at least h citations each, and the other N − h papers have\n",
        "    # no more than h citations each.\"\n",
        "    #\n",
        "    # For example, given citations = [3, 0, 6, 1, 5],\n",
        "    # which means the researcher has 5 papers in total\n",
        "    # and each of them had received 3, 0, 6, 1, 5 citations respectively.\n",
        "    # Since the researcher has 3 papers with at least 3 citations each and\n",
        "    # the remaining two with no more than 3 citations each, his h-index is 3.\n",
        "    #\n",
        "    # Note: If there are several possible values for h, the maximum one is taken as the h-index.\n",
        "    \"\"\"\n",
        "    import builtins\n",
        "    sum=builtins.sum\n",
        "    return sum(x >= i + 1 for i, x in enumerate(sorted(  list(citations), reverse=True)))"
      ]
    },
    {
      "cell_type": "code",
      "execution_count": null,
      "id": "6fd79e63-0fd0-4191-856a-760f2608783d",
      "metadata": {
        "id": "6fd79e63-0fd0-4191-856a-760f2608783d"
      },
      "outputs": [],
      "source": [
        "au_column = 'authors_udea'"
      ]
    },
    {
      "cell_type": "code",
      "execution_count": null,
      "id": "ced3ee17-0349-42c5-988f-10b2d930f270",
      "metadata": {
        "id": "ced3ee17-0349-42c5-988f-10b2d930f270"
      },
      "outputs": [],
      "source": [
        "dfcen = df[df[au_column].apply(len)>0].reset_index(drop = True)"
      ]
    },
    {
      "cell_type": "code",
      "execution_count": null,
      "id": "f6b50f99-f14b-482b-806a-b7f13ef3d0ca",
      "metadata": {
        "id": "f6b50f99-f14b-482b-806a-b7f13ef3d0ca"
      },
      "outputs": [],
      "source": [
        "afcen = dfcen[au_column].apply(lambda L: [d.get('id') for d in L]).apply(pd.Series).stack().unique()"
      ]
    },
    {
      "cell_type": "code",
      "execution_count": null,
      "id": "f54fcbe4-ff15-4580-9964-acc467e0628e",
      "metadata": {
        "id": "f54fcbe4-ff15-4580-9964-acc467e0628e",
        "outputId": "b85754fc-ca96-42f4-e498-d008c5dd70f7"
      },
      "outputs": [
        {
          "data": {
            "text/plain": [
              "19931"
            ]
          },
          "execution_count": 14,
          "metadata": {},
          "output_type": "execute_result"
        }
      ],
      "source": [
        "len(set(afcen))"
      ]
    },
    {
      "cell_type": "code",
      "execution_count": null,
      "id": "4bef18af-d64c-4d75-a22f-8d487570f2c8",
      "metadata": {
        "id": "4bef18af-d64c-4d75-a22f-8d487570f2c8"
      },
      "outputs": [],
      "source": [
        "a = afcen[0]"
      ]
    },
    {
      "cell_type": "code",
      "execution_count": null,
      "id": "1790da12-ed28-471e-a4fe-1d727297e605",
      "metadata": {
        "id": "1790da12-ed28-471e-a4fe-1d727297e605",
        "outputId": "e190c2e0-782a-4432-83f3-9130a91f127c"
      },
      "outputs": [
        {
          "data": {
            "text/plain": [
              "'67c28865c64555ea3e716bb4'"
            ]
          },
          "execution_count": 16,
          "metadata": {},
          "output_type": "execute_result"
        }
      ],
      "source": [
        "a"
      ]
    },
    {
      "cell_type": "code",
      "execution_count": null,
      "id": "74e7fc8a-0ad9-4194-b1c0-ae2d8c7365c1",
      "metadata": {
        "id": "74e7fc8a-0ad9-4194-b1c0-ae2d8c7365c1"
      },
      "outputs": [],
      "source": [
        "dafcen = dfcen[dfcen[au_column].astype(str).str.contains(a)].reset_index(drop =True)"
      ]
    },
    {
      "cell_type": "code",
      "execution_count": null,
      "id": "7443924a-c17d-4dd9-a187-eb438cdfa873",
      "metadata": {
        "id": "7443924a-c17d-4dd9-a187-eb438cdfa873"
      },
      "outputs": [],
      "source": []
    },
    {
      "cell_type": "code",
      "execution_count": null,
      "id": "cda6d29a-34bc-4298-8a57-8c4b759c79c0",
      "metadata": {
        "id": "cda6d29a-34bc-4298-8a57-8c4b759c79c0",
        "outputId": "a2ca218b-5bd7-4bb2-b95d-3b796bda58fc"
      },
      "outputs": [
        {
          "name": "stdout",
          "output_type": "stream",
          "text": [
            "19930\r"
          ]
        }
      ],
      "source": [
        "i = 0\n",
        "Lfcen = []\n",
        "au_filtered = au_column.split('_')[-1]\n",
        "for a in afcen:\n",
        "    dafcen = dfcen[dfcen[au_column].astype(str).str.contains(a)].reset_index(drop =True)\n",
        "    dafcen[f'author_{au_filtered}'] = dafcen[au_column].apply(lambda L: [d for d in L if d.get('id') == a])\n",
        "\n",
        "    full_name = dafcen[f'author_{au_filtered}'].str[0].str['full_name'].iloc[0]\n",
        "    try:\n",
        "        department = dafcen[f'author_{au_filtered}'].str[0].str['affiliations'].apply(\n",
        "                        lambda L: [d.get('name') for d in L\n",
        "                                   if d.get('types')[0].get('type') == 'department']).iloc[0][0]\n",
        "    except:\n",
        "        department = ''\n",
        "\n",
        "    try:\n",
        "        faculty = dafcen[f'author_{au_filtered}'].str[0].str['affiliations'].apply(\n",
        "                        lambda L: [d.get('name') for d in L\n",
        "                                   if d.get('types')[0].get('type') == 'faculty']).iloc[0][0]\n",
        "    except:\n",
        "        faculty = ''\n",
        "\n",
        "\n",
        "    # TODO: get all the articles from the author by using the API on a → fdfcen\n",
        "        #fdafcen = fdfcen[fdfcen['authors'].astype(str).str.contains(a)].reset_index(drop =True)\n",
        "\n",
        "    L = dafcen['citations_count'].apply(\n",
        "        lambda L: [d.get('count') for d in L if d.get('source') == 'openalex']\n",
        "         ).apply(pd.Series).stack().unique()\n",
        "    L = [int(x) for x in L]\n",
        "\n",
        "    h_index = hIndex(L)\n",
        "    citations = sum(L)\n",
        "\n",
        "    Lfcen.append({'full_name': full_name, 'faculty' : faculty,'department' : department, 'citations': citations, 'h_index': h_index, 'id': a})\n",
        "    print(i,end='\\r')\n",
        "    #if i == 3:\n",
        "    #    break\n",
        "    i += 1"
      ]
    },
    {
      "cell_type": "code",
      "execution_count": null,
      "id": "880eb99d-f6cc-466f-81f2-c1206a864bac",
      "metadata": {
        "id": "880eb99d-f6cc-466f-81f2-c1206a864bac"
      },
      "outputs": [],
      "source": [
        "h_index_df = pd.DataFrame(Lfcen)\n",
        "h_index_df['impactu'] = h_index_df['id'].apply(lambda s: f'https://dev.impactu.colav.co/person/{s}/research/products')"
      ]
    },
    {
      "cell_type": "code",
      "execution_count": null,
      "id": "201610e4-85fc-4f96-ac28-46eed17ba0c8",
      "metadata": {
        "id": "201610e4-85fc-4f96-ac28-46eed17ba0c8",
        "outputId": "a35b4456-7e12-4a96-e636-2afffe2aaeab"
      },
      "outputs": [
        {
          "data": {
            "text/plain": [
              "faculty\n",
              "                                                     16839\n",
              "Facultad de Medicina                                   614\n",
              "Facultad de Ingeniería                                 344\n",
              "Facultad de Ciencias Exactas y Naturales               333\n",
              "Facultad de Ciencias Sociales y Humanas                195\n",
              "Facultad de Ciencias Económicas                        141\n",
              "Facultad de Educación                                  136\n",
              "Facultad de Odontología                                133\n",
              "Facultad de Comunicaciones y Filología                 123\n",
              "Facultad de Enfermería                                 108\n",
              "Facultad de Ciencias Agrarias                          105\n",
              "Facultad Nacional de Salud Pública                     100\n",
              "Escuela de Microbiología                                95\n",
              "Facultad de Derecho                                     90\n",
              "Facultad de Ciencias Farmacéuticas y Alimentarias       83\n",
              "Facultad de Artes                                       79\n",
              "Escuela de Idiomas                                      70\n",
              "Escuela de Nutrición y Dietética                        61\n",
              "Instituto de Filosofía                                  56\n",
              "Instituto de Educación Física                           56\n",
              "Dirección de Regionalización                            46\n",
              "Escuela Interamericana de Bibliotecología               41\n",
              "Instituto de Estudios Políticos                         28\n",
              "Instituto de Estudios Regionales                        24\n",
              "Corporación Ambiental                                    8\n",
              "Facultad de Educacion y Pedagogia                        6\n",
              "Facultad de Ingenieria                                   4\n",
              "Escuela de Posgrados                                     4\n",
              "Facultad de Ciencias Naturales y Exactas                 2\n",
              "Vicerrectoria de Regionalizacion                         2\n",
              "Facultad de Ingenierías                                  1\n",
              "Facultad de Salud                                        1\n",
              "Facultad de Humanidades                                  1\n",
              "Facultad de Economía                                     1\n",
              "Facultad de Ciencias de la Educación                     1\n",
              "Name: count, dtype: int64"
            ]
          },
          "execution_count": 21,
          "metadata": {},
          "output_type": "execute_result"
        }
      ],
      "source": [
        "h_index_df.faculty.value_counts()"
      ]
    },
    {
      "cell_type": "code",
      "execution_count": null,
      "id": "0629b77a-4bc6-489c-bed8-8e80809cffb7",
      "metadata": {
        "id": "0629b77a-4bc6-489c-bed8-8e80809cffb7"
      },
      "outputs": [],
      "source": [
        "h_index_df = h_index_df.sort_values(['h_index'],ascending=False).reset_index(drop=True)\n",
        "h_index_df.to_excel('udea_h_index.xlsx', index=False)"
      ]
    },
    {
      "cell_type": "code",
      "execution_count": null,
      "id": "6cd70d5d-8aac-424b-bcc8-5d235404df32",
      "metadata": {
        "id": "6cd70d5d-8aac-424b-bcc8-5d235404df32"
      },
      "outputs": [],
      "source": [
        "#h_index_df['department'] = h_index_df.department.str.replace('Departamento','Instituto')"
      ]
    },
    {
      "cell_type": "code",
      "execution_count": null,
      "id": "c3fb9e70-0372-4515-b2e5-0cf7b1393a59",
      "metadata": {
        "id": "c3fb9e70-0372-4515-b2e5-0cf7b1393a59"
      },
      "outputs": [],
      "source": [
        "#h_index_df =\n",
        "h_index_df[h_index_df.department.apply(lambda d: d in ['Instituto de Biología', 'Instituto de Química',\n",
        "       'Instituto de Física',  'Instituto de Matemáticas'])\n",
        "      ].sort_values(['department','h_index'],ascending=False).reset_index(drop=True)"
      ]
    },
    {
      "cell_type": "code",
      "execution_count": null,
      "id": "2c170aa8-2e4b-48fa-a0e3-3597df55b97b",
      "metadata": {
        "id": "2c170aa8-2e4b-48fa-a0e3-3597df55b97b",
        "outputId": "41e802b6-7db8-4345-b0e3-6acf56150729"
      },
      "outputs": [
        {
          "data": {
            "text/html": [
              "<div>\n",
              "<style scoped>\n",
              "    .dataframe tbody tr th:only-of-type {\n",
              "        vertical-align: middle;\n",
              "    }\n",
              "\n",
              "    .dataframe tbody tr th {\n",
              "        vertical-align: top;\n",
              "    }\n",
              "\n",
              "    .dataframe thead th {\n",
              "        text-align: right;\n",
              "    }\n",
              "</style>\n",
              "<table border=\"1\" class=\"dataframe\">\n",
              "  <thead>\n",
              "    <tr style=\"text-align: right;\">\n",
              "      <th></th>\n",
              "      <th>full_name</th>\n",
              "      <th>faculty</th>\n",
              "      <th>department</th>\n",
              "      <th>citations</th>\n",
              "      <th>h_index</th>\n",
              "      <th>id</th>\n",
              "      <th>impactu</th>\n",
              "    </tr>\n",
              "  </thead>\n",
              "  <tbody>\n",
              "    <tr>\n",
              "      <th>4</th>\n",
              "      <td>Jhovanny Andres Mejia Guisao</td>\n",
              "      <td></td>\n",
              "      <td></td>\n",
              "      <td>4565</td>\n",
              "      <td>44</td>\n",
              "      <td>67c2899bc64555ea3e71aedc</td>\n",
              "      <td>https://dev.impactu.colav.co/person/67c2899bc6...</td>\n",
              "    </tr>\n",
              "    <tr>\n",
              "      <th>9</th>\n",
              "      <td>C A Salazar González</td>\n",
              "      <td></td>\n",
              "      <td></td>\n",
              "      <td>3504</td>\n",
              "      <td>36</td>\n",
              "      <td>67c2d9cec64555ea3e7ebb20</td>\n",
              "      <td>https://dev.impactu.colav.co/person/67c2d9cec6...</td>\n",
              "    </tr>\n",
              "    <tr>\n",
              "      <th>12</th>\n",
              "      <td>Mauricio Arcos‐Burgos</td>\n",
              "      <td></td>\n",
              "      <td></td>\n",
              "      <td>5801</td>\n",
              "      <td>34</td>\n",
              "      <td>67c2c532c64555ea3e779793</td>\n",
              "      <td>https://dev.impactu.colav.co/person/67c2c532c6...</td>\n",
              "    </tr>\n",
              "    <tr>\n",
              "      <th>13</th>\n",
              "      <td>J Mejia Guisao</td>\n",
              "      <td></td>\n",
              "      <td></td>\n",
              "      <td>2677</td>\n",
              "      <td>33</td>\n",
              "      <td>67c2cd08c64555ea3e7a55fd</td>\n",
              "      <td>https://dev.impactu.colav.co/person/67c2cd08c6...</td>\n",
              "    </tr>\n",
              "    <tr>\n",
              "      <th>17</th>\n",
              "      <td>Angela Restrepo Moreno</td>\n",
              "      <td></td>\n",
              "      <td></td>\n",
              "      <td>7828</td>\n",
              "      <td>31</td>\n",
              "      <td>67c28945c64555ea3e719a88</td>\n",
              "      <td>https://dev.impactu.colav.co/person/67c28945c6...</td>\n",
              "    </tr>\n",
              "    <tr>\n",
              "      <th>19</th>\n",
              "      <td>J Mejia Guisao</td>\n",
              "      <td></td>\n",
              "      <td></td>\n",
              "      <td>2584</td>\n",
              "      <td>31</td>\n",
              "      <td>67c2ca2dc64555ea3e795828</td>\n",
              "      <td>https://dev.impactu.colav.co/person/67c2ca2dc6...</td>\n",
              "    </tr>\n",
              "    <tr>\n",
              "      <th>22</th>\n",
              "      <td>Juan-manuel Anaya Cabrera</td>\n",
              "      <td></td>\n",
              "      <td></td>\n",
              "      <td>3204</td>\n",
              "      <td>29</td>\n",
              "      <td>67c28943c64555ea3e7199fc</td>\n",
              "      <td>https://dev.impactu.colav.co/person/67c28943c6...</td>\n",
              "    </tr>\n",
              "    <tr>\n",
              "      <th>39</th>\n",
              "      <td>Yakeel Tatiana Quiroz G</td>\n",
              "      <td></td>\n",
              "      <td></td>\n",
              "      <td>3847</td>\n",
              "      <td>24</td>\n",
              "      <td>67c2ec0ec64555ea3e8510c0</td>\n",
              "      <td>https://dev.impactu.colav.co/person/67c2ec0ec6...</td>\n",
              "    </tr>\n",
              "    <tr>\n",
              "      <th>43</th>\n",
              "      <td>Silvio Urcuqui‐Inchima</td>\n",
              "      <td></td>\n",
              "      <td></td>\n",
              "      <td>1803</td>\n",
              "      <td>23</td>\n",
              "      <td>67c2e605c64555ea3e82feb5</td>\n",
              "      <td>https://dev.impactu.colav.co/person/67c2e605c6...</td>\n",
              "    </tr>\n",
              "    <tr>\n",
              "      <th>45</th>\n",
              "      <td>Juan Carlos Arango Lasprilla</td>\n",
              "      <td></td>\n",
              "      <td></td>\n",
              "      <td>2143</td>\n",
              "      <td>23</td>\n",
              "      <td>67c28953c64555ea3e719d94</td>\n",
              "      <td>https://dev.impactu.colav.co/person/67c28953c6...</td>\n",
              "    </tr>\n",
              "    <tr>\n",
              "      <th>67</th>\n",
              "      <td>J Mejia Guisao</td>\n",
              "      <td></td>\n",
              "      <td></td>\n",
              "      <td>1380</td>\n",
              "      <td>21</td>\n",
              "      <td>67c2cc0bc64555ea3e79fb39</td>\n",
              "      <td>https://dev.impactu.colav.co/person/67c2cc0bc6...</td>\n",
              "    </tr>\n",
              "    <tr>\n",
              "      <th>86</th>\n",
              "      <td>Miguel Eduardo Mora Ramos</td>\n",
              "      <td></td>\n",
              "      <td></td>\n",
              "      <td>1099</td>\n",
              "      <td>19</td>\n",
              "      <td>67c28985c64555ea3e71a9d0</td>\n",
              "      <td>https://dev.impactu.colav.co/person/67c28985c6...</td>\n",
              "    </tr>\n",
              "    <tr>\n",
              "      <th>90</th>\n",
              "      <td>Angela Maria Tobon Orozco</td>\n",
              "      <td></td>\n",
              "      <td></td>\n",
              "      <td>1818</td>\n",
              "      <td>19</td>\n",
              "      <td>67c28945c64555ea3e719a89</td>\n",
              "      <td>https://dev.impactu.colav.co/person/67c28945c6...</td>\n",
              "    </tr>\n",
              "    <tr>\n",
              "      <th>96</th>\n",
              "      <td>Ligia Sierra Garcia</td>\n",
              "      <td></td>\n",
              "      <td></td>\n",
              "      <td>1263</td>\n",
              "      <td>19</td>\n",
              "      <td>67c28943c64555ea3e7199f6</td>\n",
              "      <td>https://dev.impactu.colav.co/person/67c28943c6...</td>\n",
              "    </tr>\n",
              "    <tr>\n",
              "      <th>103</th>\n",
              "      <td>Beatriz Lucia Gomez Giraldo</td>\n",
              "      <td></td>\n",
              "      <td></td>\n",
              "      <td>965</td>\n",
              "      <td>18</td>\n",
              "      <td>67c28945c64555ea3e719a85</td>\n",
              "      <td>https://dev.impactu.colav.co/person/67c28945c6...</td>\n",
              "    </tr>\n",
              "    <tr>\n",
              "      <th>105</th>\n",
              "      <td>Ricardo Leon Restrepo Arango</td>\n",
              "      <td></td>\n",
              "      <td></td>\n",
              "      <td>873</td>\n",
              "      <td>18</td>\n",
              "      <td>67c28960c64555ea3e71a0a3</td>\n",
              "      <td>https://dev.impactu.colav.co/person/67c28960c6...</td>\n",
              "    </tr>\n",
              "    <tr>\n",
              "      <th>127</th>\n",
              "      <td>F Ramirez</td>\n",
              "      <td></td>\n",
              "      <td></td>\n",
              "      <td>1013</td>\n",
              "      <td>17</td>\n",
              "      <td>67c2e196c64555ea3e81714f</td>\n",
              "      <td>https://dev.impactu.colav.co/person/67c2e196c6...</td>\n",
              "    </tr>\n",
              "    <tr>\n",
              "      <th>128</th>\n",
              "      <td>Sandra Colorado‐Yohar</td>\n",
              "      <td></td>\n",
              "      <td></td>\n",
              "      <td>1017</td>\n",
              "      <td>17</td>\n",
              "      <td>67c2d3e4c64555ea3e7cace3</td>\n",
              "      <td>https://dev.impactu.colav.co/person/67c2d3e4c6...</td>\n",
              "    </tr>\n",
              "    <tr>\n",
              "      <th>129</th>\n",
              "      <td>Martha Lucia Quinones Pinzon</td>\n",
              "      <td></td>\n",
              "      <td></td>\n",
              "      <td>1032</td>\n",
              "      <td>17</td>\n",
              "      <td>67c288ffc64555ea3e718ff2</td>\n",
              "      <td>https://dev.impactu.colav.co/person/67c288ffc6...</td>\n",
              "    </tr>\n",
              "    <tr>\n",
              "      <th>141</th>\n",
              "      <td>José Luis Sanz‐Vicario</td>\n",
              "      <td></td>\n",
              "      <td></td>\n",
              "      <td>1486</td>\n",
              "      <td>16</td>\n",
              "      <td>67c2e4b7c64555ea3e828674</td>\n",
              "      <td>https://dev.impactu.colav.co/person/67c2e4b7c6...</td>\n",
              "    </tr>\n",
              "    <tr>\n",
              "      <th>148</th>\n",
              "      <td>Juan Carlos Quintana Castillo</td>\n",
              "      <td></td>\n",
              "      <td></td>\n",
              "      <td>778</td>\n",
              "      <td>16</td>\n",
              "      <td>67c2893cc64555ea3e719829</td>\n",
              "      <td>https://dev.impactu.colav.co/person/67c2893cc6...</td>\n",
              "    </tr>\n",
              "    <tr>\n",
              "      <th>151</th>\n",
              "      <td>Natalia Pabón‐Mora</td>\n",
              "      <td></td>\n",
              "      <td></td>\n",
              "      <td>616</td>\n",
              "      <td>16</td>\n",
              "      <td>67c2cd2cc64555ea3e7a6042</td>\n",
              "      <td>https://dev.impactu.colav.co/person/67c2cd2cc6...</td>\n",
              "    </tr>\n",
              "    <tr>\n",
              "      <th>154</th>\n",
              "      <td>William Hernan Arias Perez</td>\n",
              "      <td></td>\n",
              "      <td></td>\n",
              "      <td>1523</td>\n",
              "      <td>15</td>\n",
              "      <td>67c2893cc64555ea3e719833</td>\n",
              "      <td>https://dev.impactu.colav.co/person/67c2893cc6...</td>\n",
              "    </tr>\n",
              "    <tr>\n",
              "      <th>157</th>\n",
              "      <td>N Woods</td>\n",
              "      <td></td>\n",
              "      <td></td>\n",
              "      <td>591</td>\n",
              "      <td>15</td>\n",
              "      <td>67c2cfd0c64555ea3e7b4bde</td>\n",
              "      <td>https://dev.impactu.colav.co/person/67c2cfd0c6...</td>\n",
              "    </tr>\n",
              "    <tr>\n",
              "      <th>160</th>\n",
              "      <td>Constanza Elena Duque Velez</td>\n",
              "      <td></td>\n",
              "      <td></td>\n",
              "      <td>1858</td>\n",
              "      <td>15</td>\n",
              "      <td>67c2893cc64555ea3e71982c</td>\n",
              "      <td>https://dev.impactu.colav.co/person/67c2893cc6...</td>\n",
              "    </tr>\n",
              "    <tr>\n",
              "      <th>161</th>\n",
              "      <td>Orfa Yamile Bocanegra Garcia</td>\n",
              "      <td></td>\n",
              "      <td></td>\n",
              "      <td>874</td>\n",
              "      <td>15</td>\n",
              "      <td>67c2895cc64555ea3e719f7b</td>\n",
              "      <td>https://dev.impactu.colav.co/person/67c2895cc6...</td>\n",
              "    </tr>\n",
              "    <tr>\n",
              "      <th>168</th>\n",
              "      <td>Natalia Andrea Taborda Vanegas</td>\n",
              "      <td></td>\n",
              "      <td></td>\n",
              "      <td>602</td>\n",
              "      <td>15</td>\n",
              "      <td>67c2894cc64555ea3e719c54</td>\n",
              "      <td>https://dev.impactu.colav.co/person/67c2894cc6...</td>\n",
              "    </tr>\n",
              "    <tr>\n",
              "      <th>179</th>\n",
              "      <td>Marcela Moncada Velez</td>\n",
              "      <td></td>\n",
              "      <td></td>\n",
              "      <td>4295</td>\n",
              "      <td>14</td>\n",
              "      <td>67c28953c64555ea3e719d91</td>\n",
              "      <td>https://dev.impactu.colav.co/person/67c28953c6...</td>\n",
              "    </tr>\n",
              "    <tr>\n",
              "      <th>186</th>\n",
              "      <td>José Contreras‐Calderón</td>\n",
              "      <td></td>\n",
              "      <td></td>\n",
              "      <td>1085</td>\n",
              "      <td>14</td>\n",
              "      <td>67c2d95ac64555ea3e7e975d</td>\n",
              "      <td>https://dev.impactu.colav.co/person/67c2d95ac6...</td>\n",
              "    </tr>\n",
              "    <tr>\n",
              "      <th>187</th>\n",
              "      <td>F Ramírez</td>\n",
              "      <td></td>\n",
              "      <td></td>\n",
              "      <td>524</td>\n",
              "      <td>14</td>\n",
              "      <td>67c2ec2ec64555ea3e851f1e</td>\n",
              "      <td>https://dev.impactu.colav.co/person/67c2ec2ec6...</td>\n",
              "    </tr>\n",
              "    <tr>\n",
              "      <th>190</th>\n",
              "      <td>Jessica Paola Rey  Suarez</td>\n",
              "      <td></td>\n",
              "      <td></td>\n",
              "      <td>657</td>\n",
              "      <td>14</td>\n",
              "      <td>67c28937c64555ea3e7196a6</td>\n",
              "      <td>https://dev.impactu.colav.co/person/67c28937c6...</td>\n",
              "    </tr>\n",
              "    <tr>\n",
              "      <th>202</th>\n",
              "      <td>Marcela Moncada‐Vélez</td>\n",
              "      <td></td>\n",
              "      <td></td>\n",
              "      <td>3954</td>\n",
              "      <td>14</td>\n",
              "      <td>67c2f3cdc64555ea3e87bebb</td>\n",
              "      <td>https://dev.impactu.colav.co/person/67c2f3cdc6...</td>\n",
              "    </tr>\n",
              "    <tr>\n",
              "      <th>204</th>\n",
              "      <td>Thanh-Thai T Truong</td>\n",
              "      <td></td>\n",
              "      <td></td>\n",
              "      <td>1011</td>\n",
              "      <td>14</td>\n",
              "      <td>67c2de6bc64555ea3e804e73</td>\n",
              "      <td>https://dev.impactu.colav.co/person/67c2de6bc6...</td>\n",
              "    </tr>\n",
              "    <tr>\n",
              "      <th>205</th>\n",
              "      <td>Diego Alonso Sepulveda Falla</td>\n",
              "      <td></td>\n",
              "      <td></td>\n",
              "      <td>2052</td>\n",
              "      <td>14</td>\n",
              "      <td>67c28948c64555ea3e719b6a</td>\n",
              "      <td>https://dev.impactu.colav.co/person/67c28948c6...</td>\n",
              "    </tr>\n",
              "    <tr>\n",
              "      <th>206</th>\n",
              "      <td>Margarita Giraldo</td>\n",
              "      <td></td>\n",
              "      <td></td>\n",
              "      <td>1599</td>\n",
              "      <td>14</td>\n",
              "      <td>67c2ce48c64555ea3e7abe21</td>\n",
              "      <td>https://dev.impactu.colav.co/person/67c2ce48c6...</td>\n",
              "    </tr>\n",
              "    <tr>\n",
              "      <th>212</th>\n",
              "      <td>Juan Camilo Vásquez Correa</td>\n",
              "      <td></td>\n",
              "      <td></td>\n",
              "      <td>765</td>\n",
              "      <td>13</td>\n",
              "      <td>67c28939c64555ea3e719748</td>\n",
              "      <td>https://dev.impactu.colav.co/person/67c28939c6...</td>\n",
              "    </tr>\n",
              "    <tr>\n",
              "      <th>225</th>\n",
              "      <td>Misael Cortes Rodriguez</td>\n",
              "      <td></td>\n",
              "      <td></td>\n",
              "      <td>788</td>\n",
              "      <td>13</td>\n",
              "      <td>67c288f7c64555ea3e718c75</td>\n",
              "      <td>https://dev.impactu.colav.co/person/67c288f7c6...</td>\n",
              "    </tr>\n",
              "    <tr>\n",
              "      <th>227</th>\n",
              "      <td>Nancy Yamile Acelas Soto</td>\n",
              "      <td></td>\n",
              "      <td></td>\n",
              "      <td>761</td>\n",
              "      <td>13</td>\n",
              "      <td>67c28962c64555ea3e71a0ff</td>\n",
              "      <td>https://dev.impactu.colav.co/person/67c28962c6...</td>\n",
              "    </tr>\n",
              "    <tr>\n",
              "      <th>230</th>\n",
              "      <td>J Mejia Guisao</td>\n",
              "      <td></td>\n",
              "      <td></td>\n",
              "      <td>775</td>\n",
              "      <td>13</td>\n",
              "      <td>67c2bdbec64555ea3e74f56f</td>\n",
              "      <td>https://dev.impactu.colav.co/person/67c2bdbec6...</td>\n",
              "    </tr>\n",
              "    <tr>\n",
              "      <th>241</th>\n",
              "      <td>Benjamin Alberto Rojano</td>\n",
              "      <td></td>\n",
              "      <td></td>\n",
              "      <td>456</td>\n",
              "      <td>13</td>\n",
              "      <td>67c288f9c64555ea3e718d3e</td>\n",
              "      <td>https://dev.impactu.colav.co/person/67c288f9c6...</td>\n",
              "    </tr>\n",
              "    <tr>\n",
              "      <th>243</th>\n",
              "      <td>Sara Luz Gomez Maya</td>\n",
              "      <td></td>\n",
              "      <td></td>\n",
              "      <td>428</td>\n",
              "      <td>13</td>\n",
              "      <td>67c288fec64555ea3e718fd8</td>\n",
              "      <td>https://dev.impactu.colav.co/person/67c288fec6...</td>\n",
              "    </tr>\n",
              "    <tr>\n",
              "      <th>246</th>\n",
              "      <td>Leidy Johana Vargas Munoz</td>\n",
              "      <td></td>\n",
              "      <td></td>\n",
              "      <td>430</td>\n",
              "      <td>13</td>\n",
              "      <td>67c2895ac64555ea3e719f01</td>\n",
              "      <td>https://dev.impactu.colav.co/person/67c2895ac6...</td>\n",
              "    </tr>\n",
              "    <tr>\n",
              "      <th>258</th>\n",
              "      <td>E Reyes‐Gómez</td>\n",
              "      <td></td>\n",
              "      <td></td>\n",
              "      <td>408</td>\n",
              "      <td>12</td>\n",
              "      <td>67c2b9d7c64555ea3e738964</td>\n",
              "      <td>https://dev.impactu.colav.co/person/67c2b9d7c6...</td>\n",
              "    </tr>\n",
              "    <tr>\n",
              "      <th>262</th>\n",
              "      <td>Catalina de Bedout Gomez</td>\n",
              "      <td></td>\n",
              "      <td></td>\n",
              "      <td>397</td>\n",
              "      <td>12</td>\n",
              "      <td>67c28945c64555ea3e719a84</td>\n",
              "      <td>https://dev.impactu.colav.co/person/67c28945c6...</td>\n",
              "    </tr>\n",
              "    <tr>\n",
              "      <th>265</th>\n",
              "      <td>Ana Liliana Giraldo Aguirre</td>\n",
              "      <td></td>\n",
              "      <td></td>\n",
              "      <td>1206</td>\n",
              "      <td>12</td>\n",
              "      <td>67c2896cc64555ea3e71a35d</td>\n",
              "      <td>https://dev.impactu.colav.co/person/67c2896cc6...</td>\n",
              "    </tr>\n",
              "    <tr>\n",
              "      <th>269</th>\n",
              "      <td>Jose Fernando Munoz Gomez</td>\n",
              "      <td></td>\n",
              "      <td></td>\n",
              "      <td>678</td>\n",
              "      <td>12</td>\n",
              "      <td>67c2896dc64555ea3e71a3ab</td>\n",
              "      <td>https://dev.impactu.colav.co/person/67c2896dc6...</td>\n",
              "    </tr>\n",
              "    <tr>\n",
              "      <th>273</th>\n",
              "      <td>Monica Echeverry Rendon</td>\n",
              "      <td></td>\n",
              "      <td></td>\n",
              "      <td>492</td>\n",
              "      <td>12</td>\n",
              "      <td>67c28953c64555ea3e719da4</td>\n",
              "      <td>https://dev.impactu.colav.co/person/67c28953c6...</td>\n",
              "    </tr>\n",
              "    <tr>\n",
              "      <th>275</th>\n",
              "      <td>Pilar Cossio Tejada</td>\n",
              "      <td></td>\n",
              "      <td></td>\n",
              "      <td>447</td>\n",
              "      <td>12</td>\n",
              "      <td>67c2895cc64555ea3e719f71</td>\n",
              "      <td>https://dev.impactu.colav.co/person/67c2895cc6...</td>\n",
              "    </tr>\n",
              "    <tr>\n",
              "      <th>278</th>\n",
              "      <td>Esteban Correa Bedoya</td>\n",
              "      <td></td>\n",
              "      <td></td>\n",
              "      <td>582</td>\n",
              "      <td>12</td>\n",
              "      <td>67c28961c64555ea3e71a0b6</td>\n",
              "      <td>https://dev.impactu.colav.co/person/67c28961c6...</td>\n",
              "    </tr>\n",
              "    <tr>\n",
              "      <th>282</th>\n",
              "      <td>Rigoberto Ríos‐Estepa</td>\n",
              "      <td></td>\n",
              "      <td></td>\n",
              "      <td>460</td>\n",
              "      <td>12</td>\n",
              "      <td>67c2c51ec64555ea3e7792e2</td>\n",
              "      <td>https://dev.impactu.colav.co/person/67c2c51ec6...</td>\n",
              "    </tr>\n",
              "  </tbody>\n",
              "</table>\n",
              "</div>"
            ],
            "text/plain": [
              "                          full_name faculty department  citations  h_index  \\\n",
              "4      Jhovanny Andres Mejia Guisao                          4565       44   \n",
              "9              C A Salazar González                          3504       36   \n",
              "12            Mauricio Arcos‐Burgos                          5801       34   \n",
              "13                   J Mejia Guisao                          2677       33   \n",
              "17           Angela Restrepo Moreno                          7828       31   \n",
              "19                   J Mejia Guisao                          2584       31   \n",
              "22        Juan-manuel Anaya Cabrera                          3204       29   \n",
              "39          Yakeel Tatiana Quiroz G                          3847       24   \n",
              "43           Silvio Urcuqui‐Inchima                          1803       23   \n",
              "45     Juan Carlos Arango Lasprilla                          2143       23   \n",
              "67                   J Mejia Guisao                          1380       21   \n",
              "86        Miguel Eduardo Mora Ramos                          1099       19   \n",
              "90        Angela Maria Tobon Orozco                          1818       19   \n",
              "96              Ligia Sierra Garcia                          1263       19   \n",
              "103     Beatriz Lucia Gomez Giraldo                           965       18   \n",
              "105    Ricardo Leon Restrepo Arango                           873       18   \n",
              "127                       F Ramirez                          1013       17   \n",
              "128           Sandra Colorado‐Yohar                          1017       17   \n",
              "129    Martha Lucia Quinones Pinzon                          1032       17   \n",
              "141          José Luis Sanz‐Vicario                          1486       16   \n",
              "148   Juan Carlos Quintana Castillo                           778       16   \n",
              "151              Natalia Pabón‐Mora                           616       16   \n",
              "154      William Hernan Arias Perez                          1523       15   \n",
              "157                         N Woods                           591       15   \n",
              "160     Constanza Elena Duque Velez                          1858       15   \n",
              "161    Orfa Yamile Bocanegra Garcia                           874       15   \n",
              "168  Natalia Andrea Taborda Vanegas                           602       15   \n",
              "179           Marcela Moncada Velez                          4295       14   \n",
              "186         José Contreras‐Calderón                          1085       14   \n",
              "187                       F Ramírez                           524       14   \n",
              "190       Jessica Paola Rey  Suarez                           657       14   \n",
              "202           Marcela Moncada‐Vélez                          3954       14   \n",
              "204             Thanh-Thai T Truong                          1011       14   \n",
              "205    Diego Alonso Sepulveda Falla                          2052       14   \n",
              "206               Margarita Giraldo                          1599       14   \n",
              "212     Juan Camilo Vásquez Correa                           765       13   \n",
              "225         Misael Cortes Rodriguez                           788       13   \n",
              "227        Nancy Yamile Acelas Soto                           761       13   \n",
              "230                  J Mejia Guisao                           775       13   \n",
              "241         Benjamin Alberto Rojano                           456       13   \n",
              "243             Sara Luz Gomez Maya                           428       13   \n",
              "246       Leidy Johana Vargas Munoz                           430       13   \n",
              "258                   E Reyes‐Gómez                           408       12   \n",
              "262        Catalina de Bedout Gomez                           397       12   \n",
              "265     Ana Liliana Giraldo Aguirre                          1206       12   \n",
              "269       Jose Fernando Munoz Gomez                           678       12   \n",
              "273         Monica Echeverry Rendon                           492       12   \n",
              "275             Pilar Cossio Tejada                           447       12   \n",
              "278           Esteban Correa Bedoya                           582       12   \n",
              "282           Rigoberto Ríos‐Estepa                           460       12   \n",
              "\n",
              "                           id  \\\n",
              "4    67c2899bc64555ea3e71aedc   \n",
              "9    67c2d9cec64555ea3e7ebb20   \n",
              "12   67c2c532c64555ea3e779793   \n",
              "13   67c2cd08c64555ea3e7a55fd   \n",
              "17   67c28945c64555ea3e719a88   \n",
              "19   67c2ca2dc64555ea3e795828   \n",
              "22   67c28943c64555ea3e7199fc   \n",
              "39   67c2ec0ec64555ea3e8510c0   \n",
              "43   67c2e605c64555ea3e82feb5   \n",
              "45   67c28953c64555ea3e719d94   \n",
              "67   67c2cc0bc64555ea3e79fb39   \n",
              "86   67c28985c64555ea3e71a9d0   \n",
              "90   67c28945c64555ea3e719a89   \n",
              "96   67c28943c64555ea3e7199f6   \n",
              "103  67c28945c64555ea3e719a85   \n",
              "105  67c28960c64555ea3e71a0a3   \n",
              "127  67c2e196c64555ea3e81714f   \n",
              "128  67c2d3e4c64555ea3e7cace3   \n",
              "129  67c288ffc64555ea3e718ff2   \n",
              "141  67c2e4b7c64555ea3e828674   \n",
              "148  67c2893cc64555ea3e719829   \n",
              "151  67c2cd2cc64555ea3e7a6042   \n",
              "154  67c2893cc64555ea3e719833   \n",
              "157  67c2cfd0c64555ea3e7b4bde   \n",
              "160  67c2893cc64555ea3e71982c   \n",
              "161  67c2895cc64555ea3e719f7b   \n",
              "168  67c2894cc64555ea3e719c54   \n",
              "179  67c28953c64555ea3e719d91   \n",
              "186  67c2d95ac64555ea3e7e975d   \n",
              "187  67c2ec2ec64555ea3e851f1e   \n",
              "190  67c28937c64555ea3e7196a6   \n",
              "202  67c2f3cdc64555ea3e87bebb   \n",
              "204  67c2de6bc64555ea3e804e73   \n",
              "205  67c28948c64555ea3e719b6a   \n",
              "206  67c2ce48c64555ea3e7abe21   \n",
              "212  67c28939c64555ea3e719748   \n",
              "225  67c288f7c64555ea3e718c75   \n",
              "227  67c28962c64555ea3e71a0ff   \n",
              "230  67c2bdbec64555ea3e74f56f   \n",
              "241  67c288f9c64555ea3e718d3e   \n",
              "243  67c288fec64555ea3e718fd8   \n",
              "246  67c2895ac64555ea3e719f01   \n",
              "258  67c2b9d7c64555ea3e738964   \n",
              "262  67c28945c64555ea3e719a84   \n",
              "265  67c2896cc64555ea3e71a35d   \n",
              "269  67c2896dc64555ea3e71a3ab   \n",
              "273  67c28953c64555ea3e719da4   \n",
              "275  67c2895cc64555ea3e719f71   \n",
              "278  67c28961c64555ea3e71a0b6   \n",
              "282  67c2c51ec64555ea3e7792e2   \n",
              "\n",
              "                                               impactu  \n",
              "4    https://dev.impactu.colav.co/person/67c2899bc6...  \n",
              "9    https://dev.impactu.colav.co/person/67c2d9cec6...  \n",
              "12   https://dev.impactu.colav.co/person/67c2c532c6...  \n",
              "13   https://dev.impactu.colav.co/person/67c2cd08c6...  \n",
              "17   https://dev.impactu.colav.co/person/67c28945c6...  \n",
              "19   https://dev.impactu.colav.co/person/67c2ca2dc6...  \n",
              "22   https://dev.impactu.colav.co/person/67c28943c6...  \n",
              "39   https://dev.impactu.colav.co/person/67c2ec0ec6...  \n",
              "43   https://dev.impactu.colav.co/person/67c2e605c6...  \n",
              "45   https://dev.impactu.colav.co/person/67c28953c6...  \n",
              "67   https://dev.impactu.colav.co/person/67c2cc0bc6...  \n",
              "86   https://dev.impactu.colav.co/person/67c28985c6...  \n",
              "90   https://dev.impactu.colav.co/person/67c28945c6...  \n",
              "96   https://dev.impactu.colav.co/person/67c28943c6...  \n",
              "103  https://dev.impactu.colav.co/person/67c28945c6...  \n",
              "105  https://dev.impactu.colav.co/person/67c28960c6...  \n",
              "127  https://dev.impactu.colav.co/person/67c2e196c6...  \n",
              "128  https://dev.impactu.colav.co/person/67c2d3e4c6...  \n",
              "129  https://dev.impactu.colav.co/person/67c288ffc6...  \n",
              "141  https://dev.impactu.colav.co/person/67c2e4b7c6...  \n",
              "148  https://dev.impactu.colav.co/person/67c2893cc6...  \n",
              "151  https://dev.impactu.colav.co/person/67c2cd2cc6...  \n",
              "154  https://dev.impactu.colav.co/person/67c2893cc6...  \n",
              "157  https://dev.impactu.colav.co/person/67c2cfd0c6...  \n",
              "160  https://dev.impactu.colav.co/person/67c2893cc6...  \n",
              "161  https://dev.impactu.colav.co/person/67c2895cc6...  \n",
              "168  https://dev.impactu.colav.co/person/67c2894cc6...  \n",
              "179  https://dev.impactu.colav.co/person/67c28953c6...  \n",
              "186  https://dev.impactu.colav.co/person/67c2d95ac6...  \n",
              "187  https://dev.impactu.colav.co/person/67c2ec2ec6...  \n",
              "190  https://dev.impactu.colav.co/person/67c28937c6...  \n",
              "202  https://dev.impactu.colav.co/person/67c2f3cdc6...  \n",
              "204  https://dev.impactu.colav.co/person/67c2de6bc6...  \n",
              "205  https://dev.impactu.colav.co/person/67c28948c6...  \n",
              "206  https://dev.impactu.colav.co/person/67c2ce48c6...  \n",
              "212  https://dev.impactu.colav.co/person/67c28939c6...  \n",
              "225  https://dev.impactu.colav.co/person/67c288f7c6...  \n",
              "227  https://dev.impactu.colav.co/person/67c28962c6...  \n",
              "230  https://dev.impactu.colav.co/person/67c2bdbec6...  \n",
              "241  https://dev.impactu.colav.co/person/67c288f9c6...  \n",
              "243  https://dev.impactu.colav.co/person/67c288fec6...  \n",
              "246  https://dev.impactu.colav.co/person/67c2895ac6...  \n",
              "258  https://dev.impactu.colav.co/person/67c2b9d7c6...  \n",
              "262  https://dev.impactu.colav.co/person/67c28945c6...  \n",
              "265  https://dev.impactu.colav.co/person/67c2896cc6...  \n",
              "269  https://dev.impactu.colav.co/person/67c2896dc6...  \n",
              "273  https://dev.impactu.colav.co/person/67c28953c6...  \n",
              "275  https://dev.impactu.colav.co/person/67c2895cc6...  \n",
              "278  https://dev.impactu.colav.co/person/67c28961c6...  \n",
              "282  https://dev.impactu.colav.co/person/67c2c51ec6...  "
            ]
          },
          "execution_count": 34,
          "metadata": {},
          "output_type": "execute_result"
        }
      ],
      "source": [
        "h_index_df[h_index_df.faculty==''][:50]"
      ]
    },
    {
      "cell_type": "code",
      "execution_count": null,
      "id": "086f53c8-5ae2-4962-9a98-9bfff59208f9",
      "metadata": {
        "id": "086f53c8-5ae2-4962-9a98-9bfff59208f9"
      },
      "outputs": [],
      "source": [
        "h_index_df.to_excel('fcen_h_index.xlsx', index=False)"
      ]
    },
    {
      "cell_type": "code",
      "execution_count": null,
      "id": "5866932e-3d19-4e2f-a57a-099cff234040",
      "metadata": {
        "id": "5866932e-3d19-4e2f-a57a-099cff234040"
      },
      "outputs": [],
      "source": []
    }
  ],
  "metadata": {
    "kernelspec": {
      "display_name": "Python 3 (ipykernel)",
      "language": "python",
      "name": "python3"
    },
    "language_info": {
      "codemirror_mode": {
        "name": "ipython",
        "version": 3
      },
      "file_extension": ".py",
      "mimetype": "text/x-python",
      "name": "python",
      "nbconvert_exporter": "python",
      "pygments_lexer": "ipython3",
      "version": "3.11.2"
    },
    "colab": {
      "provenance": [],
      "include_colab_link": true
    }
  },
  "nbformat": 4,
  "nbformat_minor": 5
}